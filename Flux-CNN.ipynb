{
 "cells": [
  {
   "cell_type": "code",
   "execution_count": 10,
   "metadata": {},
   "outputs": [],
   "source": [
    "using Flux, Statistics\n",
    "using Flux: onehotbatch, onecold, crossentropy, throttle\n",
    "using Base.Iterators: repeated, partition\n",
    "using Printf, BSON\n",
    "using MLDatasets\n",
    "using Downloads\n",
    "using NPZ\n",
    "using Images, Colors\n",
    "using BenchmarkTools"
   ]
  },
  {
   "cell_type": "code",
   "execution_count": 11,
   "metadata": {},
   "outputs": [],
   "source": [
    "train_dict = npzread(\"KMNIST/kmnist-train-imgs.npz\")\n",
    "train_labels = npzread(\"KMNIST/kmnist-train-labels.npz\")\n",
    "test_dict = npzread(\"KMNIST/kmnist-test-imgs.npz\")\n",
    "test_labels = npzread(\"KMNIST/kmnist-test-labels.npz\");"
   ]
  },
  {
   "cell_type": "code",
   "execution_count": 12,
   "metadata": {},
   "outputs": [
    {
     "name": "stdout",
     "output_type": "stream",
     "text": [
      "(28, 28, 1, 60000)(28, 28, 1, 10000)"
     ]
    }
   ],
   "source": [
    "train_y = convert(Vector{Int64}, train_labels[\"arr_0\"])\n",
    "test_y = convert(Vector{Int64}, test_labels[\"arr_0\"])\n",
    "\n",
    "train_x = convert(Array{Float32}, train_dict[\"arr_0\"])/255\n",
    "train_x = permutedims(train_x, (2,3,1))\n",
    "train_x = reshape(train_x, (28,28,1,60000))\n",
    "print(size(train_x))\n",
    "\n",
    "test_x = convert(Array{Float32}, test_dict[\"arr_0\"])/255\n",
    "test_x = permutedims(test_x, (2,3,1))\n",
    "test_x = reshape(test_x, (28,28,1,10000))\n",
    "print(size(test_x))"
   ]
  },
  {
   "cell_type": "code",
   "execution_count": 37,
   "metadata": {},
   "outputs": [
    {
     "data": {
      "image/png": "[encoded data removed]",
      "text/html": [
       "<img src=\"data:image/png;base64,iVBORw0KGgoAAAANSUhEUgAAAHAAAABwCAAAAADji6uXAAAABGdBTUEAALGPC/xhBQAAAAFzUkdCAK7OHOkAAAAgY0hSTQAAeiYAAICEAAD6AAAAgOgAAHUwAADqYAAAOpgAABdwnLpRPAAAAutJREFUaAW9wUuI1QUYB9Azzq+ppodmlFmCQhRCjZSPShChbKWQhFLQRhCCDIIkBoysVYGbECrIihJ6SRsjKJI2UZkgPUiQKC0IA5OYzBTfztwWd/HHmTujc4XvnOjgJtyFHRrTcDu+x4juRbEoFsWig0VYix0aG7Ee27EWx3QnikWxKBYdDOB+rMAPuAePYwpWYzN26U4Ui2JRLDr4E1PxKVro0diDf3UvikWxKBYdfIS7sQ4HcQsux3d4EEd1L4pFsSgWHZzBM9iEEezFDLyAoy5NFItiUSzG0cLfWI0Z+A27XLooFsWiWEygD89iGIM4gV4M614Ui2JRLCbwJOZjN2ZgK/biPRzUmI8z+BVnTSyKRbEoFuOYjee1DeB19Gh7DEvxn7ar8SJm4mO8g190FsWiWBSLDi7DNkzX1o+j2I8FmId78YW2r/EAtmEQT2MLBnHa+aJYFIti0cEGLNbYiefwB37CdZitcRWCNZiDhXgK+/Ca80WxKBbFYpRF2KjxFVbjOE7hRyzDFRotTMMgBjTmGSuKRbEoFqPcjD5tn2EzhrRNwT4swwL04T5sxBJcqXEArxorikWxKBajfIvfsR9r8I/GCIa0XYOZ2IobMIRjGMLneBOHjRXFolgUi1GGcAfOoGWsudpO4gAG0IvTOIuWiUWxKBbFooPTOpuDJdp60cIJkxPFolgUi0nox43arkcPWiYnikWxKBaTsBK92obRMnlRLIpFsbhIwRyNQ7oTxaJYFItxPIKD2KltBHM1/tKdKBbFoliMYyrexjp8gH7cpnFEd6JYFItiMY4P8RLeQgvf4JzGsO5EsSgWxWIcx/EyNuFd/IxrNY7oThSLYlEsJvAKlmMp7nS+h7EHfZiKL3HKhUWxKBbFYgIn8ShWYQNmaazAcm09+ARP4JCJRbEoFsXiAg5hC7bjIazHrQh6NFZiFhbjrPFFsSgWxeIiDOMw3sD7mI5VWImF6McIduOciUWxKBbF/ge8xYyhDO729AAAAABJRU5ErkJg\">"
      ],
      "text/plain": [
       "28×28 Array{Gray{Float32},2} with eltype Gray{Float32}:\n",
       " Gray{Float32}(0.0)  Gray{Float32}(0.0)  …  Gray{Float32}(0.0)\n",
       " Gray{Float32}(0.0)  Gray{Float32}(0.0)     Gray{Float32}(0.0)\n",
       " Gray{Float32}(0.0)  Gray{Float32}(0.0)     Gray{Float32}(0.0)\n",
       " Gray{Float32}(0.0)  Gray{Float32}(0.0)     Gray{Float32}(0.0)\n",
       " Gray{Float32}(0.0)  Gray{Float32}(0.0)     Gray{Float32}(0.0)\n",
       " Gray{Float32}(0.0)  Gray{Float32}(0.0)  …  Gray{Float32}(0.0)\n",
       " Gray{Float32}(0.0)  Gray{Float32}(0.0)     Gray{Float32}(0.0)\n",
       " Gray{Float32}(0.0)  Gray{Float32}(0.0)     Gray{Float32}(0.0)\n",
       " Gray{Float32}(0.0)  Gray{Float32}(0.0)     Gray{Float32}(0.0)\n",
       " Gray{Float32}(0.0)  Gray{Float32}(0.0)     Gray{Float32}(0.0)\n",
       " Gray{Float32}(0.0)  Gray{Float32}(0.0)  …  Gray{Float32}(0.0)\n",
       " Gray{Float32}(0.0)  Gray{Float32}(0.0)     Gray{Float32}(0.0)\n",
       " Gray{Float32}(0.0)  Gray{Float32}(0.0)     Gray{Float32}(0.0)\n",
       " ⋮                                       ⋱  \n",
       " Gray{Float32}(0.0)  Gray{Float32}(0.0)     Gray{Float32}(0.0)\n",
       " Gray{Float32}(0.0)  Gray{Float32}(0.0)     Gray{Float32}(0.0)\n",
       " Gray{Float32}(0.0)  Gray{Float32}(0.0)     Gray{Float32}(0.0)\n",
       " Gray{Float32}(0.0)  Gray{Float32}(0.0)     Gray{Float32}(0.0)\n",
       " Gray{Float32}(0.0)  Gray{Float32}(0.0)  …  Gray{Float32}(0.0)\n",
       " Gray{Float32}(0.0)  Gray{Float32}(0.0)     Gray{Float32}(0.0)\n",
       " Gray{Float32}(0.0)  Gray{Float32}(0.0)     Gray{Float32}(0.0)\n",
       " Gray{Float32}(0.0)  Gray{Float32}(0.0)     Gray{Float32}(0.0)\n",
       " Gray{Float32}(0.0)  Gray{Float32}(0.0)     Gray{Float32}(0.0)\n",
       " Gray{Float32}(0.0)  Gray{Float32}(0.0)  …  Gray{Float32}(0.0)\n",
       " Gray{Float32}(0.0)  Gray{Float32}(0.0)     Gray{Float32}(0.0)\n",
       " Gray{Float32}(0.0)  Gray{Float32}(0.0)     Gray{Float32}(0.0)"
      ]
     },
     "execution_count": 37,
     "metadata": {},
     "output_type": "execute_result"
    }
   ],
   "source": [
    "a = test_x[:,:,1,2]\n",
    "Gray.(a)"
   ]
  },
  {
   "cell_type": "code",
   "execution_count": 43,
   "metadata": {},
   "outputs": [
    {
     "name": "stdout",
     "output_type": "stream",
     "text": [
      "9"
     ]
    }
   ],
   "source": [
    "print(test_y[2])"
   ]
  },
  {
   "cell_type": "code",
   "execution_count": 13,
   "metadata": {},
   "outputs": [
    {
     "data": {
      "text/plain": [
       "10-element Vector{String}:\n",
       " \"o\"\n",
       " \"ki\"\n",
       " \"su\"\n",
       " \"tsu\"\n",
       " \"na\"\n",
       " \"ha\"\n",
       " \"ma\"\n",
       " \"ya\"\n",
       " \"re\"\n",
       " \"wo\""
      ]
     },
     "execution_count": 13,
     "metadata": {},
     "output_type": "execute_result"
    }
   ],
   "source": [
    "labels = [\"o\", \"ki\", \"su\", \"tsu\", \"na\", \"ha\", \"ma\", \"ya\", \"re\", \"wo\"]"
   ]
  },
  {
   "cell_type": "code",
   "execution_count": 19,
   "metadata": {},
   "outputs": [
    {
     "data": {
      "text/plain": [
       "100-element DataLoader(::Tuple{Array{Float32, 4}, Vector{Int64}}, shuffle=true)\n",
       "  with first element:\n",
       "  (28×28×1×1 Array{Float32, 4}, 1-element Vector{Int64},)"
      ]
     },
     "execution_count": 19,
     "metadata": {},
     "output_type": "execute_result"
    }
   ],
   "source": [
    "train_set = Flux.DataLoader((train_x[:,:,:,1:100],train_y[1:100]), shuffle=true, batchsize=1)"
   ]
  },
  {
   "cell_type": "code",
   "execution_count": 14,
   "metadata": {},
   "outputs": [
    {
     "data": {
      "text/plain": [
       "prepare_model (generic function with 1 method)"
      ]
     },
     "execution_count": 14,
     "metadata": {},
     "output_type": "execute_result"
    }
   ],
   "source": [
    "function prepare_model()\n",
    "    @info(\"Constructing model...\")\n",
    "    model = Chain(\n",
    "        Conv((5, 5), 1=>20, pad=(0,0), relu),\n",
    "        x -> maxpool(x, (2,2)),\n",
    "\n",
    "        Conv((5, 5), 20=>50, pad=(0,0), relu),\n",
    "        x -> maxpool(x, (2,2)),\n",
    "\n",
    "        #x -> reshape(x, :, size(x, 4)),\n",
    "        x -> Flux.flatten(x),\n",
    "        Dense(800, 500),\n",
    "        Dense(500, 10),\n",
    "\n",
    "        softmax,\n",
    "    )\n",
    "    return model\n",
    "end"
   ]
  },
  {
   "cell_type": "code",
   "execution_count": 6,
   "metadata": {},
   "outputs": [
    {
     "name": "stderr",
     "output_type": "stream",
     "text": [
      "\u001b[36m\u001b[1m[ \u001b[22m\u001b[39m\u001b[36m\u001b[1mInfo: \u001b[22m\u001b[39mConstructing model...\n"
     ]
    },
    {
     "data": {
      "text/plain": [
       "Chain(\n",
       "  Conv((5, 5), 1 => 20, relu),          \u001b[90m# 520 parameters\u001b[39m\n",
       "  var\"#1#4\"(),\n",
       "  Conv((5, 5), 20 => 50, relu),         \u001b[90m# 25_050 parameters\u001b[39m\n",
       "  var\"#2#5\"(),\n",
       "  var\"#3#6\"(),\n",
       "  Dense(800 => 500),                    \u001b[90m# 400_500 parameters\u001b[39m\n",
       "  Dense(500 => 10),                     \u001b[90m# 5_010 parameters\u001b[39m\n",
       "  NNlib.softmax,\n",
       ") \u001b[90m                  # Total: 8 arrays, \u001b[39m431_080 parameters, 1.645 MiB."
      ]
     },
     "execution_count": 6,
     "metadata": {},
     "output_type": "execute_result"
    }
   ],
   "source": [
    "model = prepare_model()"
   ]
  },
  {
   "cell_type": "code",
   "execution_count": 62,
   "metadata": {},
   "outputs": [
    {
     "data": {
      "text/plain": [
       "(28, 28, 20, 32)"
      ]
     },
     "execution_count": 62,
     "metadata": {},
     "output_type": "execute_result"
    }
   ],
   "source": [
    "c = Conv((3,3), 1=>20, pad=(1,1), relu)\n",
    "Flux.outputsize(c, (28, 28, 1, 32))  # returns (13, 13, 5, 32)"
   ]
  },
  {
   "cell_type": "code",
   "execution_count": 15,
   "metadata": {},
   "outputs": [
    {
     "data": {
      "text/plain": [
       "loss (generic function with 1 method)"
      ]
     },
     "execution_count": 15,
     "metadata": {},
     "output_type": "execute_result"
    }
   ],
   "source": [
    "function loss(result, label)\n",
    "\treturn Flux.crossentropy(result,Flux.onehotbatch(label,0:9))\n",
    "end"
   ]
  },
  {
   "cell_type": "code",
   "execution_count": 16,
   "metadata": {},
   "outputs": [
    {
     "data": {
      "text/plain": [
       "accuracy (generic function with 1 method)"
      ]
     },
     "execution_count": 16,
     "metadata": {},
     "output_type": "execute_result"
    }
   ],
   "source": [
    "function accuracy(model)\n",
    "    correct = 0\n",
    "    for index in 1:length(test_y)\n",
    "        probs = model(Flux.unsqueeze(test_x[:,:,:,index],dims=3))\n",
    "        predicted_digit = argmax(probs)[1]-1\n",
    "        if predicted_digit == test_y[index]\n",
    "            correct +=1\n",
    "        end\n",
    "    end\n",
    "    return correct/length(test_y)\n",
    "end"
   ]
  },
  {
   "cell_type": "code",
   "execution_count": 17,
   "metadata": {
    "scrolled": true
   },
   "outputs": [
    {
     "data": {
      "text/plain": [
       "train (generic function with 1 method)"
      ]
     },
     "execution_count": 17,
     "metadata": {},
     "output_type": "execute_result"
    }
   ],
   "source": [
    "function train(model, opt_params, train_set)\n",
    "    my_log = []\n",
    "    for epoch in 1:3\n",
    "      losses = Float32[]\n",
    "      for (i, data) in enumerate(train_set)\n",
    "        input, label = data\n",
    "\n",
    "        val, grads = Flux.withgradient(model) do m\n",
    "\n",
    "          result = m(input)\n",
    "          loss(result, label)\n",
    "        end\n",
    "\n",
    "        push!(losses, val)\n",
    "\n",
    "        if !isfinite(val)\n",
    "          @warn \"loss is $val on item $i\" epoch\n",
    "          continue\n",
    "        end\n",
    "\n",
    "        Flux.update!(opt_params, model, grads[1])\n",
    "      end\n",
    "\n",
    "      acc = accuracy(model)\n",
    "      push!(my_log, (; acc, losses))\n",
    "\n",
    "      println(\"Epoch $epoch finished with accuracy: $acc\")\n",
    "    end\n",
    "end"
   ]
  },
  {
   "cell_type": "code",
   "execution_count": 10,
   "metadata": {
    "scrolled": true
   },
   "outputs": [
    {
     "name": "stderr",
     "output_type": "stream",
     "text": [
      "\u001b[36m\u001b[1m[ \u001b[22m\u001b[39m\u001b[36m\u001b[1mInfo: \u001b[22m\u001b[39mConstructing model...\n"
     ]
    },
    {
     "name": "stdout",
     "output_type": "stream",
     "text": [
      "Epoch 1 finished with accuracy: 0.2876\n",
      "Epoch 2 finished with accuracy: 0.4\n",
      "Epoch 3 finished with accuracy: 0.4595\n",
      "Epoch 1 finished with accuracy: 0.4736\n",
      "Epoch 2 finished with accuracy: 0.4279\n",
      "Epoch 3 finished with accuracy: 0.464\n",
      "Epoch 1 finished with accuracy: 0.4835\n",
      "Epoch 2 finished with accuracy: 0.4944\n",
      "Epoch 3 finished with accuracy: 0.4942\n"
     ]
    },
    {
     "name": "stderr",
     "output_type": "stream",
     "text": [
      "\u001b[36m\u001b[1m[ \u001b[22m\u001b[39m\u001b[36m\u001b[1mInfo: \u001b[22m\u001b[39mConstructing model...\n"
     ]
    },
    {
     "name": "stdout",
     "output_type": "stream",
     "text": [
      "Epoch 1 finished with accuracy: 0.3831\n",
      "Epoch 2 finished with accuracy: 0.417\n",
      "Epoch 3 finished with accuracy: 0.5259\n",
      "Epoch 1 finished with accuracy: 0.5498\n",
      "Epoch 2 finished with accuracy: 0.5626\n",
      "Epoch 3 finished with accuracy: 0.5754\n",
      "Epoch 1 finished with accuracy: 0.541\n",
      "Epoch 2 finished with accuracy: 0.5458\n",
      "Epoch 3 finished with accuracy: 0.5613\n"
     ]
    },
    {
     "name": "stderr",
     "output_type": "stream",
     "text": [
      "\u001b[36m\u001b[1m[ \u001b[22m\u001b[39m\u001b[36m\u001b[1mInfo: \u001b[22m\u001b[39mConstructing model...\n"
     ]
    },
    {
     "name": "stdout",
     "output_type": "stream",
     "text": [
      "Epoch 1 finished with accuracy: 0.5222\n",
      "Epoch 2 finished with accuracy: 0.6014\n",
      "Epoch 3 finished with accuracy: 0.5875\n",
      "Epoch 1 finished with accuracy: 0.5672\n",
      "Epoch 2 finished with accuracy: 0.6459\n",
      "Epoch 3 finished with accuracy: 0.5501\n",
      "Epoch 1 finished with accuracy: 0.6475\n",
      "Epoch 2 finished with accuracy: 0.6606\n",
      "Epoch 3 finished with accuracy: 0.6612\n"
     ]
    },
    {
     "name": "stderr",
     "output_type": "stream",
     "text": [
      "\u001b[36m\u001b[1m[ \u001b[22m\u001b[39m\u001b[36m\u001b[1mInfo: \u001b[22m\u001b[39mConstructing model...\n"
     ]
    },
    {
     "name": "stdout",
     "output_type": "stream",
     "text": [
      "Epoch 1 finished with accuracy: 0.5904\n",
      "Epoch 2 finished with accuracy: 0.6001\n",
      "Epoch 3 finished with accuracy: 0.6192\n",
      "Epoch 1 finished with accuracy: 0.6756\n",
      "Epoch 2 finished with accuracy: 0.6052\n",
      "Epoch 3 finished with accuracy: 0.6738\n",
      "Epoch 1 finished with accuracy: 0.6382\n",
      "Epoch 2 finished with accuracy: 0.6101\n",
      "Epoch 3 finished with accuracy: 0.6639\n"
     ]
    },
    {
     "name": "stderr",
     "output_type": "stream",
     "text": [
      "\u001b[36m\u001b[1m[ \u001b[22m\u001b[39m\u001b[36m\u001b[1mInfo: \u001b[22m\u001b[39mConstructing model...\n"
     ]
    },
    {
     "name": "stdout",
     "output_type": "stream",
     "text": [
      "Epoch 1 finished with accuracy: 0.5535\n",
      "Epoch 2 finished with accuracy: 0.628\n",
      "Epoch 3 finished with accuracy: 0.6406\n",
      "Epoch 1 finished with accuracy: 0.6658\n",
      "Epoch 2 finished with accuracy: 0.6933\n",
      "Epoch 3 finished with accuracy: 0.6776\n",
      "Epoch 1 finished with accuracy: 0.6726\n",
      "Epoch 2 finished with accuracy: 0.7025\n",
      "Epoch 3 finished with accuracy: 0.7012\n"
     ]
    },
    {
     "name": "stderr",
     "output_type": "stream",
     "text": [
      "\u001b[36m\u001b[1m[ \u001b[22m\u001b[39m\u001b[36m\u001b[1mInfo: \u001b[22m\u001b[39mConstructing model...\n"
     ]
    },
    {
     "name": "stdout",
     "output_type": "stream",
     "text": [
      "Epoch 1 finished with accuracy: 0.4801\n",
      "Epoch 2 finished with accuracy: 0.5995\n",
      "Epoch 3 finished with accuracy: 0.6481\n",
      "Epoch 1 finished with accuracy: 0.62\n",
      "Epoch 2 finished with accuracy: 0.6409\n",
      "Epoch 3 finished with accuracy: 0.6574\n",
      "Epoch 1 finished with accuracy: 0.6378\n",
      "Epoch 2 finished with accuracy: 0.6068\n",
      "Epoch 3 finished with accuracy: 0.6293\n"
     ]
    },
    {
     "name": "stderr",
     "output_type": "stream",
     "text": [
      "\u001b[36m\u001b[1m[ \u001b[22m\u001b[39m\u001b[36m\u001b[1mInfo: \u001b[22m\u001b[39mConstructing model...\n"
     ]
    },
    {
     "name": "stdout",
     "output_type": "stream",
     "text": [
      "Epoch 1 finished with accuracy: 0.5414\n",
      "Epoch 2 finished with accuracy: 0.5614\n",
      "Epoch 3 finished with accuracy: 0.5544\n",
      "Epoch 1 finished with accuracy: 0.6226\n",
      "Epoch 2 finished with accuracy: 0.6408\n",
      "Epoch 3 finished with accuracy: 0.6375\n",
      "Epoch 1 finished with accuracy: 0.6561\n",
      "Epoch 2 finished with accuracy: 0.6759\n",
      "Epoch 3 finished with accuracy: 0.6396\n"
     ]
    },
    {
     "name": "stderr",
     "output_type": "stream",
     "text": [
      "\u001b[36m\u001b[1m[ \u001b[22m\u001b[39m\u001b[36m\u001b[1mInfo: \u001b[22m\u001b[39mConstructing model...\n"
     ]
    },
    {
     "name": "stdout",
     "output_type": "stream",
     "text": [
      "Epoch 1 finished with accuracy: 0.6282\n",
      "Epoch 2 finished with accuracy: 0.6066\n",
      "Epoch 3 finished with accuracy: 0.6608\n",
      "Epoch 1 finished with accuracy: 0.6769\n",
      "Epoch 2 finished with accuracy: 0.6469\n",
      "Epoch 3 finished with accuracy: 0.7051\n",
      "Epoch 1 finished with accuracy: 0.7074\n",
      "Epoch 2 finished with accuracy: 0.6596\n",
      "Epoch 3 finished with accuracy: 0.6947\n"
     ]
    },
    {
     "name": "stderr",
     "output_type": "stream",
     "text": [
      "\u001b[36m\u001b[1m[ \u001b[22m\u001b[39m\u001b[36m\u001b[1mInfo: \u001b[22m\u001b[39mConstructing model...\n"
     ]
    },
    {
     "name": "stdout",
     "output_type": "stream",
     "text": [
      "Epoch 1 finished with accuracy: 0.5363\n",
      "Epoch 2 finished with accuracy: 0.6323\n",
      "Epoch 3 finished with accuracy: 0.6525\n",
      "Epoch 1 finished with accuracy: 0.6857\n",
      "Epoch 2 finished with accuracy: 0.6643\n",
      "Epoch 3 finished with accuracy: 0.6627\n",
      "Epoch 1 finished with accuracy: 0.7012\n",
      "Epoch 2 finished with accuracy: 0.6873\n",
      "Epoch 3 finished with accuracy: 0.665\n"
     ]
    },
    {
     "name": "stderr",
     "output_type": "stream",
     "text": [
      "\u001b[36m\u001b[1m[ \u001b[22m\u001b[39m\u001b[36m\u001b[1mInfo: \u001b[22m\u001b[39mConstructing model...\n"
     ]
    },
    {
     "name": "stdout",
     "output_type": "stream",
     "text": [
      "Epoch 1 finished with accuracy: 0.6526\n",
      "Epoch 2 finished with accuracy: 0.6646\n",
      "Epoch 3 finished with accuracy: 0.7203\n",
      "Epoch 1 finished with accuracy: 0.6912\n",
      "Epoch 2 finished with accuracy: 0.6643\n",
      "Epoch 3 finished with accuracy: 0.704\n",
      "Epoch 1 finished with accuracy: 0.7113\n",
      "Epoch 2 finished with accuracy: 0.7452\n",
      "Epoch 3 finished with accuracy: 0.6527\n"
     ]
    },
    {
     "name": "stderr",
     "output_type": "stream",
     "text": [
      "\u001b[36m\u001b[1m[ \u001b[22m\u001b[39m\u001b[36m\u001b[1mInfo: \u001b[22m\u001b[39mConstructing model...\n"
     ]
    },
    {
     "name": "stdout",
     "output_type": "stream",
     "text": [
      "Epoch 1 finished with accuracy: 0.5898\n",
      "Epoch 2 finished with accuracy: 0.688\n",
      "Epoch 3 finished with accuracy: 0.6721\n",
      "Epoch 1 finished with accuracy: 0.6986\n",
      "Epoch 2 finished with accuracy: 0.6922\n",
      "Epoch 3 finished with accuracy: 0.6964\n",
      "Epoch 1 finished with accuracy: 0.7015\n",
      "Epoch 2 finished with accuracy: 0.7066\n",
      "Epoch 3 finished with accuracy: 0.6762\n"
     ]
    },
    {
     "name": "stderr",
     "output_type": "stream",
     "text": [
      "\u001b[36m\u001b[1m[ \u001b[22m\u001b[39m\u001b[36m\u001b[1mInfo: \u001b[22m\u001b[39mConstructing model...\n"
     ]
    },
    {
     "name": "stdout",
     "output_type": "stream",
     "text": [
      "Epoch 1 finished with accuracy: 0.6426\n",
      "Epoch 2 finished with accuracy: 0.6989\n",
      "Epoch 3 finished with accuracy: 0.6588\n",
      "Epoch 1 finished with accuracy: 0.703\n",
      "Epoch 2 finished with accuracy: 0.7511\n",
      "Epoch 3 finished with accuracy: 0.7283\n",
      "Epoch 1 finished with accuracy: 0.7155\n",
      "Epoch 2 finished with accuracy: 0.7215\n",
      "Epoch 3 finished with accuracy: 0.688\n"
     ]
    },
    {
     "name": "stderr",
     "output_type": "stream",
     "text": [
      "\u001b[36m\u001b[1m[ \u001b[22m\u001b[39m\u001b[36m\u001b[1mInfo: \u001b[22m\u001b[39mConstructing model...\n"
     ]
    },
    {
     "name": "stdout",
     "output_type": "stream",
     "text": [
      "Epoch 1 finished with accuracy: 0.6659\n",
      "Epoch 2 finished with accuracy: 0.6968\n",
      "Epoch 3 finished with accuracy: 0.6905\n",
      "Epoch 1 finished with accuracy: 0.7027\n",
      "Epoch 2 finished with accuracy: 0.6913\n",
      "Epoch 3 finished with accuracy: 0.722\n",
      "Epoch 1 finished with accuracy: 0.6958\n",
      "Epoch 2 finished with accuracy: 0.7193\n",
      "Epoch 3 finished with accuracy: 0.7503\n"
     ]
    },
    {
     "name": "stderr",
     "output_type": "stream",
     "text": [
      "\u001b[36m\u001b[1m[ \u001b[22m\u001b[39m\u001b[36m\u001b[1mInfo: \u001b[22m\u001b[39mConstructing model...\n"
     ]
    },
    {
     "name": "stdout",
     "output_type": "stream",
     "text": [
      "Epoch 1 finished with accuracy: 0.6125\n",
      "Epoch 2 finished with accuracy: 0.7253\n",
      "Epoch 3 finished with accuracy: 0.7059\n",
      "Epoch 1 finished with accuracy: 0.7431\n",
      "Epoch 2 finished with accuracy: 0.7051\n",
      "Epoch 3 finished with accuracy: 0.6998\n",
      "Epoch 1 finished with accuracy: 0.731\n",
      "Epoch 2 finished with accuracy: 0.7397\n",
      "Epoch 3 finished with accuracy: 0.7308\n"
     ]
    },
    {
     "name": "stderr",
     "output_type": "stream",
     "text": [
      "\u001b[36m\u001b[1m[ \u001b[22m\u001b[39m\u001b[36m\u001b[1mInfo: \u001b[22m\u001b[39mConstructing model...\n"
     ]
    },
    {
     "name": "stdout",
     "output_type": "stream",
     "text": [
      "Epoch 1 finished with accuracy: 0.6439\n",
      "Epoch 2 finished with accuracy: 0.6994\n",
      "Epoch 3 finished with accuracy: 0.7382\n",
      "Epoch 1 finished with accuracy: 0.716\n",
      "Epoch 2 finished with accuracy: 0.7163\n",
      "Epoch 3 finished with accuracy: 0.7433\n",
      "Epoch 1 finished with accuracy: 0.7269\n",
      "Epoch 2 finished with accuracy: 0.7542\n",
      "Epoch 3 finished with accuracy: 0.7181\n"
     ]
    },
    {
     "name": "stderr",
     "output_type": "stream",
     "text": [
      "\u001b[36m\u001b[1m[ \u001b[22m\u001b[39m\u001b[36m\u001b[1mInfo: \u001b[22m\u001b[39mConstructing model...\n"
     ]
    },
    {
     "name": "stdout",
     "output_type": "stream",
     "text": [
      "Epoch 1 finished with accuracy: 0.6494\n",
      "Epoch 2 finished with accuracy: 0.7139\n",
      "Epoch 3 finished with accuracy: 0.6851\n",
      "Epoch 1 finished with accuracy: 0.7665\n",
      "Epoch 2 finished with accuracy: 0.7539\n",
      "Epoch 3 finished with accuracy: 0.7463\n",
      "Epoch 1 finished with accuracy: 0.7488\n",
      "Epoch 2 finished with accuracy: 0.7473\n",
      "Epoch 3 finished with accuracy: 0.7147\n"
     ]
    },
    {
     "name": "stderr",
     "output_type": "stream",
     "text": [
      "\u001b[36m\u001b[1m[ \u001b[22m\u001b[39m\u001b[36m\u001b[1mInfo: \u001b[22m\u001b[39mConstructing model...\n"
     ]
    },
    {
     "name": "stdout",
     "output_type": "stream",
     "text": [
      "Epoch 1 finished with accuracy: 0.6748\n",
      "Epoch 2 finished with accuracy: 0.7236\n",
      "Epoch 3 finished with accuracy: 0.7265\n",
      "Epoch 1 finished with accuracy: 0.7464\n",
      "Epoch 2 finished with accuracy: 0.7433\n",
      "Epoch 3 finished with accuracy: 0.7337\n",
      "Epoch 1 finished with accuracy: 0.7423\n",
      "Epoch 2 finished with accuracy: 0.7199\n",
      "Epoch 3 finished with accuracy: 0.7548\n"
     ]
    },
    {
     "name": "stderr",
     "output_type": "stream",
     "text": [
      "\u001b[36m\u001b[1m[ \u001b[22m\u001b[39m\u001b[36m\u001b[1mInfo: \u001b[22m\u001b[39mConstructing model...\n"
     ]
    },
    {
     "name": "stdout",
     "output_type": "stream",
     "text": [
      "Epoch 1 finished with accuracy: 0.6814\n",
      "Epoch 2 finished with accuracy: 0.6493\n",
      "Epoch 3 finished with accuracy: 0.731\n",
      "Epoch 1 finished with accuracy: 0.7253\n",
      "Epoch 2 finished with accuracy: 0.7258\n",
      "Epoch 3 finished with accuracy: 0.7354\n",
      "Epoch 1 finished with accuracy: 0.7363\n",
      "Epoch 2 finished with accuracy: 0.7365\n",
      "Epoch 3 finished with accuracy: 0.7385\n"
     ]
    },
    {
     "name": "stderr",
     "output_type": "stream",
     "text": [
      "\u001b[36m\u001b[1m[ \u001b[22m\u001b[39m\u001b[36m\u001b[1mInfo: \u001b[22m\u001b[39mConstructing model...\n"
     ]
    },
    {
     "name": "stdout",
     "output_type": "stream",
     "text": [
      "Epoch 1 finished with accuracy: 0.6384\n",
      "Epoch 2 finished with accuracy: 0.6953\n",
      "Epoch 3 finished with accuracy: 0.7038\n",
      "Epoch 1 finished with accuracy: 0.729\n",
      "Epoch 2 finished with accuracy: 0.7557\n",
      "Epoch 3 finished with accuracy: 0.7724\n",
      "Epoch 1 finished with accuracy: 0.7373\n",
      "Epoch 2 finished with accuracy: 0.7542\n",
      "Epoch 3 finished with accuracy: 0.6837\n"
     ]
    },
    {
     "name": "stderr",
     "output_type": "stream",
     "text": [
      "\u001b[36m\u001b[1m[ \u001b[22m\u001b[39m\u001b[36m\u001b[1mInfo: \u001b[22m\u001b[39mConstructing model...\n"
     ]
    },
    {
     "name": "stdout",
     "output_type": "stream",
     "text": [
      "Epoch 1 finished with accuracy: 0.6904\n",
      "Epoch 2 finished with accuracy: 0.7364\n",
      "Epoch 3 finished with accuracy: 0.7245\n",
      "Epoch 1 finished with accuracy: 0.7356\n",
      "Epoch 2 finished with accuracy: 0.7487\n",
      "Epoch 3 finished with accuracy: 0.7603\n",
      "Epoch 1 finished with accuracy: 0.7611\n",
      "Epoch 2 finished with accuracy: 0.7402\n",
      "Epoch 3 finished with accuracy: 0.7599\n",
      "[26.5344015, 27.356916950000002, 29.696160600000002, 30.0919357, 32.256415350000005, 33.5704232, 35.322004, 36.821576900000004, 38.9527055, 41.06188265, 44.2727371, 45.630998600000005, 47.6514779, 49.8009512, 51.379144800000006, 53.317580050000004, 54.0447688, 55.7449859, 58.98406835, 61.35161]\n",
      "[10.12143088796, 10.873601473448002, 11.625764566248002, 12.377925782152001, 13.130089381416001, 13.882266789272, 14.634447593416, 15.386647911320003, 16.138829311304, 16.891009504712, 17.643191277096, 18.395370978936, 19.147551574536003, 19.899732780872, 20.651913465848, 21.404092899560002, 22.156273644120002, 22.908453748152002, 23.660679776552, 24.412861131848]\n"
     ]
    }
   ],
   "source": [
    "BenchmarkTools.DEFAULT_PARAMETERS.samples = 1\n",
    "BenchmarkTools.DEFAULT_PARAMETERS.seconds = 200\n",
    "\n",
    "times = zeros(20)\n",
    "memory = zeros(20)\n",
    "\n",
    "num = 1\n",
    "for i in 100:100:2000\n",
    "    train_set = Flux.DataLoader((train_x[:,:,:,1:i],train_y[1:i]), shuffle=true, batchsize=1)\n",
    "    model = prepare_model()\n",
    "    opt_state = Flux.setup(Adam(), model)\n",
    "    b = @benchmark train($model, $opt_state, $train_set) samples = 2 evals = 1 seconds = 100\n",
    "    b = mean(b)\n",
    "    times[num] = b.time * 10e-10 \n",
    "    memory[num] = b.memory * 9.31*10e-11\n",
    "    num += 1\n",
    "end\n",
    "\n",
    "println(times)\n",
    "println(memory)"
   ]
  },
  {
   "cell_type": "code",
   "execution_count": null,
   "metadata": {},
   "outputs": [
    {
     "name": "stderr",
     "output_type": "stream",
     "text": [
      "\u001b[36m\u001b[1m[ \u001b[22m\u001b[39m\u001b[36m\u001b[1mInfo: \u001b[22m\u001b[39mConstructing model...\n"
     ]
    },
    {
     "name": "stdout",
     "output_type": "stream",
     "text": [
      "Epoch 1 finished with accuracy: 0.7353\n",
      "Epoch 2 finished with accuracy: 0.778\n",
      "Epoch 3 finished with accuracy: 0.7665\n",
      "Epoch 1 finished with accuracy: 0.7802\n",
      "Epoch 2 finished with accuracy: 0.7971\n",
      "Epoch 3 finished with accuracy: 0.7884\n",
      "77.488025531.934673336720003"
     ]
    },
    {
     "name": "stderr",
     "output_type": "stream",
     "text": [
      "\u001b[36m\u001b[1m[ \u001b[22m\u001b[39m\u001b[36m\u001b[1mInfo: \u001b[22m\u001b[39mConstructing model...\n"
     ]
    },
    {
     "name": "stdout",
     "output_type": "stream",
     "text": [
      "Epoch 1 finished with accuracy: 0.7592\n",
      "Epoch 2 finished with accuracy: 0.7844\n",
      "Epoch 3 finished with accuracy: 0.7998\n",
      "Epoch 1 finished with accuracy: 0.7838\n",
      "Epoch 2 finished with accuracy: 0.7953\n",
      "Epoch 3 finished with accuracy: 0.8149\n",
      "96.8835395000000139.456468470776"
     ]
    },
    {
     "name": "stderr",
     "output_type": "stream",
     "text": [
      "\u001b[36m\u001b[1m[ \u001b[22m\u001b[39m\u001b[36m\u001b[1mInfo: \u001b[22m\u001b[39mConstructing model...\n"
     ]
    },
    {
     "name": "stdout",
     "output_type": "stream",
     "text": [
      "Epoch 1 finished with accuracy: 0.7198\n",
      "Epoch 2 finished with accuracy: 0.7755\n",
      "Epoch 3 finished with accuracy: 0.7829\n",
      "Epoch 1 finished with accuracy: 0.7859\n",
      "Epoch 2 finished with accuracy: 0.8132\n",
      "Epoch 3 finished with accuracy: 0.8052\n",
      "115.729479646.978370520872005"
     ]
    },
    {
     "name": "stderr",
     "output_type": "stream",
     "text": [
      "\u001b[36m\u001b[1m[ \u001b[22m\u001b[39m\u001b[36m\u001b[1mInfo: \u001b[22m\u001b[39mConstructing model...\n"
     ]
    },
    {
     "name": "stdout",
     "output_type": "stream",
     "text": [
      "Epoch 1 finished with accuracy: 0.7857\n",
      "Epoch 2 finished with accuracy: 0.7442\n",
      "Epoch 3 finished with accuracy: 0.828\n",
      "Epoch 1 finished with accuracy: 0.8184\n",
      "Epoch 2 finished with accuracy: 0.8008\n",
      "Epoch 3 finished with accuracy: 0.8136\n",
      "134.81720754.500185839008005"
     ]
    },
    {
     "name": "stderr",
     "output_type": "stream",
     "text": [
      "\u001b[36m\u001b[1m[ \u001b[22m\u001b[39m\u001b[36m\u001b[1mInfo: \u001b[22m\u001b[39mConstructing model...\n"
     ]
    },
    {
     "name": "stdout",
     "output_type": "stream",
     "text": [
      "Epoch 1 finished with accuracy: 0.7758\n",
      "Epoch 2 finished with accuracy: 0.8057\n",
      "Epoch 3 finished with accuracy: 0.835\n",
      "Epoch 1 finished with accuracy: 0.8113\n",
      "Epoch 2 finished with accuracy: 0.8174\n",
      "Epoch 3 finished with accuracy: 0.8255\n",
      "152.7367894000000262.021989828736004"
     ]
    },
    {
     "name": "stderr",
     "output_type": "stream",
     "text": [
      "\u001b[36m\u001b[1m[ \u001b[22m\u001b[39m\u001b[36m\u001b[1mInfo: \u001b[22m\u001b[39mConstructing model...\n"
     ]
    },
    {
     "name": "stdout",
     "output_type": "stream",
     "text": [
      "Epoch 1 finished with accuracy: 0.718\n",
      "Epoch 2 finished with accuracy: 0.7814\n",
      "Epoch 3 finished with accuracy: 0.7891\n",
      "Epoch 1 finished with accuracy: 0.8413\n",
      "Epoch 2 finished with accuracy: 0.8097\n",
      "Epoch 3 finished with accuracy: 0.8132\n",
      "170.298487769.54378407648001"
     ]
    },
    {
     "name": "stderr",
     "output_type": "stream",
     "text": [
      "\u001b[36m\u001b[1m[ \u001b[22m\u001b[39m\u001b[36m\u001b[1mInfo: \u001b[22m\u001b[39mConstructing model...\n"
     ]
    },
    {
     "name": "stdout",
     "output_type": "stream",
     "text": [
      "Epoch 1 finished with accuracy: 0.8122\n"
     ]
    }
   ],
   "source": [
    "BenchmarkTools.DEFAULT_PARAMETERS.samples = 1\n",
    "BenchmarkTools.DEFAULT_PARAMETERS.seconds = 100\n",
    "\n",
    "times = zeros(20)\n",
    "memory = zeros(20)\n",
    "\n",
    "num = 1\n",
    "for i in 3000:1000:10000\n",
    "    train_set = Flux.DataLoader((train_x[:,:,:,1:i],train_y[1:i]), shuffle=true, batchsize=1)\n",
    "    model = prepare_model()\n",
    "    opt_state = Flux.setup(Adam(), model)\n",
    "    b = @benchmark train($model, $opt_state, $train_set) samples = 2 evals = 1 seconds = 60\n",
    "    b = mean(b)\n",
    "    times[num] = b.time * 10e-10 \n",
    "    memory[num] = b.memory * 9.31*10e-11\n",
    "    print(times[num])\n",
    "    print(memory[num])\n",
    "    num += 1\n",
    "end\n",
    "\n",
    "println(times)\n",
    "println(memory)"
   ]
  },
  {
   "cell_type": "code",
   "execution_count": 48,
   "metadata": {},
   "outputs": [
    {
     "name": "stdout",
     "output_type": "stream",
     "text": [
      "Epoch 1 finished with accuracy: 0.5011\n",
      "Epoch 2 finished with accuracy: 0.5017\n",
      "Epoch 3 finished with accuracy: 0.5016\n",
      "Epoch 1 finished with accuracy: 0.5015\n",
      "Epoch 2 finished with accuracy: 0.5019\n",
      "Epoch 3 finished with accuracy: 0.502\n",
      "Epoch 1 finished with accuracy: 0.5024\n",
      "Epoch 2 finished with accuracy: 0.5028\n",
      "Epoch 3 finished with accuracy: 0.5034\n"
     ]
    },
    {
     "data": {
      "text/plain": [
       "BenchmarkTools.Trial: 2 samples with 1 evaluation.\n",
       " Range \u001b[90m(\u001b[39m\u001b[36m\u001b[1mmin\u001b[22m\u001b[39m … \u001b[35mmax\u001b[39m\u001b[90m):  \u001b[39m\u001b[36m\u001b[1m22.820 s\u001b[22m\u001b[39m … \u001b[35m 22.890 s\u001b[39m  \u001b[90m┊\u001b[39m GC \u001b[90m(\u001b[39mmin … max\u001b[90m): \u001b[39m2.92% … 2.82%\n",
       " Time  \u001b[90m(\u001b[39m\u001b[34m\u001b[1mmedian\u001b[22m\u001b[39m\u001b[90m):     \u001b[39m\u001b[34m\u001b[1m22.855 s              \u001b[22m\u001b[39m\u001b[90m┊\u001b[39m GC \u001b[90m(\u001b[39mmedian\u001b[90m):    \u001b[39m2.87%\n",
       " Time  \u001b[90m(\u001b[39m\u001b[32m\u001b[1mmean\u001b[22m\u001b[39m ± \u001b[32mσ\u001b[39m\u001b[90m):   \u001b[39m\u001b[32m\u001b[1m22.855 s\u001b[22m\u001b[39m ± \u001b[32m49.680 ms\u001b[39m  \u001b[90m┊\u001b[39m GC \u001b[90m(\u001b[39mmean ± σ\u001b[90m):  \u001b[39m2.87% ± 0.07%\n",
       "\n",
       "  \u001b[34m█\u001b[39m\u001b[39m \u001b[39m \u001b[39m \u001b[39m \u001b[39m \u001b[39m \u001b[39m \u001b[39m \u001b[39m \u001b[39m \u001b[39m \u001b[39m \u001b[39m \u001b[39m \u001b[39m \u001b[39m \u001b[39m \u001b[39m \u001b[39m \u001b[39m \u001b[39m \u001b[39m \u001b[39m \u001b[39m \u001b[39m \u001b[39m \u001b[39m \u001b[39m \u001b[32m \u001b[39m\u001b[39m \u001b[39m \u001b[39m \u001b[39m \u001b[39m \u001b[39m \u001b[39m \u001b[39m \u001b[39m \u001b[39m \u001b[39m \u001b[39m \u001b[39m \u001b[39m \u001b[39m \u001b[39m \u001b[39m \u001b[39m \u001b[39m \u001b[39m \u001b[39m \u001b[39m \u001b[39m \u001b[39m \u001b[39m \u001b[39m \u001b[39m \u001b[39m█\u001b[39m \u001b[39m \n",
       "  \u001b[34m█\u001b[39m\u001b[39m▁\u001b[39m▁\u001b[39m▁\u001b[39m▁\u001b[39m▁\u001b[39m▁\u001b[39m▁\u001b[39m▁\u001b[39m▁\u001b[39m▁\u001b[39m▁\u001b[39m▁\u001b[39m▁\u001b[39m▁\u001b[39m▁\u001b[39m▁\u001b[39m▁\u001b[39m▁\u001b[39m▁\u001b[39m▁\u001b[39m▁\u001b[39m▁\u001b[39m▁\u001b[39m▁\u001b[39m▁\u001b[39m▁\u001b[39m▁\u001b[39m▁\u001b[32m▁\u001b[39m\u001b[39m▁\u001b[39m▁\u001b[39m▁\u001b[39m▁\u001b[39m▁\u001b[39m▁\u001b[39m▁\u001b[39m▁\u001b[39m▁\u001b[39m▁\u001b[39m▁\u001b[39m▁\u001b[39m▁\u001b[39m▁\u001b[39m▁\u001b[39m▁\u001b[39m▁\u001b[39m▁\u001b[39m▁\u001b[39m▁\u001b[39m▁\u001b[39m▁\u001b[39m▁\u001b[39m▁\u001b[39m▁\u001b[39m▁\u001b[39m▁\u001b[39m█\u001b[39m \u001b[39m▁\n",
       "  22.8 s\u001b[90m         Histogram: frequency by time\u001b[39m         22.9 s \u001b[0m\u001b[1m<\u001b[22m\n",
       "\n",
       " Memory estimate\u001b[90m: \u001b[39m\u001b[33m10.12 GiB\u001b[39m, allocs estimate\u001b[90m: \u001b[39m\u001b[33m3908966\u001b[39m."
      ]
     },
     "execution_count": 48,
     "metadata": {},
     "output_type": "execute_result"
    }
   ],
   "source": [
    "BenchmarkTools.DEFAULT_PARAMETERS.samples = 1\n",
    "BenchmarkTools.DEFAULT_PARAMETERS.seconds = 100\n",
    "opt_state = Flux.setup(Adam(), model)\n",
    "b = @benchmark train($model, $opt_state, $train_set) samples = 2 evals = 1\n"
   ]
  },
  {
   "cell_type": "code",
   "execution_count": 65,
   "metadata": {},
   "outputs": [
    {
     "data": {
      "text/plain": [
       "BenchmarkTools.TrialEstimate: \n",
       "  time:             22.855 s\n",
       "  gctime:           655.934 ms (2.87%)\n",
       "  memory:           10.12 GiB\n",
       "  allocs:           3908966"
      ]
     },
     "execution_count": 65,
     "metadata": {},
     "output_type": "execute_result"
    }
   ],
   "source": [
    "mean(b)"
   ]
  },
  {
   "cell_type": "code",
   "execution_count": 72,
   "metadata": {},
   "outputs": [
    {
     "data": {
      "text/plain": [
       "22.855108700000002"
      ]
     },
     "execution_count": 72,
     "metadata": {},
     "output_type": "execute_result"
    }
   ],
   "source": [
    "mean(b).time * 10e-10 # ns"
   ]
  },
  {
   "cell_type": "code",
   "execution_count": 70,
   "metadata": {},
   "outputs": [
    {
     "data": {
      "text/plain": [
       "10.121429383464001"
      ]
     },
     "execution_count": 70,
     "metadata": {},
     "output_type": "execute_result"
    }
   ],
   "source": [
    "mean(b).memory *  9.31*10e-11  #bytes"
   ]
  },
  {
   "cell_type": "code",
   "execution_count": 88,
   "metadata": {},
   "outputs": [
    {
     "name": "stdout",
     "output_type": "stream",
     "text": [
      "Acc: 0.9054      Loss: 0.16691786\n",
      "Acc: 0.9161      Loss: 0.0820222\n",
      "Acc: 0.9207      Loss: 0.07099748\n",
      "Acc: 0.9214      Loss: 0.06576953\n",
      "Acc: 0.9235      Loss: 0.060587935\n",
      "Acc: 0.9266      Loss: 0.05792978\n",
      "Acc: 0.9256      Loss: 0.05345809\n",
      "Acc: 0.9276      Loss: 0.050454166\n",
      "Acc: 0.9275      Loss: 0.04473641\n",
      "Acc: 0.9302      Loss: 0.041718017\n"
     ]
    }
   ],
   "source": [
    "for i in 1:length(my_log)\n",
    "    println(\"Acc: \", my_log[i].acc, \"      Loss: \", mean(my_log[i].losses))\n",
    "end  "
   ]
  },
  {
   "cell_type": "code",
   "execution_count": 90,
   "metadata": {},
   "outputs": [
    {
     "name": "stdout",
     "output_type": "stream",
     "text": [
      "Float32[4.1362553f-9; 5.082788f-7; 0.0013027663; 1.1742464f-8; 3.6631095f-6; 0.00058181665; 0.998111; 9.30122f-8; 1.3252418f-7; 4.2737853f-9;;]\n",
      "Real: ma         Prediction: ma\n"
     ]
    },
    {
     "data": {
      "image/png": "[encoded data removed]",
      "text/html": [
       "<img src=\"data:image/png;base64,iVBORw0KGgoAAAANSUhEUgAAAHAAAABwCAAAAADji6uXAAAABGdBTUEAALGPC/xhBQAAAAFzUkdCAK7OHOkAAAAgY0hSTQAAeiYAAICEAAD6AAAAgOgAAHUwAADqYAAAOpgAABdwnLpRPAAAAmJJREFUaAW9wT+IlgUcB/BPr987svdSb4kiosCcLI4gcLTdoMmwiKaKljDKPcpEMBrKxcFCU9y60kWnBiFIkCAOjIgGFxMKvIM6vD++5/AMhyDv8zzvwe/ziQ7ewY/414O24RiOY0k3USyKRbHo4LSHm8L7eAFvYVG7KBbFolhswU6sYR2f4wNsGC+KRbEoFluwBwt4HR8iWDNeFItiUSy2YIibWMU3WNMuikWxKBY9TGusYzuex//Yi8N4T7soFsWiWLTYjeO4hf14AsuYwQ78iVfwm26iWBSLYtHib7yIgx5uTuMyBhgZL4pFsSgWLZZxDp9hCX/hLvZhWmMV5zDSLopFsSgWHXyJS7iJFYxwHXO4h0+woJsoFsWiWHSwjht4BM/hY+zVOI9T2NBNFItiUSxazOAXTGOAZxGNEc5jUXdRLIpFsWjxH47gAqZwFRfxKYb4XT9RLIpFsejgCnbjMdzSmMMbeFQ/USyKRbHo6A7u2PQ9DmFVP1EsikWxmNAu3MOSfqJYFItiMYFncBBT+A5n8YNuolgUi2LRw3Ycw7uY0XgNB3AEX2kXxaJYFIse3sQBvIqncBpDBB/hFFaMF8WiWBSLHnZhB/7ANXyBocbTmMVt40WxKBbFoocbmMUhXMVOm7ZhoF0Ui2JRLHr4CbdxAnfxuE3/YFm7KBbFolj0sIKTOIqhB32LRe2iWBSLYtHT13gJL2MPBljEBd1EsSgWxaKnNcxjPwYa81jQTRSLYlEsJjCP6/gVsziDDd1EsSgWxWJCA6zgGn7WXRSLYlEsJvQ2nsRhjHQXxaJYFLsPajFn3IGBCLYAAAAASUVORK5C\">"
      ],
      "text/plain": [
       "28×28 Array{Gray{Float32},2} with eltype Gray{Float32}:\n",
       " Gray{Float32}(0.0)  Gray{Float32}(0.0)  …  Gray{Float32}(0.0)\n",
       " Gray{Float32}(0.0)  Gray{Float32}(0.0)     Gray{Float32}(0.0)\n",
       " Gray{Float32}(0.0)  Gray{Float32}(0.0)     Gray{Float32}(0.0)\n",
       " Gray{Float32}(0.0)  Gray{Float32}(0.0)     Gray{Float32}(0.0)\n",
       " Gray{Float32}(0.0)  Gray{Float32}(0.0)     Gray{Float32}(0.0)\n",
       " Gray{Float32}(0.0)  Gray{Float32}(0.0)  …  Gray{Float32}(0.0)\n",
       " Gray{Float32}(0.0)  Gray{Float32}(0.0)     Gray{Float32}(0.0)\n",
       " Gray{Float32}(0.0)  Gray{Float32}(0.0)     Gray{Float32}(0.0)\n",
       " Gray{Float32}(0.0)  Gray{Float32}(0.0)     Gray{Float32}(0.0)\n",
       " Gray{Float32}(0.0)  Gray{Float32}(0.0)     Gray{Float32}(0.0)\n",
       " Gray{Float32}(0.0)  Gray{Float32}(0.0)  …  Gray{Float32}(0.0)\n",
       " Gray{Float32}(0.0)  Gray{Float32}(0.0)     Gray{Float32}(0.0)\n",
       " Gray{Float32}(0.0)  Gray{Float32}(0.0)     Gray{Float32}(0.0)\n",
       " ⋮                                       ⋱  \n",
       " Gray{Float32}(0.0)  Gray{Float32}(0.0)     Gray{Float32}(0.0)\n",
       " Gray{Float32}(0.0)  Gray{Float32}(0.0)     Gray{Float32}(0.0)\n",
       " Gray{Float32}(0.0)  Gray{Float32}(0.0)     Gray{Float32}(0.0)\n",
       " Gray{Float32}(0.0)  Gray{Float32}(0.0)     Gray{Float32}(0.0)\n",
       " Gray{Float32}(0.0)  Gray{Float32}(0.0)  …  Gray{Float32}(0.0)\n",
       " Gray{Float32}(0.0)  Gray{Float32}(0.0)     Gray{Float32}(0.0)\n",
       " Gray{Float32}(0.0)  Gray{Float32}(0.0)     Gray{Float32}(0.0)\n",
       " Gray{Float32}(0.0)  Gray{Float32}(0.0)     Gray{Float32}(0.0)\n",
       " Gray{Float32}(0.0)  Gray{Float32}(0.0)     Gray{Float32}(0.0)\n",
       " Gray{Float32}(0.0)  Gray{Float32}(0.0)  …  Gray{Float32}(0.0)\n",
       " Gray{Float32}(0.0)  Gray{Float32}(0.0)     Gray{Float32}(0.0)\n",
       " Gray{Float32}(0.0)  Gray{Float32}(0.0)     Gray{Float32}(0.0)"
      ]
     },
     "execution_count": 90,
     "metadata": {},
     "output_type": "execute_result"
    }
   ],
   "source": [
    "id = 364\n",
    "\n",
    "predict = model(Flux.unsqueeze(test_x[:,:,:,id],dims=3))\n",
    "\n",
    "println(predict)\n",
    "println(\"Real: \", labels[test_y[id]+1], \"         Prediction: \", labels[argmax(predict)[1]])\n",
    "a = test_x[:,:,1,id]\n",
    "Gray.(a)"
   ]
  }
 ],
 "metadata": {
  "kernelspec": {
   "display_name": "Julia 1.8.5",
   "language": "julia",
   "name": "julia-1.8"
  },
  "language_info": {
   "file_extension": ".jl",
   "mimetype": "application/julia",
   "name": "julia",
   "version": "1.8.5"
  }
 },
 "nbformat": 4,
 "nbformat_minor": 4
}
