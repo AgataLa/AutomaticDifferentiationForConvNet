{
 "cells": [
  {
   "cell_type": "code",
   "execution_count": 1,
   "metadata": {},
   "outputs": [],
   "source": [
    "using NPZ\n",
    "using Plots\n",
    "using PaddedViews"
   ]
  },
  {
   "cell_type": "markdown",
   "metadata": {},
   "source": [
    "# Wczytanie danych"
   ]
  },
  {
   "cell_type": "code",
   "execution_count": 2,
   "metadata": {},
   "outputs": [],
   "source": [
    "train_dict = npzread(\"KMNIST/kmnist-train-imgs.npz\")\n",
    "train_labels = npzread(\"KMNIST/kmnist-train-labels.npz\")\n",
    "test_dict = npzread(\"KMNIST/kmnist-test-imgs.npz\")\n",
    "test_labels = npzread(\"KMNIST/kmnist-test-labels.npz\");"
   ]
  },
  {
   "cell_type": "code",
   "execution_count": 3,
   "metadata": {},
   "outputs": [],
   "source": [
    "labels = [\"o\", \"ki\", \"su\", \"tsu\", \"na\", \"ha\", \"ma\", \"ya\", \"re\", \"wo\"];"
   ]
  },
  {
   "cell_type": "code",
   "execution_count": 4,
   "metadata": {},
   "outputs": [
    {
     "name": "stdout",
     "output_type": "stream",
     "text": [
      "(28, 28, 1, 60000)"
     ]
    }
   ],
   "source": [
    "train_y = convert(Vector{Int64}, train_labels[\"arr_0\"])\n",
    "test_y = convert(Vector{Int64}, test_labels[\"arr_0\"])\n",
    "\n",
    "train_x = convert(Array{Float32}, train_dict[\"arr_0\"])/255\n",
    "train_x = permutedims(train_x, (2,3,1))\n",
    "train_x = reshape(train_x, (28,28,1,60000))\n",
    "print(size(train_x))\n",
    "\n",
    "test_x = convert(Array{Float32}, test_dict[\"arr_0\"])/255\n",
    "test_x = permutedims(test_x, (2,3,1))\n",
    "test_x = reshape(test_x, (28,28,1,10000));"
   ]
  },
  {
   "cell_type": "code",
   "execution_count": 107,
   "metadata": {
    "scrolled": true
   },
   "outputs": [
    {
     "name": "stdout",
     "output_type": "stream",
     "text": [
      "8 ya\n"
     ]
    },
    {
     "data": {
      "image/svg+xml": [
       "<?xml version=\"1.0\" encoding=\"utf-8\"?>\n",
       "<svg xmlns=\"http://www.w3.org/2000/svg\" xmlns:xlink=\"http://www.w3.org/1999/xlink\" width=\"150\" height=\"150\" viewBox=\"0 0 600 600\">\n",
       "<defs>\n",
       "  <clipPath id=\"clip620\">\n",
       "    <rect x=\"0\" y=\"0\" width=\"600\" height=\"600\"/>\n",
       "  </clipPath>\n",
       "</defs>\n",
       "<path clip-path=\"url(#clip620)\" d=\"M0 600 L600 600 L600 0 L0 0  Z\" fill=\"#ffffff\" fill-rule=\"evenodd\" fill-opacity=\"1\"/>\n",
       "<defs>\n",
       "  <clipPath id=\"clip621\">\n",
       "    <rect x=\"120\" y=\"60\" width=\"421\" height=\"421\"/>\n",
       "  </clipPath>\n",
       "</defs>\n",
       "<path clip-path=\"url(#clip620)\" d=\"M47.2441 552.756 L552.756 552.756 L552.756 47.2441 L47.2441 47.2441  Z\" fill=\"#ffffff\" fill-rule=\"evenodd\" fill-opacity=\"1\"/>\n",
       "<defs>\n",
       "  <clipPath id=\"clip622\">\n",
       "    <rect x=\"47\" y=\"47\" width=\"507\" height=\"507\"/>\n",
       "  </clipPath>\n",
       "</defs>\n",
       "<polyline clip-path=\"url(#clip620)\" style=\"stroke:#000000; stroke-linecap:round; stroke-linejoin:round; stroke-width:4; stroke-opacity:1; fill:none\" points=\"47.2441,552.756 552.756,552.756 \"/>\n",
       "<polyline clip-path=\"url(#clip620)\" style=\"stroke:#000000; stroke-linecap:round; stroke-linejoin:round; stroke-width:4; stroke-opacity:1; fill:none\" points=\"47.2441,47.2441 47.2441,552.756 \"/>\n",
       "<g clip-path=\"url(#clip622)\">\n",
       "<image width=\"506\" height=\"506\" xlink:href=\"data:image/png;base64,\n",
       "iVBORw0KGgoAAAANSUhEUgAAAfoAAAH6CAYAAADvFY5JAAAN/UlEQVR4nO3Xz4vW9bvH8etupmlj\n",
       "JaMFmrawH0uJklxFMJELpR8UBoJCBRIkotFvWouBMEWFoLkoKiYoCGxRRAXWQCDFEBhFFs1WW9TG\n",
       "ppqm+7uQ7+Yczukc7qsz9jqPxx/w4mK4Pz59D6pqWABApIuW+wAA4O8j9AAQTOgBIJjQA0AwoQeA\n",
       "YEIPAMGEHgCCCT0ABBN6AAgm9AAQTOgBIJjQA0AwoQeAYEIPAMGEHgCCCT0ABBN6AAgm9AAQTOgB\n",
       "IJjQA0AwoQeAYEIPAMGEHgCCCT0ABBN6AAgm9AAQTOgBIJjQA0AwoQeAYEIPAMGEHgCCCT0ABBN6\n",
       "AAgm9AAQTOgBIJjQA0AwoQeAYEIPAMGEHgCCCT0ABBN6AAgm9AAQTOgBIJjQA0AwoQeAYEIPAMGE\n",
       "HgCCCT0ABBN6AAgm9AAQTOgBIJjQA0AwoQeAYEIPAMGEHgCCCT0ABBN6AAgm9AAQTOgBIJjQA0Aw\n",
       "oQeAYEIPAMGEHgCCCT0ABBN6AAgm9AAQTOgBIJjQA0AwoQeAYEIPAMGEHgCCCT0ABBN6AAgm9AAQ\n",
       "TOgBIJjQA0AwoQeAYEIPAMGEHgCCCT0ABBN6AAgm9AAQTOgBIJjQA0AwoQeAYEIPAMGEHgCCCT0A\n",
       "BBN6AAgm9AAQTOgBIJjQA0AwoQeAYEIPAMGEHgCCCT0ABBN6AAgm9AAQTOgBIJjQA0AwoQeAYEIP\n",
       "AMGEHgCCCT0ABBN6AAgm9AAQTOgBIJjQA0Cw8eU+ANINBoOWnQMHDrTsrFu3rmWnquq3335r2Tl8\n",
       "+PDIG3Nzcw2XVN16660tO1VVa9eubdmZmZlp2eH/Jy96AAgm9AAQTOgBIJjQA0AwoQeAYEIPAMGE\n",
       "HgCCCT0ABBN6AAgm9AAQTOgBIJjQA0AwoQeAYEIPAMGEHgCCCT0ABBN6AAg2vtwHwIXskksuGXnj\n",
       "kUceabik6sknn2zZWVpaatmpqjp48GDLztzcXMtOhxMnTiz3CdDKix4Aggk9AAQTegAIJvQAEEzo\n",
       "ASCY0ANAMKEHgGBCDwDBhB4Aggk9AAQTegAIJvQAEEzoASCY0ANAMKEHgGBCDwDBhB4Agg2qarjc\n",
       "R8CF6o477hh545133mm4pGo47PlU77333padqqrjx4+3bQF/Dy96AAgm9AAQTOgBIJjQA0AwoQeA\n",
       "YEIPAMGEHgCCCT0ABBN6AAgm9AAQTOgBIJjQA0AwoQeAYEIPAMGEHgCCCT0ABBN6AAg2vtwHwL+N\n",
       "j/f9HB966KELZufcuXMNl1Q9++yzLTubN29u2amq+uSTT1p2fv7555Yd4D/zogeAYEIPAMGEHgCC\n",
       "CT0ABBN6AAgm9AAQTOgBIJjQA0AwoQeAYEIPAMGEHgCCCT0ABBN6AAgm9AAQTOgBIJjQA0AwoQeA\n",
       "YEIPAMHGl/sA/vnGx3t+Rs8991zLTlXVnj17WnZ++eWXkTcWFhYaLqnau3dvy86aNWtadqqqLr74\n",
       "4padQ4cOjbzx448/NlwCebzoASCY0ANAMKEHgGBCDwDBhB4Aggk9AAQTegAIJvQAEEzoASCY0ANA\n",
       "MKEHgGBCDwDBhB4Aggk9AAQTegAIJvQAEEzoASDY+HIfwPK55557WnYefPDBlp2tW7e27FRVffXV\n",
       "Vy07a9asGXlj9erVDZdUnT59umWn0+OPP96yMzExMfLG/v37Gy6BPF70ABBM6AEgmNADQDChB4Bg\n",
       "Qg8AwYQeAIIJPQAEE3oACCb0ABBM6AEgmNADQDChB4BgQg8AwYQeAIIJPQAEE3oACDaoquFyH8H/\n",
       "zq5du1p2jh071rIzMTHRsvPll1+27FRV7d69u2Xnww8/HHlj+/btDZdUzc7OtuzMzc217FRVXX/9\n",
       "9S07Z8+eHXnj7rvvbrik6rLLLmvZqarauHFjy86GDRtadr7++uuWnY5v9eTJkw2XnLewsNC2lciL\n",
       "HgCCCT0ABBN6AAgm9AAQTOgBIJjQA0AwoQeAYEIPAMGEHgCCCT0ABBN6AAgm9AAQTOgBIJjQA0Aw\n",
       "oQeAYEIPAMGEHgCCjS/3Af8El156advW66+/PvLGLbfc0nBJ1UUX9fw/7+mnn27Zefnll1t2qqru\n",
       "uuuulp0zZ86MvLFixYqGS6p27tzZsnPttde27HS68sorR9749NNPGy6pGhsba9lJNhwOR9745ptv\n",
       "Gi457/Dhwy07R44cadlZXFxs2eniRQ8AwYQeAIIJPQAEE3oACCb0ABBM6AEgmNADQDChB4BgQg8A\n",
       "wYQeAIIJPQAEE3oACCb0ABBM6AEgmNADQDChB4BgQg8AwQZVNVzuI/4uExMTLTuvvPJKy05V1Y4d\n",
       "O0be+OKLLxouqTp48GDLzs0339yys3Pnzpadqqq1a9e2bY1qOOz5xObn51t2rrrqqpadqr5vrMOJ\n",
       "Eydadt58882Wnaqq9evXt+xs2rSpZWfLli0tO6l++OGHlp2nnnqqZeftt99u2fGiB4BgQg8AwYQe\n",
       "AIIJPQAEE3oACCb0ABBM6AEgmNADQDChB4BgQg8AwYQeAIIJPQAEE3oACCb0ABBM6AEgmNADQDCh\n",
       "B4BgQg8AwQZVNVzuI/6jqamplp0jR4607Fx99dUtO1VV8/PzI2+89tprox9SVXv37m3ZueKKK1p2\n",
       "BoNBy06n06dPj7xx9OjRhkuqpqenW3Yefvjhlp2qqhdffLFta1T79u1r2XnhhRdadjp1fRu33357\n",
       "y87Y2NjIG/v372+45LxNmza17ExOTrbsLC0ttexs2bKlZceLHgCCCT0ABBN6AAgm9AAQTOgBIJjQ\n",
       "A0AwoQeAYEIPAMGEHgCCCT0ABBN6AAgm9AAQTOgBIJjQA0AwoQeAYEIPAMGEHgCCjQ8Gg7ax+++/\n",
       "v2Xnsccea9n59ddfW3ZOnTrVslNVdeONN4688eijjzZcUvXnn39eUDszMzMtO1VVi4uLLTurVq0a\n",
       "eePzzz9vuKTv7zwxMdGy02lpaWnkjc7v9EIzHA5bdj744IOWnQ7vvfde29aePXtadl566aWWnbGx\n",
       "sZadrVu3tux40QNAMKEHgGBCDwDBhB4Aggk9AAQTegAIJvQAEEzoASCY0ANAMKEHgGBCDwDBhB4A\n",
       "ggk9AAQTegAIJvQAEEzoASDY+LZt29rGpqenW3aWlpZadlatWtWyc6FZWFho2fnoo49admZmZlp2\n",
       "3n///ZadqqrVq1e37Lz11lsjb7z77rsNl1Q988wzLTtdf5tO33777cgbs7OzDZfwP3HdddeNvPHE\n",
       "E080XHLejh072rYuJDfddFPLjhc9AAQTegAIJvQAEEzoASCY0ANAMKEHgGBCDwDBhB4Aggk9AAQT\n",
       "egAIJvQAEEzoASCY0ANAMKEHgGBCDwDBhB4Aggk9AAQb37hxY9vYypUr27ZSff/99yNv7N69u+GS\n",
       "qtnZ2ZadxcXFlp1OZ8+ebdnZtWvXyBtHjx5tuKRqenq6Zeenn35q2en0/PPPj7zx+++/N1xyYVq/\n",
       "fn3Lzr59+1p2HnjggZE3JicnGy7Jdvz48ZYdL3oACCb0ABBM6AEgmNADQDChB4BgQg8AwYQeAIIJ\n",
       "PQAEE3oACCb0ABBM6AEgmNADQDChB4BgQg8AwYQeAIIJPQAEE3oACCb0ABBsMD4+Puwau+2221p2\n",
       "pqamWnZuuOGGlp3vvvuuZaeq6tChQyNvzM/Pj34I/2dWrFjRsvPGG2+07Nx5550tO50OHDgw8sZn\n",
       "n33WcEnVNddc07JTVbV9+/aWna5/y7p+i/z3Tp482bLT1VQvegAIJvQAEEzoASCY0ANAMKEHgGBC\n",
       "DwDBhB4Aggk9AAQTegAIJvQAEEzoASCY0ANAMKEHgGBCDwDBhB4Aggk9AAQTegAINqiq4XIfAfy1\n",
       "ycnJlp3Nmze37FRVrVy5smXnzJkzI2/cd999DZdUbdu2rWWnqmrdunVtW/zX5ubmWnZeffXVlp1j\n",
       "x4617Jw7d65lx4seAIIJPQAEE3oACCb0ABBM6AEgmNADQDChB4BgQg8AwYQeAIIJPQAEE3oACCb0\n",
       "ABBM6AEgmNADQDChB4BgQg8AwYQeAIINqmq43EcAf21qaqpl5+OPP27Z4Z9nw4YNLTuXX375yBun\n",
       "Tp1quOS8P/74o2VnOMzMoRc9AAQTegAIJvQAEEzoASCY0ANAMKEHgGBCDwDBhB4Aggk9AAQTegAI\n",
       "JvQAEEzoASCY0ANAMKEHgGBCDwDBhB4Aggk9AAQbVNVwuY8AAP4eXvQAEEzoASCY0ANAMKEHgGBC\n",
       "DwDBhB4Aggk9AAQTegAIJvQAEEzoASCY0ANAMKEHgGBCDwDBhB4Aggk9AAQTegAIJvQAEEzoASCY\n",
       "0ANAMKEHgGBCDwDBhB4Aggk9AAQTegAIJvQAEEzoASCY0ANAMKEHgGBCDwDBhB4Aggk9AAQTegAI\n",
       "JvQAEEzoASCY0ANAMKEHgGBCDwDBhB4Aggk9AAQTegAIJvQAEEzoASCY0ANAMKEHgGBCDwDBhB4A\n",
       "ggk9AAQTegAIJvQAEEzoASCY0ANAMKEHgGBCDwDBhB4Aggk9AAQTegAIJvQAEEzoASCY0ANAMKEH\n",
       "gGBCDwDBhB4Aggk9AAQTegAIJvQAEEzoASCY0ANAMKEHgGBCDwDBhB4Aggk9AAQTegAIJvQAEEzo\n",
       "ASCY0ANAMKEHgGBCDwDBhB4Aggk9AAQTegAIJvQAEEzoASCY0ANAMKEHgGBCDwDBhB4Aggk9AAQT\n",
       "egAIJvQAEEzoASCY0ANAMKEHgGBCDwDBhB4Aggk9AAQTegAIJvQAEEzoASCY0ANAMKEHgGBCDwDB\n",
       "hB4Aggk9AAQTegAIJvQAEEzoASCY0ANAsH8BgB5ZdL+FKqkAAAAASUVORK5CYII=\n",
       "\" transform=\"translate(47, 47)\"/>\n",
       "</g>\n",
       "</svg>\n"
      ]
     },
     "execution_count": 107,
     "metadata": {},
     "output_type": "execute_result"
    }
   ],
   "source": [
    "img = train_x[:,:,:,2];\n",
    "img_label = train_y[2];\n",
    "\n",
    "img = reshape(img, (28,28,1))\n",
    "img_label = [img_label]\n",
    "\n",
    "println(img_label[1]+1, \" \", labels[img_label[1]+1])\n",
    "\n",
    "plot(Gray.(img[:,:,1]), axis=nothing, size=(150,150))"
   ]
  },
  {
   "cell_type": "markdown",
   "metadata": {},
   "source": [
    "# Graf obliczeniowy"
   ]
  },
  {
   "cell_type": "code",
   "execution_count": 6,
   "metadata": {},
   "outputs": [],
   "source": [
    "abstract type Node end\n",
    "abstract type Operator <: Node end\n",
    "\n",
    "struct Constant{Float64} <: Node\n",
    "    output::Float64\n",
    "end\n",
    "\n",
    "mutable struct Variable <: Node\n",
    "    output::Array{Float64}\n",
    "    gradient::Array{Float64}\n",
    "    name::String\n",
    "    Variable(output; name = \"?\") = new(output, [], name)\n",
    "end\n",
    "\n",
    "mutable struct NodeOperator{F} <: Operator\n",
    "    inputs\n",
    "    output\n",
    "    gradient\n",
    "    name::String\n",
    "    NodeOperator(fun, inputs...; name = \"?\") = new{typeof(fun)}(inputs, [], [], name)\n",
    "end"
   ]
  },
  {
   "cell_type": "code",
   "execution_count": 7,
   "metadata": {},
   "outputs": [
    {
     "data": {
      "text/plain": [
       "show (generic function with 392 methods)"
      ]
     },
     "execution_count": 7,
     "metadata": {},
     "output_type": "execute_result"
    }
   ],
   "source": [
    "import Base: show, summary\n",
    "show(io::IO, x::NodeOperator{F}) where {F} = print(io, \"op \", \"(\", F, \")\");\n",
    "show(io::IO, x::Constant) = print(io, \"const \", x.output)\n",
    "show(io::IO, x::Variable) = begin\n",
    "    print(io, \"var \", x.name);\n",
    "    print(io, \"\\n ┣━ ^ \"); summary(io, x.output)\n",
    "    print(io, \"\\n ┗━ ∇ \");  summary(io, x.gradient)\n",
    "end"
   ]
  },
  {
   "cell_type": "code",
   "execution_count": 8,
   "metadata": {},
   "outputs": [
    {
     "data": {
      "text/plain": [
       "create_graph (generic function with 1 method)"
      ]
     },
     "execution_count": 8,
     "metadata": {},
     "output_type": "execute_result"
    }
   ],
   "source": [
    "function visit(node::Node, visited::Set, order::Vector)\n",
    "    if node ∉ visited\n",
    "        push!(visited, node)\n",
    "        push!(order, node)\n",
    "    end\n",
    "end\n",
    "\n",
    "function visit(node::Operator, visited::Set, order::Vector)\n",
    "    if node ∉ visited\n",
    "        for input in node.inputs\n",
    "            visit(input, visited, order)\n",
    "        end\n",
    "        push!(visited, node)\n",
    "        push!(order, node)\n",
    "    end\n",
    "end\n",
    "\n",
    "\n",
    "function create_graph(root::Node)\n",
    "    visited = Set()\n",
    "    order = Vector()\n",
    "    visit(root, visited, order)\n",
    "end"
   ]
  },
  {
   "cell_type": "code",
   "execution_count": 9,
   "metadata": {},
   "outputs": [
    {
     "data": {
      "text/plain": [
       "forward! (generic function with 1 method)"
      ]
     },
     "execution_count": 9,
     "metadata": {},
     "output_type": "execute_result"
    }
   ],
   "source": [
    "zero_gradient!(node::Variable) = node.gradient = []\n",
    "zero_gradient!(node::Constant) = nothing\n",
    "zero_gradient!(node::Operator) = node.gradient = []\n",
    "\n",
    "compute!(node::Variable) = nothing\n",
    "compute!(node::Constant) = nothing\n",
    "compute!(node::Operator) = node.output = forward(node, [input.output for input in node.inputs]...)\n",
    "\n",
    "function forward!(order::Vector)\n",
    "    for node in order\n",
    "        compute!(node)\n",
    "        zero_gradient!(node)\n",
    "    end\n",
    "    \n",
    "    return last(order).output\n",
    "end    "
   ]
  },
  {
   "cell_type": "code",
   "execution_count": 10,
   "metadata": {},
   "outputs": [
    {
     "data": {
      "text/plain": [
       "backward! (generic function with 4 methods)"
      ]
     },
     "execution_count": 10,
     "metadata": {},
     "output_type": "execute_result"
    }
   ],
   "source": [
    "update!(node::Constant, gradient) = nothing\n",
    "update!(node::Node, gradient) = if isempty(node.gradient)\n",
    "    node.gradient = gradient else node.gradient += gradient\n",
    "    #println(\"YES \\n\", node.name, size(gradient)); node.gradient = gradient else println(\"NO \\n\", node.name, size(gradient), size(node.gradient)); node.gradient += gradient\n",
    "end\n",
    "\n",
    "function backward!(order::Vector; seed = 1.0)\n",
    "    result = last(order)\n",
    "    result.gradient = seed\n",
    "    \n",
    "    for node in reverse(order)\n",
    "        backward!(node)\n",
    "    end\n",
    "end\n",
    "\n",
    "backward!(node::Variable) = nothing\n",
    "backward!(node::Constant) = nothing\n",
    "function backward!(node::Operator)\n",
    "    gradients = backward(node, [input.output for input in node.inputs]..., node.gradient)\n",
    "    #println(\"\\nCurrent \", node)\n",
    "    for (input, gradient) in zip(node.inputs, gradients)\n",
    "       # println(\"inputs \",input.name, \" \", size(gradient))\n",
    "        update!(input, gradient)\n",
    "    end\n",
    "end"
   ]
  },
  {
   "cell_type": "markdown",
   "metadata": {},
   "source": [
    "# Sieć i warstwy"
   ]
  },
  {
   "cell_type": "code",
   "execution_count": 11,
   "metadata": {},
   "outputs": [],
   "source": [
    "mutable struct ConvParams\n",
    "    kernels::Variable\n",
    "    bias::Variable\n",
    "end\n",
    "\n",
    "mutable struct DenseParams\n",
    "    weights::Variable\n",
    "    bias::Variable\n",
    "end\n",
    "\n",
    "mutable struct CNNParams\n",
    "    conv1::ConvParams\n",
    "    conv2::ConvParams\n",
    "    dense1::DenseParams\n",
    "    dense2::DenseParams\n",
    "end"
   ]
  },
  {
   "cell_type": "code",
   "execution_count": 12,
   "metadata": {},
   "outputs": [
    {
     "data": {
      "text/plain": [
       "backward (generic function with 1 method)"
      ]
     },
     "execution_count": 12,
     "metadata": {},
     "output_type": "execute_result"
    }
   ],
   "source": [
    "conv_layer(x::Node, k::Node, b::Node) = NodeOperator(conv_layer, name=\"conv\", x, k, b)\n",
    "# forward(::NodeOperator{typeof(conv_layer)}, x, k, b)\n",
    "forward(::NodeOperator{typeof(conv_layer)}, x, k, b) = let\n",
    "    xs = size(x)\n",
    "    ks = size(k)\n",
    "    kn = floor(Int, sqrt(ks[2])) - 1\n",
    "    x̂s = xs[1] - 4\n",
    "    xx = zeros(ks[2], x̂s^2, xs[3])\n",
    "    it = 1\n",
    "    for c in 1:x̂s, r in 1:x̂s\n",
    "        xx[:,it, :] = reshape(x[r:(r+kn), c:(c+kn), :], (ks[2], 1, xs[3]))\n",
    "        it += 1\n",
    "    end\n",
    "    x̄ = zeros(ks[1], x̂s^2)\n",
    "\n",
    "    for i in 1:xs[3]\n",
    "        x̄[:, :] += k * xx[:, :, i]\n",
    "    end\n",
    "    \n",
    "    x̄ .+= b\n",
    "\n",
    "    x̂ = zeros(x̂s, x̂s, ks[1])\n",
    "    for i in 1:ks[1]\n",
    "        x̂[:, :, i] = reshape(x̄[i, :], (x̂s, x̂s))\n",
    "    end\n",
    "    \n",
    "    return x̂\n",
    "end\n",
    "\n",
    "backward(::NodeOperator{typeof(conv_layer)}, x, k, b, g) = let\n",
    "    xs = size(x) # 12 12 20\n",
    "    ks = size(k) # 50, 25\n",
    "    kn = floor(Int, sqrt(ks[2])) - 1 # 4\n",
    "    x̂s = xs[1] - 4 # 8\n",
    "    xx = zeros(ks[2], x̂s^2, xs[3]) # 25 64 20\n",
    "    it = 1\n",
    "    for c in 1:x̂s, r in 1:x̂s\n",
    "        xx[:,it, :] = reshape(x[r:(r+kn), c:(c+kn), :], (ks[2], 1, xs[3]))\n",
    "        it += 1\n",
    "    end\n",
    "    \n",
    "    gg = reshape(g, size(g)[1]^2, size(g)[3]) # 64 50\n",
    "    dk = zeros(ks)\n",
    "    \n",
    "    dk = gg' * sum(xx, dims=3)[:,:,1]'\n",
    "    \n",
    "    db = sum(gg', dims=1)\n",
    "    \n",
    "    gs = size(g)\n",
    "    padded = PaddedView(0, g, (1:(gs[1]+8), 1:(gs[1]+8), 1:gs[3]), (5:(gs[1]+4), 5:(gs[1]+4), 1:gs[3]))\n",
    "    pp = zeros(ks[2], (gs[1]+4)^2, gs[3]) # 25 144 50\n",
    "    it = 1\n",
    "    for c in 1:(gs[1]+4), r in 1:(gs[1]+4)\n",
    "        pp[:,it, :] = reshape(padded[r:(r+kn), c:(c+kn), :], (ks[2], 1, gs[3]))\n",
    "        it += 1\n",
    "    end\n",
    "    ki = reverse(k, dims=2)\n",
    "    \n",
    "    dx = zeros(gs[3], (gs[1]+4)^2) # 50 144\n",
    "\n",
    "    for i in 1:gs[3]\n",
    "        dx[:, :] += ki * pp[:, :, i]\n",
    "    end\n",
    "    \n",
    "    dx = sum(dx, dims=1)\n",
    "\n",
    "    dx = repeat(reshape(dx, (xs[1], xs[1])), 1, 1, xs[3])\n",
    "    \n",
    "    return tuple(dx, dk, db)\n",
    "end"
   ]
  },
  {
   "cell_type": "code",
   "execution_count": null,
   "metadata": {},
   "outputs": [],
   "source": [
    "x = rand(1:10, (6, 6, 1))\n",
    "k = rand(Float64, (4, 25))\n",
    "b = rand(Float64, (4));\n",
    "\n",
    "res = forward(img, k, b);\n",
    "\n",
    "#plot(Gray.(res[:,:,1]), axis=nothing, size=(150,150))"
   ]
  },
  {
   "cell_type": "code",
   "execution_count": 13,
   "metadata": {},
   "outputs": [
    {
     "data": {
      "text/plain": [
       "backward (generic function with 2 methods)"
      ]
     },
     "execution_count": 13,
     "metadata": {},
     "output_type": "execute_result"
    }
   ],
   "source": [
    "maxpool_layer(x::Node) = NodeOperator(maxpool_layer, name=\"maxpool\", x)\n",
    "#forward(::NodeOperator{typeof(maxpool_layer)}, x) = let\n",
    "forward(::NodeOperator{typeof(maxpool_layer)}, x) = let\n",
    "    n = floor(Int, size(x)[1]/2)\n",
    "    x̂ = zeros(n, n, size(x)[3])\n",
    "    s = 2\n",
    "    \n",
    "    for r in 1:n, c in 1:n\n",
    "        x̂[r, c, :] = maximum(x[(r*s-1):(r*s), (c*s-1):(c*s), :], dims=(1,2))\n",
    "    end\n",
    "    \n",
    "    return x̂\n",
    "end\n",
    "\n",
    "backward(::NodeOperator{typeof(maxpool_layer)}, x, g) = let\n",
    "    n = floor(Int, size(x)[1]/2)\n",
    "    s = 2\n",
    "    x̂ = zeros(size(x))\n",
    "    for r in 1:n, c in 1:n\n",
    "        idx = argmax(x[(r*s-1):(r*s), (c*s-1):(c*s), :], dims=(1,2))\n",
    "        @views x̂[(r*s-1):(r*s), (c*s-1):(c*s), :][idx] = g[r, c, :]\n",
    "    end\n",
    "    return tuple(x̂)\n",
    "end"
   ]
  },
  {
   "cell_type": "code",
   "execution_count": null,
   "metadata": {},
   "outputs": [],
   "source": [
    "res2 = forward(res);\n",
    "#plot(Gray.(res2[:,:,2]), axis=nothing, size=(150,150))"
   ]
  },
  {
   "cell_type": "code",
   "execution_count": 14,
   "metadata": {},
   "outputs": [
    {
     "data": {
      "text/plain": [
       "backward (generic function with 3 methods)"
      ]
     },
     "execution_count": 14,
     "metadata": {},
     "output_type": "execute_result"
    }
   ],
   "source": [
    "flatten(x::Node) = NodeOperator(flatten, name=\"flatten\", x)\n",
    "\n",
    "forward(::NodeOperator{typeof(flatten)}, x) = let\n",
    "    return reshape(x, size(x)[1]*size(x)[2]*size(x)[3])\n",
    "end\n",
    "\n",
    "backward(::NodeOperator{typeof(flatten)}, x, g) = let\n",
    "    return tuple(reshape(g, size(x)))\n",
    "end"
   ]
  },
  {
   "cell_type": "code",
   "execution_count": 15,
   "metadata": {},
   "outputs": [
    {
     "data": {
      "text/plain": [
       "backward (generic function with 4 methods)"
      ]
     },
     "execution_count": 15,
     "metadata": {},
     "output_type": "execute_result"
    }
   ],
   "source": [
    "dense_layer(x::Node, w::Node, b::Node) = NodeOperator(dense_layer, name=\"dense\", x, w, b)\n",
    "\n",
    "forward(::NodeOperator{typeof(dense_layer)}, x, w, b) = let\n",
    "    return w * x + b\n",
    "end\n",
    "\n",
    "backward(::NodeOperator{typeof(dense_layer)}, x, w, b, g) = let\n",
    "    return tuple(w' * g, g * x', g)\n",
    "end"
   ]
  },
  {
   "cell_type": "code",
   "execution_count": 16,
   "metadata": {},
   "outputs": [
    {
     "data": {
      "text/plain": [
       "backward (generic function with 5 methods)"
      ]
     },
     "execution_count": 16,
     "metadata": {},
     "output_type": "execute_result"
    }
   ],
   "source": [
    "relu(x::Node) = NodeOperator(relu, name=\"relu\", x)\n",
    "\n",
    "forward(::NodeOperator{typeof(relu)}, x) = let\n",
    "    return max.(x, 0)\n",
    "end\n",
    "\n",
    "backward(::NodeOperator{typeof(relu)}, x, g) = let\n",
    "    idx = findall(a -> a > 0, x)\n",
    "    xx = zeros(Float64, size(x))\n",
    "    xx[idx] = g[idx]\n",
    "    return tuple(xx)\n",
    "end"
   ]
  },
  {
   "cell_type": "code",
   "execution_count": 57,
   "metadata": {},
   "outputs": [
    {
     "data": {
      "text/plain": [
       "backward (generic function with 7 methods)"
      ]
     },
     "execution_count": 57,
     "metadata": {},
     "output_type": "execute_result"
    }
   ],
   "source": [
    "softmax(x::Node) = NodeOperator(softmax, name=\"softmax\", x)\n",
    "\n",
    "forward(::NodeOperator{typeof(softmax)}, x) = let\n",
    "    return exp.(x) ./ sum(exp.(x))\n",
    "end\n",
    "\n",
    "# backward(::NodeOperator{typeof(softmax)}, y, g) = let\n",
    "#     x = @. y * (1 - y)\n",
    "#     for i in 1:length(x)\n",
    "#         x[i] -= sum(y[1:end .!= i] .* y[i])\n",
    "#     end\n",
    "#     return tuple(x .* g)\n",
    "# end\n",
    "\n",
    "backward(node::NodeOperator{typeof(softmax)}, x, g) = let\n",
    "    y = node.output\n",
    "    J = diagm(y) .- y * y'\n",
    "    tuple(J' * g)\n",
    "end"
   ]
  },
  {
   "cell_type": "code",
   "execution_count": 132,
   "metadata": {},
   "outputs": [
    {
     "data": {
      "text/plain": [
       "backward (generic function with 7 methods)"
      ]
     },
     "execution_count": 132,
     "metadata": {},
     "output_type": "execute_result"
    }
   ],
   "source": [
    "cross_entropy_loss(ŷ::Node, y::Node) = NodeOperator(cross_entropy_loss, name=\"cross_entropy_loss\", ŷ, y)\n",
    "\n",
    "forward(::NodeOperator{typeof(cross_entropy_loss)}, ŷ, y) = let\n",
    "    return -log(ŷ[floor(Int, y[1]+1)])\n",
    "end\n",
    "\n",
    "backward(::NodeOperator{typeof(cross_entropy_loss)}, ŷ, y, g) = let\n",
    "    x = zeros(10)\n",
    "    id = floor(Int, y[1]) + 1\n",
    "    x[id] = -1 / ŷ[id] * g\n",
    "    return tuple(x, [0.0])\n",
    "end\n",
    "\n",
    "# backward(::NodeOperator{typeof(cross_entropy_loss)}, ŷ, y, g) = let\n",
    "#     x = copy(ŷ)\n",
    "#     id = floor(Int, y[1]) + 1\n",
    "#     x[id] -= 1\n",
    "#     return tuple(x .* g, [0.0])\n",
    "# end"
   ]
  },
  {
   "cell_type": "code",
   "execution_count": 79,
   "metadata": {},
   "outputs": [
    {
     "data": {
      "text/plain": [
       "my_cnn (generic function with 1 method)"
      ]
     },
     "execution_count": 79,
     "metadata": {},
     "output_type": "execute_result"
    }
   ],
   "source": [
    "function my_cnn(x::Variable, y::Variable, params::CNNParams)\n",
    "    x̂ = conv_layer(x, params.conv1.kernels, params.conv1.bias)\n",
    "    x̂ = relu(x̂)\n",
    "    x̂ = maxpool_layer(x̂)\n",
    "    x̂ = conv_layer(x̂, params.conv2.kernels, params.conv2.bias)\n",
    "    x̂ = relu(x̂)\n",
    "    x̂ = maxpool_layer(x̂)\n",
    "    \n",
    "    x̂ = flatten(x̂)\n",
    "    \n",
    "    x̂ = dense_layer(x̂, params.dense1.weights, params.dense1.bias)\n",
    "    x̂ = dense_layer(x̂, params.dense2.weights, params.dense2.bias)\n",
    "    \n",
    "    ŷ = softmax(x̂)\n",
    "    \n",
    "    loss = cross_entropy_loss(ŷ, y)\n",
    "    \n",
    "    return create_graph(loss)\n",
    "end"
   ]
  },
  {
   "cell_type": "code",
   "execution_count": 80,
   "metadata": {},
   "outputs": [
    {
     "data": {
      "text/plain": [
       "rand_in_range (generic function with 1 method)"
      ]
     },
     "execution_count": 80,
     "metadata": {},
     "output_type": "execute_result"
    }
   ],
   "source": [
    "rand_in_range(shape...) = (rand(Float64, shape) .* 2 .- 1) ./ 10"
   ]
  },
  {
   "cell_type": "code",
   "execution_count": 99,
   "metadata": {},
   "outputs": [],
   "source": [
    "conv1 = ConvParams(\n",
    "    Variable(rand_in_range(20,25), name=\"k1\"),\n",
    "    Variable(rand_in_range(1,24*24), name=\"b1\")\n",
    ")\n",
    "conv2 = ConvParams(\n",
    "    Variable(rand_in_range(50,25), name=\"k2\"),\n",
    "    Variable(rand_in_range(1,8*8), name=\"b2\")\n",
    ")\n",
    "dense1 = DenseParams(\n",
    "    Variable(rand_in_range(500, 800), name=\"w3\"),\n",
    "    Variable(rand_in_range(500), name=\"b3\")\n",
    ")\n",
    "dense2 = DenseParams(\n",
    "    Variable(rand_in_range(10, 500), name=\"w4\"),\n",
    "    Variable(rand_in_range(10), name=\"b4\")\n",
    ")\n",
    "\n",
    "cnn_params = CNNParams(conv1, conv2, dense1, dense2);"
   ]
  },
  {
   "cell_type": "code",
   "execution_count": 108,
   "metadata": {},
   "outputs": [
    {
     "data": {
      "text/plain": [
       "21-element Vector{Any}:\n",
       " var x\n",
       " ┣━ ^ 28×28×1 Array{Float64, 3}\n",
       " ┗━ ∇ 0-element Vector{Float64}\n",
       " var k1\n",
       " ┣━ ^ 20×25 Matrix{Float64}\n",
       " ┗━ ∇ 0-element Vector{Float64}\n",
       " var b1\n",
       " ┣━ ^ 1×576 Matrix{Float64}\n",
       " ┗━ ∇ 0-element Vector{Float64}\n",
       " op (typeof(conv_layer))\n",
       " op (typeof(relu))\n",
       " op (typeof(maxpool_layer))\n",
       " var k2\n",
       " ┣━ ^ 50×25 Matrix{Float64}\n",
       " ┗━ ∇ 0-element Vector{Float64}\n",
       " var b2\n",
       " ┣━ ^ 1×64 Matrix{Float64}\n",
       " ┗━ ∇ 0-element Vector{Float64}\n",
       " op (typeof(conv_layer))\n",
       " op (typeof(relu))\n",
       " op (typeof(maxpool_layer))\n",
       " op (typeof(flatten))\n",
       " var w3\n",
       " ┣━ ^ 500×800 Matrix{Float64}\n",
       " ┗━ ∇ 0-element Vector{Float64}\n",
       " var b3\n",
       " ┣━ ^ 500-element Vector{Float64}\n",
       " ┗━ ∇ 0-element Vector{Float64}\n",
       " op (typeof(dense_layer))\n",
       " var w4\n",
       " ┣━ ^ 10×500 Matrix{Float64}\n",
       " ┗━ ∇ 0-element Vector{Float64}\n",
       " var b4\n",
       " ┣━ ^ 10-element Vector{Float64}\n",
       " ┗━ ∇ 0-element Vector{Float64}\n",
       " op (typeof(dense_layer))\n",
       " op (typeof(softmax))\n",
       " var y\n",
       " ┣━ ^ 1-element Vector{Float64}\n",
       " ┗━ ∇ 0-element Vector{Float64}\n",
       " op (typeof(cross_entropy_loss))"
      ]
     },
     "execution_count": 108,
     "metadata": {},
     "output_type": "execute_result"
    }
   ],
   "source": [
    "x = Variable(img, name=\"x\")\n",
    "y = Variable(img_label, name=\"y\")\n",
    "\n",
    "graph = my_cnn(x, y, cnn_params)"
   ]
  },
  {
   "cell_type": "code",
   "execution_count": 113,
   "metadata": {},
   "outputs": [
    {
     "data": {
      "text/plain": [
       "-0.0"
      ]
     },
     "execution_count": 113,
     "metadata": {},
     "output_type": "execute_result"
    }
   ],
   "source": [
    "forward!(graph)"
   ]
  },
  {
   "cell_type": "code",
   "execution_count": 114,
   "metadata": {
    "scrolled": true
   },
   "outputs": [],
   "source": [
    "backward!(graph)"
   ]
  },
  {
   "cell_type": "code",
   "execution_count": 115,
   "metadata": {},
   "outputs": [],
   "source": [
    "update_weights!(graph)"
   ]
  },
  {
   "cell_type": "code",
   "execution_count": 116,
   "metadata": {},
   "outputs": [
    {
     "data": {
      "text/plain": [
       "10-element Vector{Float64}:\n",
       " 6.682689001061745e-18\n",
       " 1.0479080285513382e-18\n",
       " 8.802897652301506e-18\n",
       " 7.540375073845467e-19\n",
       " 1.5008872913436936e-18\n",
       " 2.1388114987875164e-20\n",
       " 4.2849554793405374e-20\n",
       " 1.0\n",
       " 1.0096731855220766e-25\n",
       " 2.1396801541221884e-20"
      ]
     },
     "execution_count": 116,
     "metadata": {},
     "output_type": "execute_result"
    }
   ],
   "source": [
    "graph[19].output"
   ]
  },
  {
   "cell_type": "code",
   "execution_count": 118,
   "metadata": {},
   "outputs": [
    {
     "data": {
      "text/plain": [
       "update_weights! (generic function with 1 method)"
      ]
     },
     "execution_count": 118,
     "metadata": {},
     "output_type": "execute_result"
    }
   ],
   "source": [
    "function update_weights!(graph)\n",
    "    for node in graph\n",
    "        if typeof(node) == Variable\n",
    "            node.output -= node.gradient .* 0.001\n",
    "        end\n",
    "    end\n",
    "end"
   ]
  },
  {
   "cell_type": "code",
   "execution_count": 151,
   "metadata": {},
   "outputs": [],
   "source": [
    "conv1 = ConvParams(\n",
    "    Variable(rand_in_range(20,25), name=\"k1\"),\n",
    "    Variable(rand_in_range(1,24*24), name=\"b1\")\n",
    ")\n",
    "conv2 = ConvParams(\n",
    "    Variable(rand_in_range(50,25), name=\"k2\"),\n",
    "    Variable(rand_in_range(1,8*8), name=\"b2\")\n",
    ")\n",
    "dense1 = DenseParams(\n",
    "    Variable(rand_in_range(500, 800), name=\"w3\"),\n",
    "    Variable(rand_in_range(500), name=\"b3\")\n",
    ")\n",
    "dense2 = DenseParams(\n",
    "    Variable(rand_in_range(10, 500), name=\"w4\"),\n",
    "    Variable(rand_in_range(10), name=\"b4\")\n",
    ")\n",
    "\n",
    "cnn_params = CNNParams(conv1, conv2, dense1, dense2);"
   ]
  },
  {
   "cell_type": "code",
   "execution_count": null,
   "metadata": {},
   "outputs": [
    {
     "name": "stderr",
     "output_type": "stream",
     "text": [
      "\u001b[32mProgress:  17%|███████                                  |  ETA: 0:10:17\u001b[39m"
     ]
    }
   ],
   "source": [
    "using ProgressMeter\n",
    "\n",
    "x = Variable(img, name=\"x\")\n",
    "y = Variable(img_label, name=\"y\")\n",
    "loss = 0\n",
    "for e in 1:10\n",
    "    loss = 0\n",
    "    @showprogress for i in rand(1:60000, 10000)\n",
    "        x.output = train_x[:,:,:,i]\n",
    "        y.output = [train_y[i]]\n",
    "        graph = my_cnn(x, y, cnn_params)\n",
    "        loss += forward!(graph)\n",
    "        backward!(graph)\n",
    "        update_weights!(graph)\n",
    "    end\n",
    "    println(\"Epoch: \", e, \"    Average loss: \", loss/1000)\n",
    "end\n",
    "    "
   ]
  },
  {
   "cell_type": "code",
   "execution_count": 162,
   "metadata": {
    "scrolled": true
   },
   "outputs": [
    {
     "data": {
      "text/plain": [
       "10-element Vector{Float64}:\n",
       " 0.000491052344926015\n",
       " 0.001416100089952715\n",
       " 0.1828102922498832\n",
       " 0.0014280537231378032\n",
       " 0.0016767702185507486\n",
       " 0.007135914568188229\n",
       " 0.0009451997841393635\n",
       " 0.0020219808884068343\n",
       " 0.7924099881555628\n",
       " 0.009664647977252215"
      ]
     },
     "execution_count": 162,
     "metadata": {},
     "output_type": "execute_result"
    }
   ],
   "source": [
    "id = 2342\n",
    "img = train_x[:,:,:,id]\n",
    "img_label = [train_y[id]]\n",
    "x = Variable(img, name=\"x\")\n",
    "y = Variable(img_label, name=\"y\")\n",
    "graph = my_cnn(x, y, cnn_params)\n",
    "forward!(graph)\n",
    "graph[19].output"
   ]
  },
  {
   "cell_type": "code",
   "execution_count": 163,
   "metadata": {},
   "outputs": [
    {
     "name": "stdout",
     "output_type": "stream",
     "text": [
      "9 re\n"
     ]
    },
    {
     "data": {
      "image/svg+xml": [
       "<?xml version=\"1.0\" encoding=\"utf-8\"?>\n",
       "<svg xmlns=\"http://www.w3.org/2000/svg\" xmlns:xlink=\"http://www.w3.org/1999/xlink\" width=\"150\" height=\"150\" viewBox=\"0 0 600 600\">\n",
       "<defs>\n",
       "  <clipPath id=\"clip860\">\n",
       "    <rect x=\"0\" y=\"0\" width=\"600\" height=\"600\"/>\n",
       "  </clipPath>\n",
       "</defs>\n",
       "<path clip-path=\"url(#clip860)\" d=\"M0 600 L600 600 L600 0 L0 0  Z\" fill=\"#ffffff\" fill-rule=\"evenodd\" fill-opacity=\"1\"/>\n",
       "<defs>\n",
       "  <clipPath id=\"clip861\">\n",
       "    <rect x=\"120\" y=\"60\" width=\"421\" height=\"421\"/>\n",
       "  </clipPath>\n",
       "</defs>\n",
       "<path clip-path=\"url(#clip860)\" d=\"M47.2441 552.756 L552.756 552.756 L552.756 47.2441 L47.2441 47.2441  Z\" fill=\"#ffffff\" fill-rule=\"evenodd\" fill-opacity=\"1\"/>\n",
       "<defs>\n",
       "  <clipPath id=\"clip862\">\n",
       "    <rect x=\"47\" y=\"47\" width=\"507\" height=\"507\"/>\n",
       "  </clipPath>\n",
       "</defs>\n",
       "<polyline clip-path=\"url(#clip860)\" style=\"stroke:#000000; stroke-linecap:round; stroke-linejoin:round; stroke-width:4; stroke-opacity:1; fill:none\" points=\"47.2441,552.756 552.756,552.756 \"/>\n",
       "<polyline clip-path=\"url(#clip860)\" style=\"stroke:#000000; stroke-linecap:round; stroke-linejoin:round; stroke-width:4; stroke-opacity:1; fill:none\" points=\"47.2441,47.2441 47.2441,552.756 \"/>\n",
       "<g clip-path=\"url(#clip862)\">\n",
       "<image width=\"506\" height=\"506\" xlink:href=\"data:image/png;base64,\n",
       "iVBORw0KGgoAAAANSUhEUgAAAfoAAAH6CAYAAADvFY5JAAAOyklEQVR4nO3XTavVdfvG4WvvvfAO\n",
       "g5TMwqgEjR4wEBOjaNCkBxAKE2rgoMCi8g2EzaJhlAoRFDkoKCoHFUWYRIMgsohErDAzLB/aqZgU\n",
       "arLN3PdI/oN7JOuqpef/OF7AyTVYi8/vO1ZV0wWc9+bPn9+ys3bt2padqqrly5e37GzevHnojWee\n",
       "eabhkqrJycmWHThfjI/6AADgnyP0ABBM6AEgmNADQDChB4BgQg8AwYQeAIIJPQAEE3oACCb0ABBM\n",
       "6AEgmNADQDChB4BgQg8AwYQeAIIJPQAEE3oACCb0ABBsrKqmR30EJFu6dGnLznPPPdeyc9NNN7Xs\n",
       "VFUNBoOWndtuu23oje+//77hEsjjRQ8AwYQeAIIJPQAEE3oACCb0ABBM6AEgmNADQDChB4BgQg8A\n",
       "wYQeAIIJPQAEE3oACCb0ABBM6AEgmNADQDChB4BgQg8AwQajPgD+CYNBz0975syZQ2+sX7++4ZKq\n",
       "F154oWXn/fffb9mpqnrsscdadi677LKWHeB/edEDQDChB4BgQg8AwYQeAIIJPQAEE3oACCb0ABBM\n",
       "6AEgmNADQDChB4BgQg8AwYQeAIIJPQAEE3oACCb0ABBM6AEgmNADQLCxqpoe9RFQVTU+3vfd+fLL\n",
       "L7fsXHfddUNvPPDAAw2XVB0+fLhlp9NVV13VsrN+/fqhN7Zs2dJwSdXGjRtbduB84UUPAMGEHgCC\n",
       "CT0ABBN6AAgm9AAQTOgBIJjQA0AwoQeAYEIPAMGEHgCCCT0ABBN6AAgm9AAQTOgBIJjQA0AwoQeA\n",
       "YEIPAMEGoz4AzpqYmGjbuuOOO1p21q1bN/TGkSNHGi45P91www0tOytXrhx6488//2y4pGrjxo0t\n",
       "O3C+8KIHgGBCDwDBhB4Aggk9AAQTegAIJvQAEEzoASCY0ANAMKEHgGBCDwDBhB4Aggk9AAQTegAI\n",
       "JvQAEEzoASCY0ANAMKEHgGBCDwDBBqM+AM6amJho2zp16lTLzo033jj0xvPPP99wSd/O5ORky05V\n",
       "1Z133tmyc/DgwaE3Dhw40HAJ5PGiB4BgQg8AwYQeAIIJPQAEE3oACCb0ABBM6AEgmNADQDChB4Bg\n",
       "Qg8AwYQeAIIJPQAEE3oACCb0ABBM6AEgmNADQLDBqA+As8bGxtq2Nm/e3LKzYMGCoTeWL1/ecEnV\n",
       "vffe27Lz0UcftexUVT366KMtO2fOnBl6Y/fu3Q2XQB4vegAIJvQAEEzoASCY0ANAMKEHgGBCDwDB\n",
       "hB4Aggk9AAQTegAIJvQAEEzoASCY0ANAMKEHgGBCDwDBhB4Aggk9AAQTegAINlZV06M+As5Xc+fO\n",
       "HXpj69atDZdUTU1NtewcPXq0Zaeq6pNPPmnZWbZs2dAb+/fvb7ik6oknnmjZgfOFFz0ABBN6AAgm\n",
       "9AAQTOgBIJjQA0AwoQeAYEIPAMGEHgCCCT0ABBN6AAgm9AAQTOgBIJjQA0AwoQeAYEIPAMGEHgCC\n",
       "CT0ABBuM+gD4J4yNjbXsLF26dOiNq6++uuGSqhdffLFl55VXXmnZqapat25dy85ff/019MamTZsa\n",
       "LoE8XvQAEEzoASCY0ANAMKEHgGBCDwDBhB4Aggk9AAQTegAIJvQAEEzoASCY0ANAMKEHgGBCDwDB\n",
       "hB4Aggk9AAQTegAIJvQAEGww6gPgn3DJJZe07MyfP3/ojccff7zhkqo333yzZWdqaqplp6pqcnKy\n",
       "ZWfFihVDb6xdu7bhEsjjRQ8AwYQeAIIJPQAEE3oACCb0ABBM6AEgmNADQDChB4BgQg8AwYQeAIIJ\n",
       "PQAEE3oACCb0ABBM6AEgmNADQDChB4BgQg8AwYQeAIINRn0AnLVq1aq2raeeeqpl55577hl6Y3Jy\n",
       "suGS89O+fftado4cOTL0xs8//zz8IRDIix4Aggk9AAQTegAIJvQAEEzoASCY0ANAMKEHgGBCDwDB\n",
       "hB4Aggk9AAQTegAIJvQAEEzoASCY0ANAMKEHgGBCDwDBhB4Agg1GfQAXvvHxnu/FNWvWtOxUVf39\n",
       "998tO7fffvvQG7t27Wq4pGrHjh0tO51WrFjRsrNw4cKhNxYsWNBwSdW3337bsgPnCy96AAgm9AAQ\n",
       "TOgBIJjQA0AwoQeAYEIPAMGEHgCCCT0ABBN6AAgm9AAQTOgBIJjQA0AwoQeAYEIPAMGEHgCCCT0A\n",
       "BBurqulRHwFVVRdffHHb1v3339+y8/TTTw+9cfjw4eEPqaoHH3ywZeeXX35p2amqevLJJ1t2xsbG\n",
       "ht549tlnGy6pOnPmTMsOnC+86AEgmNADQDChB4BgQg8AwYQeAIIJPQAEE3oACCb0ABBM6AEgmNAD\n",
       "QDChB4BgQg8AwYQeAIIJPQAEE3oACCb0ABBM6AEg2GDUB8BZJ06caNv68MMPW3Y2bNgw9MbmzZsb\n",
       "LqmaNWtWy86BAwdadqqqrr322padI0eODL1x5syZhksgjxc9AAQTegAIJvQAEEzoASCY0ANAMKEH\n",
       "gGBCDwDBhB4Aggk9AAQTegAIJvQAEEzoASCY0ANAMKEHgGBCDwDBhB4Aggk9AAQbjPoA+CfMmTOn\n",
       "Zefrr78eeuObb75puKTqu+++a9npNDEx0bIza9aslh3gf3nRA0AwoQeAYEIPAMGEHgCCCT0ABBN6\n",
       "AAgm9AAQTOgBIJjQA0AwoQeAYEIPAMGEHgCCCT0ABBN6AAgm9AAQTOgBIJjQA0AwoQeAYINRHwBn\n",
       "rV69um3rkUceadl59dVXh954/fXXhz+kqsbGxlp2lixZ0rJTVXX69OmWnfvuu2/ojc8//7zhkqrJ\n",
       "ycmWnaqqH3/8sWVn//79LTvT09MtO1xYvOgBIJjQA0AwoQeAYEIPAMGEHgCCCT0ABBN6AAgm9AAQ\n",
       "TOgBIJjQA0AwoQeAYEIPAMGEHgCCCT0ABBN6AAgm9AAQTOgBINhg1AfAWYsWLWrbuvXWW1t2du3a\n",
       "NfTGqlWrGi6pOnbsWMvO3Xff3bJTVXXy5MmWna+++mrojdWrVzdcUjVv3ryWnaqq6enplp1bbrml\n",
       "Zef48eMtO1xYvOgBIJjQA0AwoQeAYEIPAMGEHgCCCT0ABBN6AAgm9AAQTOgBIJjQA0AwoQeAYEIP\n",
       "AMGEHgCCCT0ABBN6AAgm9AAQbDDqA+Csn376qW1rfLznG/bhhx8eeqPrlqNHj7bs/Oc//2nZ6dxa\n",
       "vHjx0BsffPBBwyVVb7zxRstOVdWePXtado4fP96yw/9PXvQAEEzoASCY0ANAMKEHgGBCDwDBhB4A\n",
       "ggk9AAQTegAIJvQAEEzoASCY0ANAMKEHgGBCDwDBhB4Aggk9AAQTegAIJvQAEGww6gO48F155ZUt\n",
       "OytXrmzZ6TQ+Pvy38IkTJxouqTp06FDLzrvvvtuyU1W1Y8eOlp0tW7YMvfHDDz80XFI1PT3dsgPn\n",
       "Cy96AAgm9AAQTOgBIJjQA0AwoQeAYEIPAMGEHgCCCT0ABBN6AAgm9AAQTOgBIJjQA0AwoQeAYEIP\n",
       "AMGEHgCCCT0ABBN6AAgm9AAQbKyqpkd9BKMxc+bMlp3t27e37HTdU1W1bdu2lp2333576I3PPvus\n",
       "4ZKqX3/9tWXn1KlTLTvAhcGLHgCCCT0ABBN6AAgm9AAQTOgBIJjQA0AwoQeAYEIPAMGEHgCCCT0A\n",
       "BBN6AAgm9AAQTOgBIJjQA0AwoQeAYEIPAMGEHgCCDUZ9AOdufLzn++yhhx5q2bnoootadu66666W\n",
       "naqqnTt3tm0BXMi86AEgmNADQDChB4BgQg8AwYQeAIIJPQAEE3oACCb0ABBM6AEgmNADQDChB4Bg\n",
       "Qg8AwYQeAIIJPQAEE3oACCb0ABBM6AEg2GDUB3DulixZ0rKzfv36lp01a9a07OzcubNlB4D/40UP\n",
       "AMGEHgCCCT0ABBN6AAgm9AAQTOgBIJjQA0AwoQeAYEIPAMGEHgCCCT0ABBN6AAgm9AAQTOgBIJjQ\n",
       "A0AwoQeAYEIPAMEGoz6Ac7dw4cKWnampqZad/fv3t+wA0M+LHgCCCT0ABBN6AAgm9AAQTOgBIJjQ\n",
       "A0AwoQeAYEIPAMGEHgCCCT0ABBN6AAgm9AAQTOgBIJjQA0AwoQeAYEIPAMEGoz6Ac3f8+PGWnS1b\n",
       "trTszJs3r2UHgH5e9AAQTOgBIJjQA0AwoQeAYEIPAMGEHgCCCT0ABBN6AAgm9AAQTOgBIJjQA0Aw\n",
       "oQeAYEIPAMGEHgCCCT0ABBN6AAgm9AAQTOgBINhg1Adw7qamplp25s+f37LDhWXmzJltWzNmzGjZ\n",
       "ufTSS4femD17dsMlVQsXLmzZqapaunRpy857773XsrNt27aWnVOnTrXs8O/wogeAYEIPAMGEHgCC\n",
       "CT0ABBN6AAgm9AAQTOgBIJjQA0AwoQeAYEIPAMGEHgCCCT0ABBN6AAgm9AAQTOgBIJjQA0AwoQeA\n",
       "YGNVNT3qIzg311xzTcvOzTff3LJz+PDhlp0vvviiZaeq6vrrr2/ZmTt37tAbl19+ecMlVR9//HHL\n",
       "zqZNm1p2qqoWLVrUtjWs06dPt+z89ttvLTtVVXv37m3Z+f3331t2XnvttZadTz/9tGWHf4cXPQAE\n",
       "E3oACCb0ABBM6AEgmNADQDChB4BgQg8AwYQeAIIJPQAEE3oACCb0ABBM6AEgmNADQDChB4BgQg8A\n",
       "wYQeAIIJPQAEG4z6AM7dvn37WnZOnjzZsrNhw4aWnbfeeqtlp6pqzpw5LTszZswYemMw6PmbHTx4\n",
       "sGVn9uzZLTtVVRMTEy0777zzztAbe/fubbikany87/3z0ksvtewsXry4ZWf37t0tO1xYvOgBIJjQ\n",
       "A0AwoQeAYEIPAMGEHgCCCT0ABBN6AAgm9AAQTOgBIJjQA0AwoQeAYEIPAMGEHgCCCT0ABBN6AAgm\n",
       "9AAQTOgBINhYVU2P+ggubMuWLWvZ+fLLL1t2qqpOnjzZsjM5OTn0xvh4z/f0H3/80bKzb9++lp2q\n",
       "qq1bt7bs7NmzZ+iNY8eONVxStX379padqqqDBw+2bXW44oorWnYOHTrUssO/w4seAIIJPQAEE3oA\n",
       "CCb0ABBM6AEgmNADQDChB4BgQg8AwYQeAIIJPQAEE3oACCb0ABBM6AEgmNADQDChB4BgQg8AwYQe\n",
       "AIL9FzN+knY1dfvgAAAAAElFTkSuQmCC\n",
       "\" transform=\"translate(47, 47)\"/>\n",
       "</g>\n",
       "</svg>\n"
      ]
     },
     "execution_count": 163,
     "metadata": {},
     "output_type": "execute_result"
    }
   ],
   "source": [
    "println(img_label[1]+1, \" \", labels[img_label[1]+1])\n",
    "\n",
    "plot(Gray.(img[:,:,1]), axis=nothing, size=(150,150))"
   ]
  },
  {
   "cell_type": "code",
   "execution_count": null,
   "metadata": {},
   "outputs": [],
   "source": [
    "graph"
   ]
  },
  {
   "cell_type": "code",
   "execution_count": null,
   "metadata": {},
   "outputs": [],
   "source": [
    "i = 8\n",
    "println(graph[i].name)\n",
    "graph[i].gradient"
   ]
  },
  {
   "cell_type": "code",
   "execution_count": null,
   "metadata": {},
   "outputs": [],
   "source": [
    "graph[19].inputs[2].output"
   ]
  },
  {
   "cell_type": "code",
   "execution_count": null,
   "metadata": {},
   "outputs": [],
   "source": [
    "graph[17].gradient, _ = backward(graph[19], graph[19].inputs[1].output, graph[19].inputs[2].output, 1.0)"
   ]
  },
  {
   "cell_type": "code",
   "execution_count": null,
   "metadata": {},
   "outputs": [],
   "source": [
    "graph[16].gradient = backward(graph[17], graph[17].inputs[1].output, graph[17].gradient)"
   ]
  },
  {
   "cell_type": "code",
   "execution_count": null,
   "metadata": {},
   "outputs": [],
   "source": [
    "graph[16].inputs"
   ]
  },
  {
   "cell_type": "code",
   "execution_count": null,
   "metadata": {},
   "outputs": [],
   "source": [
    "graph[13].gradient, _, _ = backward(graph[16], graph[16].inputs[1].output, graph[16].inputs[2].output, graph[16].inputs[3].output, graph[16].gradient)"
   ]
  },
  {
   "cell_type": "code",
   "execution_count": null,
   "metadata": {},
   "outputs": [],
   "source": [
    "graph[10].gradient, _, _ = backward(graph[13], graph[13].inputs[1].output, graph[13].inputs[2].output, graph[13].inputs[3].output, graph[13].gradient)"
   ]
  },
  {
   "cell_type": "code",
   "execution_count": null,
   "metadata": {
    "scrolled": true
   },
   "outputs": [],
   "source": [
    "graph[9].gradient = backward(graph[10], graph[10].inputs[1].output, graph[10].gradient)"
   ]
  },
  {
   "cell_type": "code",
   "execution_count": null,
   "metadata": {
    "scrolled": true
   },
   "outputs": [],
   "source": [
    "graph[8].gradient = backward(graph[9], graph[9].inputs[1].output, graph[9].gradient)"
   ]
  },
  {
   "cell_type": "code",
   "execution_count": null,
   "metadata": {},
   "outputs": [],
   "source": [
    "graph[8].inputs"
   ]
  },
  {
   "cell_type": "code",
   "execution_count": null,
   "metadata": {},
   "outputs": [],
   "source": []
  }
 ],
 "metadata": {
  "kernelspec": {
   "display_name": "Julia 1.8.5",
   "language": "julia",
   "name": "julia-1.8"
  },
  "language_info": {
   "file_extension": ".jl",
   "mimetype": "application/julia",
   "name": "julia",
   "version": "1.8.5"
  }
 },
 "nbformat": 4,
 "nbformat_minor": 4
}
