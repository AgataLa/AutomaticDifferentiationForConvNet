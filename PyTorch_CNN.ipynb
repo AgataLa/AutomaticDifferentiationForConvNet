{
 "cells": [
  {
   "cell_type": "code",
   "execution_count": 1,
   "metadata": {
    "id": "NIte0zy3LprV"
   },
   "outputs": [],
   "source": [
    "from torch.nn import Module\n",
    "from torch.nn import Conv2d\n",
    "from torch.nn import Linear\n",
    "from torch.nn import MaxPool2d\n",
    "from torch.nn import ReLU\n",
    "from torch.nn import LogSoftmax, Softmax\n",
    "from torch import flatten"
   ]
  },
  {
   "cell_type": "code",
   "execution_count": 2,
   "metadata": {
    "id": "_bBUWwT9OtTK"
   },
   "outputs": [],
   "source": [
    "import matplotlib\n",
    "\n",
    "from sklearn.metrics import classification_report\n",
    "from torch.utils.data import random_split\n",
    "from torch.utils.data import DataLoader\n",
    "from torchvision.transforms import ToTensor\n",
    "from torchvision.datasets import KMNIST\n",
    "from torch.optim import Adam\n",
    "from torch import nn\n",
    "import matplotlib.pyplot as plt\n",
    "import numpy as np\n",
    "import argparse\n",
    "import torch\n",
    "import time\n",
    "import line_profiler\n",
    "import memory_profiler"
   ]
  },
  {
   "cell_type": "code",
   "execution_count": 3,
   "metadata": {
    "id": "do_f6iTrPeVE"
   },
   "outputs": [],
   "source": [
    "BATCH_SIZE = 1\n",
    "EPOCHS = 3\n",
    "\n",
    "TRAIN_SPLIT = 0.75\n",
    "VAL_SPLIT = 1 - TRAIN_SPLIT\n",
    "\n",
    "device = torch.device(\"cuda\" if torch.cuda.is_available() else \"cpu\")"
   ]
  },
  {
   "cell_type": "code",
   "execution_count": 4,
   "metadata": {
    "colab": {
     "base_uri": "https://localhost:8080/"
    },
    "id": "BuHRAz5iPsxy",
    "outputId": "d278346e-9cbe-4600-b8c2-5048e9af242c"
   },
   "outputs": [
    {
     "name": "stdout",
     "output_type": "stream",
     "text": [
      "60000\n",
      "10000\n"
     ]
    }
   ],
   "source": [
    "trainDataK = KMNIST(root=\"data\", train=True, download=True,\n",
    "\ttransform=ToTensor())\n",
    "testData = KMNIST(root=\"data\", train=False, download=True,\n",
    "\ttransform=ToTensor())\n",
    " \n",
    "print(int(len(trainDataK)))\n",
    "print(int(len(testData)))\n",
    "\n",
    "numTrainSamples = int(len(trainDataK) * TRAIN_SPLIT)\n",
    "numValSamples = int(len(trainDataK) * VAL_SPLIT)\n",
    "(trainData, valData, rest) = random_split(trainDataK,\n",
    "\t[1000, numValSamples, (int(len(trainDataK))-1000-numValSamples)],\n",
    "\tgenerator=torch.Generator().manual_seed(42))"
   ]
  },
  {
   "cell_type": "code",
   "execution_count": 5,
   "metadata": {
    "id": "Gc2cT4eAQEm0"
   },
   "outputs": [],
   "source": [
    "trainDataLoader = DataLoader(trainData, shuffle=True,\n",
    "\tbatch_size=BATCH_SIZE)\n",
    "valDataLoader = DataLoader(valData, batch_size=BATCH_SIZE)\n",
    "testDataLoader = DataLoader(testData, batch_size=BATCH_SIZE)\n",
    "\n",
    "trainSteps = len(trainDataLoader.dataset) // BATCH_SIZE\n",
    "valSteps = len(valDataLoader.dataset) // BATCH_SIZE"
   ]
  },
  {
   "cell_type": "code",
   "execution_count": 6,
   "metadata": {
    "id": "3mxrLVBmMV8A"
   },
   "outputs": [],
   "source": [
    "class PyTorchNet(Module):\n",
    "  def __init__(self, numChannels, classes):\n",
    "    super(PyTorchNet, self).__init__()\n",
    "\n",
    "    self.conv1 = Conv2d(in_channels=numChannels, out_channels=20, kernel_size=(5, 5))\n",
    "    self.relu1 = ReLU()\n",
    "    self.maxpool1 = MaxPool2d(kernel_size=(2, 2), stride=(2, 2))\n",
    "\n",
    "    self.conv2 = Conv2d(in_channels=20, out_channels=50, kernel_size=(5, 5))\n",
    "    self.relu2 = ReLU()\n",
    "    self.maxpool2 = MaxPool2d(kernel_size=(2, 2), stride=(2, 2))\n",
    "\n",
    "    self.fc1 = Linear(in_features=800, out_features=500)\n",
    "\n",
    "    self.fc2 = Linear(in_features=500, out_features=classes)\n",
    "    self.softmax = Softmax(dim=1)\n",
    "\n",
    "\n",
    "  def forward(self, x):\n",
    "    x = self.conv1(x)\n",
    "    x = self.relu1(x)\n",
    "    x = self.maxpool1(x)\n",
    "\n",
    "    x = self.conv2(x)\n",
    "    x = self.relu2(x)\n",
    "    x = self.maxpool2(x)\n",
    "\n",
    "    x = flatten(x, 1)\n",
    "    x = self.fc1(x)\n",
    "\n",
    "    x = self.fc2(x)\n",
    "    output = self.softmax(x)\n",
    "\n",
    "    return output"
   ]
  },
  {
   "cell_type": "code",
   "execution_count": 7,
   "metadata": {
    "id": "qs1d12HXiwwC"
   },
   "outputs": [],
   "source": [
    "model = PyTorchNet(\n",
    "\tnumChannels=1,\n",
    "\tclasses=len(trainData.dataset.classes)).to(device)"
   ]
  },
  {
   "cell_type": "code",
   "execution_count": 9,
   "metadata": {
    "colab": {
     "base_uri": "https://localhost:8080/"
    },
    "id": "rcPiQajsiJYQ",
    "outputId": "3b3800c4-88f7-4746-eba5-d92b56a43618"
   },
   "outputs": [
    {
     "ename": "ModuleNotFoundError",
     "evalue": "No module named 'torchsummary'",
     "output_type": "error",
     "traceback": [
      "\u001b[1;31m---------------------------------------------------------------------------\u001b[0m",
      "\u001b[1;31mModuleNotFoundError\u001b[0m                       Traceback (most recent call last)",
      "\u001b[1;32m<ipython-input-9-52cdeca12213>\u001b[0m in \u001b[0;36m<module>\u001b[1;34m\u001b[0m\n\u001b[1;32m----> 1\u001b[1;33m \u001b[1;32mfrom\u001b[0m \u001b[0mtorchsummary\u001b[0m \u001b[1;32mimport\u001b[0m \u001b[0msummary\u001b[0m\u001b[1;33m\u001b[0m\u001b[1;33m\u001b[0m\u001b[0m\n\u001b[0m\u001b[0;32m      2\u001b[0m \u001b[1;33m\u001b[0m\u001b[0m\n\u001b[0;32m      3\u001b[0m \u001b[0msummary\u001b[0m\u001b[1;33m(\u001b[0m\u001b[0mmodel\u001b[0m\u001b[1;33m,\u001b[0m \u001b[1;33m(\u001b[0m\u001b[1;36m1\u001b[0m\u001b[1;33m,\u001b[0m\u001b[1;36m28\u001b[0m\u001b[1;33m,\u001b[0m\u001b[1;36m28\u001b[0m\u001b[1;33m)\u001b[0m\u001b[1;33m)\u001b[0m\u001b[1;33m\u001b[0m\u001b[1;33m\u001b[0m\u001b[0m\n",
      "\u001b[1;31mModuleNotFoundError\u001b[0m: No module named 'torchsummary'"
     ]
    }
   ],
   "source": [
    "from torchsummary import summary\n",
    "\n",
    "summary(model, (1,28,28))"
   ]
  },
  {
   "cell_type": "code",
   "execution_count": 12,
   "metadata": {},
   "outputs": [
    {
     "name": "stdout",
     "output_type": "stream",
     "text": [
      "Data size:  100\n",
      "3   2.03564715385437\n",
      "Data size:  200\n",
      "3   4.867745320002238\n",
      "Data size:  300\n",
      "3   8.103740453720093\n",
      "Data size:  400\n",
      "3   10.14463472366333\n",
      "Data size:  500\n",
      "3   9.547699371973673\n",
      "Data size:  600\n",
      "3   18.702093760172527\n",
      "Data size:  700\n"
     ]
    },
    {
     "ename": "KeyboardInterrupt",
     "evalue": "",
     "output_type": "error",
     "traceback": [
      "\u001b[1;31m---------------------------------------------------------------------------\u001b[0m",
      "\u001b[1;31mKeyboardInterrupt\u001b[0m                         Traceback (most recent call last)",
      "\u001b[1;32m<ipython-input-12-ff3f22d1bf1e>\u001b[0m in \u001b[0;36m<module>\u001b[1;34m\u001b[0m\n\u001b[0;32m     96\u001b[0m   \u001b[1;32mfor\u001b[0m \u001b[0mi\u001b[0m \u001b[1;32min\u001b[0m \u001b[0mrange\u001b[0m\u001b[1;33m(\u001b[0m\u001b[1;36m1\u001b[0m\u001b[1;33m,\u001b[0m\u001b[1;36m4\u001b[0m\u001b[1;33m)\u001b[0m\u001b[1;33m:\u001b[0m\u001b[1;33m\u001b[0m\u001b[1;33m\u001b[0m\u001b[0m\n\u001b[0;32m     97\u001b[0m       \u001b[0mstartTime\u001b[0m \u001b[1;33m=\u001b[0m \u001b[0mtime\u001b[0m\u001b[1;33m.\u001b[0m\u001b[0mtime\u001b[0m\u001b[1;33m(\u001b[0m\u001b[1;33m)\u001b[0m\u001b[1;33m\u001b[0m\u001b[1;33m\u001b[0m\u001b[0m\n\u001b[1;32m---> 98\u001b[1;33m       \u001b[0mtrain_cnn\u001b[0m\u001b[1;33m(\u001b[0m\u001b[0mopt\u001b[0m\u001b[1;33m,\u001b[0m \u001b[0mmodel\u001b[0m\u001b[1;33m,\u001b[0m \u001b[0mtrainDataLoader\u001b[0m\u001b[1;33m)\u001b[0m\u001b[1;33m\u001b[0m\u001b[1;33m\u001b[0m\u001b[0m\n\u001b[0m\u001b[0;32m     99\u001b[0m       \u001b[0mendTime\u001b[0m \u001b[1;33m=\u001b[0m \u001b[0mtime\u001b[0m\u001b[1;33m.\u001b[0m\u001b[0mtime\u001b[0m\u001b[1;33m(\u001b[0m\u001b[1;33m)\u001b[0m\u001b[1;33m\u001b[0m\u001b[1;33m\u001b[0m\u001b[0m\n\u001b[0;32m    100\u001b[0m       \u001b[0mtime_sum\u001b[0m \u001b[1;33m+=\u001b[0m \u001b[1;33m(\u001b[0m\u001b[0mendTime\u001b[0m \u001b[1;33m-\u001b[0m \u001b[0mstartTime\u001b[0m\u001b[1;33m)\u001b[0m\u001b[1;33m\u001b[0m\u001b[1;33m\u001b[0m\u001b[0m\n",
      "\u001b[1;32m<ipython-input-12-ff3f22d1bf1e>\u001b[0m in \u001b[0;36mtrain_cnn\u001b[1;34m(opt, model, trainDataLoader)\u001b[0m\n\u001b[0;32m     43\u001b[0m         \u001b[0mloss\u001b[0m \u001b[1;33m=\u001b[0m \u001b[0mlossFn\u001b[0m\u001b[1;33m(\u001b[0m\u001b[0mpred\u001b[0m\u001b[1;33m,\u001b[0m \u001b[0my\u001b[0m\u001b[1;33m)\u001b[0m\u001b[1;33m\u001b[0m\u001b[1;33m\u001b[0m\u001b[0m\n\u001b[0;32m     44\u001b[0m         \u001b[0mopt\u001b[0m\u001b[1;33m.\u001b[0m\u001b[0mzero_grad\u001b[0m\u001b[1;33m(\u001b[0m\u001b[1;33m)\u001b[0m\u001b[1;33m\u001b[0m\u001b[1;33m\u001b[0m\u001b[0m\n\u001b[1;32m---> 45\u001b[1;33m         \u001b[0mloss\u001b[0m\u001b[1;33m.\u001b[0m\u001b[0mbackward\u001b[0m\u001b[1;33m(\u001b[0m\u001b[1;33m)\u001b[0m\u001b[1;33m\u001b[0m\u001b[1;33m\u001b[0m\u001b[0m\n\u001b[0m\u001b[0;32m     46\u001b[0m         \u001b[0mopt\u001b[0m\u001b[1;33m.\u001b[0m\u001b[0mstep\u001b[0m\u001b[1;33m(\u001b[0m\u001b[1;33m)\u001b[0m\u001b[1;33m\u001b[0m\u001b[1;33m\u001b[0m\u001b[0m\n\u001b[0;32m     47\u001b[0m         \u001b[0mtotalTrainLoss\u001b[0m \u001b[1;33m+=\u001b[0m \u001b[0mloss\u001b[0m\u001b[1;33m\u001b[0m\u001b[1;33m\u001b[0m\u001b[0m\n",
      "\u001b[1;32mE:\\Anaconda\\lib\\site-packages\\torch\\_tensor.py\u001b[0m in \u001b[0;36mbackward\u001b[1;34m(self, gradient, retain_graph, create_graph, inputs)\u001b[0m\n\u001b[0;32m    485\u001b[0m                 \u001b[0minputs\u001b[0m\u001b[1;33m=\u001b[0m\u001b[0minputs\u001b[0m\u001b[1;33m,\u001b[0m\u001b[1;33m\u001b[0m\u001b[1;33m\u001b[0m\u001b[0m\n\u001b[0;32m    486\u001b[0m             )\n\u001b[1;32m--> 487\u001b[1;33m         torch.autograd.backward(\n\u001b[0m\u001b[0;32m    488\u001b[0m             \u001b[0mself\u001b[0m\u001b[1;33m,\u001b[0m \u001b[0mgradient\u001b[0m\u001b[1;33m,\u001b[0m \u001b[0mretain_graph\u001b[0m\u001b[1;33m,\u001b[0m \u001b[0mcreate_graph\u001b[0m\u001b[1;33m,\u001b[0m \u001b[0minputs\u001b[0m\u001b[1;33m=\u001b[0m\u001b[0minputs\u001b[0m\u001b[1;33m\u001b[0m\u001b[1;33m\u001b[0m\u001b[0m\n\u001b[0;32m    489\u001b[0m         )\n",
      "\u001b[1;32mE:\\Anaconda\\lib\\site-packages\\torch\\autograd\\__init__.py\u001b[0m in \u001b[0;36mbackward\u001b[1;34m(tensors, grad_tensors, retain_graph, create_graph, grad_variables, inputs)\u001b[0m\n\u001b[0;32m    198\u001b[0m     \u001b[1;31m# some Python versions print out the first line of a multi-line function\u001b[0m\u001b[1;33m\u001b[0m\u001b[1;33m\u001b[0m\u001b[1;33m\u001b[0m\u001b[0m\n\u001b[0;32m    199\u001b[0m     \u001b[1;31m# calls in the traceback and some print out the last line\u001b[0m\u001b[1;33m\u001b[0m\u001b[1;33m\u001b[0m\u001b[1;33m\u001b[0m\u001b[0m\n\u001b[1;32m--> 200\u001b[1;33m     Variable._execution_engine.run_backward(  # Calls into the C++ engine to run the backward pass\n\u001b[0m\u001b[0;32m    201\u001b[0m         \u001b[0mtensors\u001b[0m\u001b[1;33m,\u001b[0m \u001b[0mgrad_tensors_\u001b[0m\u001b[1;33m,\u001b[0m \u001b[0mretain_graph\u001b[0m\u001b[1;33m,\u001b[0m \u001b[0mcreate_graph\u001b[0m\u001b[1;33m,\u001b[0m \u001b[0minputs\u001b[0m\u001b[1;33m,\u001b[0m\u001b[1;33m\u001b[0m\u001b[1;33m\u001b[0m\u001b[0m\n\u001b[0;32m    202\u001b[0m         allow_unreachable=True, accumulate_grad=True)  # Calls into the C++ engine to run the backward pass\n",
      "\u001b[1;31mKeyboardInterrupt\u001b[0m: "
     ]
    }
   ],
   "source": [
    "# from torch.profiler import profile, record_function, ProfilerActivity\n",
    "# from memory_profiler import memory_usage\n",
    "# from memory_profiler import profile\n",
    "# import tracemalloc\n",
    "\n",
    "#opt = Adam(model.parameters())\n",
    "lossFn = nn.CrossEntropyLoss()\n",
    "\n",
    "H = {\n",
    "\t\"train_loss\": [],\n",
    "\t\"train_acc\": [],\n",
    "\t\"val_loss\": [],\n",
    "\t\"val_acc\": []\n",
    "}\n",
    "\n",
    "# def trace_handler(p):\n",
    "#     output = p.key_averages().table(sort_by=\"self_cuda_time_total\", row_limit=10)\n",
    "#     print(output)\n",
    "#     p.export_chrome_trace(\"/tmp/trace_\" + str(p.step_num) + \".json\")\n",
    "\n",
    "# with profile(activities=[ProfilerActivity.CPU, ProfilerActivity.CUDA],\n",
    "#     schedule=torch.profiler.schedule(\n",
    "#         wait=2,\n",
    "#         warmup=2,\n",
    "#         active=6,\n",
    "#         repeat=1),\n",
    "#         profile_memory=True,\n",
    "#     on_trace_ready=trace_handler,\n",
    "#     with_stack=True\n",
    "# ) as profiler:\n",
    "\n",
    "def train_cnn(opt, model, trainDataLoader):\n",
    "    for e in range(0, EPOCHS):\n",
    "      model.train()\n",
    "      totalTrainLoss = 0\n",
    "      totalValLoss = 0\n",
    "      trainCorrect = 0\n",
    "      valCorrect = 0\n",
    "\n",
    "      for (x, y) in trainDataLoader:\n",
    "        (x, y) = (x.to(device), y.to(device))\n",
    "        pred = model(x)\n",
    "        loss = lossFn(pred, y)\n",
    "        opt.zero_grad()\n",
    "        loss.backward()\n",
    "        opt.step()\n",
    "        totalTrainLoss += loss\n",
    "        trainCorrect += (pred.argmax(1) == y).type(torch.float).sum().item()\n",
    "\n",
    "      # with torch.no_grad():\n",
    "      #   model.eval()\n",
    "\n",
    "      #   for (x, y) in valDataLoader:\n",
    "      #   \t(x, y) = (x.to(device), y.to(device))\n",
    "\n",
    "      #   \tpred = model(x)\n",
    "      #   \ttotalValLoss += lossFn(pred, y)\n",
    "\n",
    "      #   \tvalCorrect += (pred.argmax(1) == y).type(\n",
    "      #   \t\ttorch.float).sum().item()\n",
    "      #profiler.step()\n",
    "      avgTrainLoss = totalTrainLoss / trainSteps\n",
    "      avgValLoss = totalValLoss / valSteps\n",
    "\n",
    "      trainCorrect = trainCorrect / len(trainDataLoader.dataset)\n",
    "      valCorrect = valCorrect / len(valDataLoader.dataset)\n",
    "\n",
    "      # H[\"train_loss\"].append(avgTrainLoss.cpu().detach().numpy())\n",
    "      # H[\"train_acc\"].append(trainCorrect)\n",
    "      # H[\"val_loss\"].append(avgValLoss.cpu().detach().numpy())\n",
    "      # H[\"val_acc\"].append(valCorrect)\n",
    "\n",
    "#       print(\"[INFO] EPOCH: {}/{}\".format(e + 1, EPOCHS))\n",
    "#       print(\"Train loss: {:.6f}, Train accuracy: {:.4f}\".format(\n",
    "#         avgTrainLoss, trainCorrect))\n",
    "      # print(\"Val loss: {:.6f}, Val accuracy: {:.4f}\\n\".format(\n",
    "      #   avgValLoss, valCorrect))\n",
    " \n",
    "#tracemalloc.start(400)\n",
    "for i in range(100, 1000, 100):\n",
    "  (trainData, rest) = random_split(trainDataK,\n",
    "  [i, (int(len(trainDataK))-i)],\n",
    "  generator=torch.Generator().manual_seed(42))\n",
    "  trainDataLoader = DataLoader(trainData, shuffle=True,\n",
    "  batch_size=BATCH_SIZE)\n",
    "  model = PyTorchNet(\n",
    "\tnumChannels=1,\n",
    "\tclasses=len(trainData.dataset.classes)).to(device)\n",
    "  opt = Adam(model.parameters())\n",
    "\n",
    "  print(\"Data size: \", i)\n",
    "  \n",
    "  #mem_bef, a = tracemalloc.get_traced_memory()\n",
    "  #snapshot1 = tracemalloc.take_snapshot()\n",
    "  time_sum = 0\n",
    "  for i in range(1,4):\n",
    "      startTime = time.time()\n",
    "      train_cnn(opt, model, trainDataLoader)\n",
    "      endTime = time.time()\n",
    "      time_sum += (endTime - startTime)\n",
    "  #mem_aft, a = tracemalloc.get_traced_memory()\n",
    "  #snapshot2 = tracemalloc.take_snapshot()\n",
    "  #top_stats = snapshot2.compare_to(snapshot1, \"lineno\")\n",
    "#   sum = 0\n",
    "#   for stat in top_stats:\n",
    "#     sum += stat.size\n",
    "#     #print(stat.traceback.format())\n",
    "#   print(sum)\n",
    "  print(i, \" \", time_sum/3)\n",
    "\n",
    "\n",
    "#   mem_usage = memory_usage((train_cnn, (opt, model, trainDataLoader)))\n",
    "#   print('Memory usage (in chunks of .1 seconds): %s' % mem_usage)\n",
    "#   print('Maximum memory usage: %s' % max(mem_usage))\n",
    "\n",
    "\n",
    "# endTime = time.time()\n",
    "# print(\"[INFO] total time taken to train the model: {:.2f}s\".format(\n",
    "# \tendTime - startTime))\n",
    "\n",
    "# with torch.no_grad():\n",
    "# \tmodel.eval()\n",
    "# \tpreds = []\n",
    "\n",
    "# \tfor (x, y) in testDataLoader:\n",
    "# \t\tx = x.to(device)\n",
    "# \t\tpred = model(x)\n",
    "# \t\tpreds.extend(pred.argmax(axis=1).cpu().numpy())\n",
    "\n",
    "# print(classification_report(testData.targets.cpu().numpy(),\n",
    "# \tnp.array(preds), target_names=testData.classes))\n",
    "\n",
    "\n",
    "# plt.style.use(\"ggplot\")\n",
    "# plt.figure()\n",
    "# plt.plot(H[\"train_loss\"], label=\"train_loss\")\n",
    "# plt.plot(H[\"val_loss\"], label=\"val_loss\")\n",
    "# plt.plot(H[\"train_acc\"], label=\"train_acc\")\n",
    "# plt.plot(H[\"val_acc\"], label=\"val_acc\")\n",
    "# plt.title(\"Training Loss and Accuracy on Dataset\")\n",
    "# plt.xlabel(\"Epoch #\")\n",
    "# plt.ylabel(\"Loss/Accuracy\")\n",
    "# plt.legend(loc=\"lower left\")\n",
    "# plt.savefig(\"plot.png\")\n",
    "\n",
    "# torch.save(model, \"model.pth\")"
   ]
  },
  {
   "cell_type": "code",
   "execution_count": 25,
   "metadata": {
    "colab": {
     "base_uri": "https://localhost:8080/"
    },
    "id": "1JoFLIF-6qRK",
    "outputId": "e6a163e0-c01f-4a32-bf47-ee1a324afbad"
   },
   "outputs": [
    {
     "name": "stdout",
     "output_type": "stream",
     "text": [
      "Data size:  100\n",
      "2.7 s ± 440 ms per loop (mean ± std. dev. of 7 runs, 1 loop each)\n",
      "Data size:  200\n",
      "6.19 s ± 505 ms per loop (mean ± std. dev. of 7 runs, 1 loop each)\n",
      "Data size:  300\n",
      "10.4 s ± 416 ms per loop (mean ± std. dev. of 7 runs, 1 loop each)\n",
      "Data size:  400\n",
      "12.9 s ± 886 ms per loop (mean ± std. dev. of 7 runs, 1 loop each)\n",
      "Data size:  500\n",
      "14.4 s ± 462 ms per loop (mean ± std. dev. of 7 runs, 1 loop each)\n",
      "Data size:  600\n",
      "18.9 s ± 389 ms per loop (mean ± std. dev. of 7 runs, 1 loop each)\n",
      "Data size:  700\n",
      "22.5 s ± 871 ms per loop (mean ± std. dev. of 7 runs, 1 loop each)\n",
      "Data size:  800\n",
      "27.2 s ± 758 ms per loop (mean ± std. dev. of 7 runs, 1 loop each)\n",
      "Data size:  900\n",
      "33 s ± 1.42 s per loop (mean ± std. dev. of 7 runs, 1 loop each)\n",
      "Data size:  1000\n",
      "26.7 s ± 380 ms per loop (mean ± std. dev. of 7 runs, 1 loop each)\n",
      "Data size:  1100\n",
      "37.7 s ± 1.09 s per loop (mean ± std. dev. of 7 runs, 1 loop each)\n",
      "Data size:  1200\n",
      "36.8 s ± 633 ms per loop (mean ± std. dev. of 7 runs, 1 loop each)\n",
      "Data size:  1300\n",
      "48.1 s ± 1.33 s per loop (mean ± std. dev. of 7 runs, 1 loop each)\n",
      "Data size:  1400\n",
      "45.4 s ± 602 ms per loop (mean ± std. dev. of 7 runs, 1 loop each)\n",
      "Data size:  1500\n",
      "55.2 s ± 712 ms per loop (mean ± std. dev. of 7 runs, 1 loop each)\n",
      "Data size:  1600\n",
      "53.1 s ± 12.9 s per loop (mean ± std. dev. of 7 runs, 1 loop each)\n",
      "Data size:  1700\n",
      "1min 1s ± 978 ms per loop (mean ± std. dev. of 7 runs, 1 loop each)\n",
      "Data size:  1800\n",
      "54.3 s ± 1.37 s per loop (mean ± std. dev. of 7 runs, 1 loop each)\n",
      "Data size:  1900\n",
      "1min 7s ± 6.04 s per loop (mean ± std. dev. of 7 runs, 1 loop each)\n"
     ]
    }
   ],
   "source": [
    "from torch.profiler import profile, record_function, ProfilerActivity\n",
    "from memory_profiler import memory_usage\n",
    "from memory_profiler import profile\n",
    "import tracemalloc\n",
    "\n",
    "#opt = Adam(model.parameters())\n",
    "lossFn = nn.CrossEntropyLoss()\n",
    "\n",
    "H = {\n",
    "\t\"train_loss\": [],\n",
    "\t\"train_acc\": [],\n",
    "\t\"val_loss\": [],\n",
    "\t\"val_acc\": []\n",
    "}\n",
    "\n",
    "startTime = time.time()\n",
    "\n",
    "# def trace_handler(p):\n",
    "#     output = p.key_averages().table(sort_by=\"self_cuda_time_total\", row_limit=10)\n",
    "#     print(output)\n",
    "#     p.export_chrome_trace(\"/tmp/trace_\" + str(p.step_num) + \".json\")\n",
    "\n",
    "# with profile(activities=[ProfilerActivity.CPU, ProfilerActivity.CUDA],\n",
    "#     schedule=torch.profiler.schedule(\n",
    "#         wait=2,\n",
    "#         warmup=2,\n",
    "#         active=6,\n",
    "#         repeat=1),\n",
    "#         profile_memory=True,\n",
    "#     on_trace_ready=trace_handler,\n",
    "#     with_stack=True\n",
    "# ) as profiler:\n",
    "\n",
    "def train_cnn(opt, model, trainDataLoader):\n",
    "    for e in range(0, EPOCHS):\n",
    "      model.train()\n",
    "      totalTrainLoss = 0\n",
    "      totalValLoss = 0\n",
    "      trainCorrect = 0\n",
    "      valCorrect = 0\n",
    "\n",
    "      for (x, y) in trainDataLoader:\n",
    "        (x, y) = (x.to(device), y.to(device))\n",
    "        pred = model(x)\n",
    "        loss = lossFn(pred, y)\n",
    "        opt.zero_grad()\n",
    "        loss.backward()\n",
    "        opt.step()\n",
    "        totalTrainLoss += loss\n",
    "        trainCorrect += (pred.argmax(1) == y).type(torch.float).sum().item()\n",
    "\n",
    "      # with torch.no_grad():\n",
    "      #   model.eval()\n",
    "\n",
    "      #   for (x, y) in valDataLoader:\n",
    "      #   \t(x, y) = (x.to(device), y.to(device))\n",
    "\n",
    "      #   \tpred = model(x)\n",
    "      #   \ttotalValLoss += lossFn(pred, y)\n",
    "\n",
    "      #   \tvalCorrect += (pred.argmax(1) == y).type(\n",
    "      #   \t\ttorch.float).sum().item()\n",
    "      #profiler.step()\n",
    "      avgTrainLoss = totalTrainLoss / trainSteps\n",
    "      avgValLoss = totalValLoss / valSteps\n",
    "\n",
    "      trainCorrect = trainCorrect / len(trainDataLoader.dataset)\n",
    "      valCorrect = valCorrect / len(valDataLoader.dataset)\n",
    "\n",
    "      # H[\"train_loss\"].append(avgTrainLoss.cpu().detach().numpy())\n",
    "      # H[\"train_acc\"].append(trainCorrect)\n",
    "      # H[\"val_loss\"].append(avgValLoss.cpu().detach().numpy())\n",
    "      # H[\"val_acc\"].append(valCorrect)\n",
    "\n",
    "#       print(\"[INFO] EPOCH: {}/{}\".format(e + 1, EPOCHS))\n",
    "#       print(\"Train loss: {:.6f}, Train accuracy: {:.4f}\".format(\n",
    "#         avgTrainLoss, trainCorrect))\n",
    "      # print(\"Val loss: {:.6f}, Val accuracy: {:.4f}\\n\".format(\n",
    "      #   avgValLoss, valCorrect))\n",
    " \n",
    "#tracemalloc.start()\n",
    "for i in range(100, 2000, 100):\n",
    "  (trainData, rest) = random_split(trainDataK,\n",
    "  [i, (int(len(trainDataK))-i)],\n",
    "  generator=torch.Generator().manual_seed(42))\n",
    "  trainDataLoader = DataLoader(trainData, shuffle=True,\n",
    "  batch_size=BATCH_SIZE)\n",
    "  model = PyTorchNet(\n",
    "\tnumChannels=1,\n",
    "\tclasses=len(trainData.dataset.classes)).to(device)\n",
    "  opt = Adam(model.parameters())\n",
    "\n",
    "  print(\"Data size: \", i)\n",
    "  %timeit train_cnn(opt, model, trainDataLoader)\n",
    "  #%memit train_cnn(opt, model, trainDataLoader)\n",
    "\n",
    "#   mem_usage = memory_usage((train_cnn, (opt, model, trainDataLoader)))\n",
    "#   print('Memory usage (in chunks of .1 seconds): %s' % mem_usage)\n",
    "#   print('Maximum memory usage: %s' % max(mem_usage))\n",
    "\n",
    "\n",
    "# endTime = time.time()\n",
    "# print(\"[INFO] total time taken to train the model: {:.2f}s\".format(\n",
    "# \tendTime - startTime))\n",
    "\n",
    "# with torch.no_grad():\n",
    "# \tmodel.eval()\n",
    "# \tpreds = []\n",
    "\n",
    "# \tfor (x, y) in testDataLoader:\n",
    "# \t\tx = x.to(device)\n",
    "# \t\tpred = model(x)\n",
    "# \t\tpreds.extend(pred.argmax(axis=1).cpu().numpy())\n",
    "\n",
    "# print(classification_report(testData.targets.cpu().numpy(),\n",
    "# \tnp.array(preds), target_names=testData.classes))\n",
    "\n",
    "\n",
    "# plt.style.use(\"ggplot\")\n",
    "# plt.figure()\n",
    "# plt.plot(H[\"train_loss\"], label=\"train_loss\")\n",
    "# plt.plot(H[\"val_loss\"], label=\"val_loss\")\n",
    "# plt.plot(H[\"train_acc\"], label=\"train_acc\")\n",
    "# plt.plot(H[\"val_acc\"], label=\"val_acc\")\n",
    "# plt.title(\"Training Loss and Accuracy on Dataset\")\n",
    "# plt.xlabel(\"Epoch #\")\n",
    "# plt.ylabel(\"Loss/Accuracy\")\n",
    "# plt.legend(loc=\"lower left\")\n",
    "# plt.savefig(\"plot.png\")\n",
    "\n",
    "# torch.save(model, \"model.pth\")"
   ]
  },
  {
   "cell_type": "code",
   "execution_count": 12,
   "metadata": {
    "scrolled": true
   },
   "outputs": [
    {
     "name": "stdout",
     "output_type": "stream",
     "text": [
      "Data size:  200\n",
      "6.98 s ± 378 ms per loop (mean ± std. dev. of 2 runs, 1 loop each)\n",
      "Data size:  300\n",
      "8.87 s ± 181 ms per loop (mean ± std. dev. of 2 runs, 1 loop each)\n",
      "Data size:  400\n",
      "12.8 s ± 106 ms per loop (mean ± std. dev. of 2 runs, 1 loop each)\n",
      "Data size:  500\n",
      "16.6 s ± 505 ms per loop (mean ± std. dev. of 2 runs, 1 loop each)\n",
      "Data size:  600\n",
      "22.1 s ± 178 ms per loop (mean ± std. dev. of 2 runs, 1 loop each)\n",
      "Data size:  700\n",
      "18.6 s ± 145 ms per loop (mean ± std. dev. of 2 runs, 1 loop each)\n",
      "Data size:  800\n",
      "28.1 s ± 283 ms per loop (mean ± std. dev. of 2 runs, 1 loop each)\n",
      "Data size:  900\n",
      "31.6 s ± 2.44 s per loop (mean ± std. dev. of 2 runs, 1 loop each)\n",
      "Data size:  1000\n",
      "37.4 s ± 542 ms per loop (mean ± std. dev. of 2 runs, 1 loop each)\n",
      "Data size:  1100\n",
      "36.5 s ± 428 ms per loop (mean ± std. dev. of 2 runs, 1 loop each)\n",
      "Data size:  1200\n",
      "35.4 s ± 4.02 s per loop (mean ± std. dev. of 2 runs, 1 loop each)\n",
      "Data size:  1300\n"
     ]
    },
    {
     "ename": "KeyboardInterrupt",
     "evalue": "",
     "output_type": "error",
     "traceback": [
      "\u001b[1;31m---------------------------------------------------------------------------\u001b[0m",
      "\u001b[1;31mKeyboardInterrupt\u001b[0m                         Traceback (most recent call last)",
      "\u001b[1;32m<ipython-input-12-155e64fa5f42>\u001b[0m in \u001b[0;36m<module>\u001b[1;34m\u001b[0m\n\u001b[0;32m     91\u001b[0m \u001b[1;33m\u001b[0m\u001b[0m\n\u001b[0;32m     92\u001b[0m   \u001b[0mprint\u001b[0m\u001b[1;33m(\u001b[0m\u001b[1;34m\"Data size: \"\u001b[0m\u001b[1;33m,\u001b[0m \u001b[0mi\u001b[0m\u001b[1;33m)\u001b[0m\u001b[1;33m\u001b[0m\u001b[1;33m\u001b[0m\u001b[0m\n\u001b[1;32m---> 93\u001b[1;33m   \u001b[0mget_ipython\u001b[0m\u001b[1;33m(\u001b[0m\u001b[1;33m)\u001b[0m\u001b[1;33m.\u001b[0m\u001b[0mrun_line_magic\u001b[0m\u001b[1;33m(\u001b[0m\u001b[1;34m'timeit'\u001b[0m\u001b[1;33m,\u001b[0m \u001b[1;34m'-r 2 train_cnn(opt, model, trainDataLoader)'\u001b[0m\u001b[1;33m)\u001b[0m\u001b[1;33m\u001b[0m\u001b[1;33m\u001b[0m\u001b[0m\n\u001b[0m\u001b[0;32m     94\u001b[0m   \u001b[1;31m#%memit train_cnn(opt, model, trainDataLoader)\u001b[0m\u001b[1;33m\u001b[0m\u001b[1;33m\u001b[0m\u001b[1;33m\u001b[0m\u001b[0m\n\u001b[0;32m     95\u001b[0m \u001b[1;33m\u001b[0m\u001b[0m\n",
      "\u001b[1;32mE:\\Anaconda\\lib\\site-packages\\IPython\\core\\interactiveshell.py\u001b[0m in \u001b[0;36mrun_line_magic\u001b[1;34m(self, magic_name, line, _stack_depth)\u001b[0m\n\u001b[0;32m   2324\u001b[0m                 \u001b[0mkwargs\u001b[0m\u001b[1;33m[\u001b[0m\u001b[1;34m'local_ns'\u001b[0m\u001b[1;33m]\u001b[0m \u001b[1;33m=\u001b[0m \u001b[0mself\u001b[0m\u001b[1;33m.\u001b[0m\u001b[0mget_local_scope\u001b[0m\u001b[1;33m(\u001b[0m\u001b[0mstack_depth\u001b[0m\u001b[1;33m)\u001b[0m\u001b[1;33m\u001b[0m\u001b[1;33m\u001b[0m\u001b[0m\n\u001b[0;32m   2325\u001b[0m             \u001b[1;32mwith\u001b[0m \u001b[0mself\u001b[0m\u001b[1;33m.\u001b[0m\u001b[0mbuiltin_trap\u001b[0m\u001b[1;33m:\u001b[0m\u001b[1;33m\u001b[0m\u001b[1;33m\u001b[0m\u001b[0m\n\u001b[1;32m-> 2326\u001b[1;33m                 \u001b[0mresult\u001b[0m \u001b[1;33m=\u001b[0m \u001b[0mfn\u001b[0m\u001b[1;33m(\u001b[0m\u001b[1;33m*\u001b[0m\u001b[0margs\u001b[0m\u001b[1;33m,\u001b[0m \u001b[1;33m**\u001b[0m\u001b[0mkwargs\u001b[0m\u001b[1;33m)\u001b[0m\u001b[1;33m\u001b[0m\u001b[1;33m\u001b[0m\u001b[0m\n\u001b[0m\u001b[0;32m   2327\u001b[0m             \u001b[1;32mreturn\u001b[0m \u001b[0mresult\u001b[0m\u001b[1;33m\u001b[0m\u001b[1;33m\u001b[0m\u001b[0m\n\u001b[0;32m   2328\u001b[0m \u001b[1;33m\u001b[0m\u001b[0m\n",
      "\u001b[1;32m<decorator-gen-54>\u001b[0m in \u001b[0;36mtimeit\u001b[1;34m(self, line, cell, local_ns)\u001b[0m\n",
      "\u001b[1;32mE:\\Anaconda\\lib\\site-packages\\IPython\\core\\magic.py\u001b[0m in \u001b[0;36m<lambda>\u001b[1;34m(f, *a, **k)\u001b[0m\n\u001b[0;32m    185\u001b[0m     \u001b[1;31m# but it's overkill for just that one bit of state.\u001b[0m\u001b[1;33m\u001b[0m\u001b[1;33m\u001b[0m\u001b[1;33m\u001b[0m\u001b[0m\n\u001b[0;32m    186\u001b[0m     \u001b[1;32mdef\u001b[0m \u001b[0mmagic_deco\u001b[0m\u001b[1;33m(\u001b[0m\u001b[0marg\u001b[0m\u001b[1;33m)\u001b[0m\u001b[1;33m:\u001b[0m\u001b[1;33m\u001b[0m\u001b[1;33m\u001b[0m\u001b[0m\n\u001b[1;32m--> 187\u001b[1;33m         \u001b[0mcall\u001b[0m \u001b[1;33m=\u001b[0m \u001b[1;32mlambda\u001b[0m \u001b[0mf\u001b[0m\u001b[1;33m,\u001b[0m \u001b[1;33m*\u001b[0m\u001b[0ma\u001b[0m\u001b[1;33m,\u001b[0m \u001b[1;33m**\u001b[0m\u001b[0mk\u001b[0m\u001b[1;33m:\u001b[0m \u001b[0mf\u001b[0m\u001b[1;33m(\u001b[0m\u001b[1;33m*\u001b[0m\u001b[0ma\u001b[0m\u001b[1;33m,\u001b[0m \u001b[1;33m**\u001b[0m\u001b[0mk\u001b[0m\u001b[1;33m)\u001b[0m\u001b[1;33m\u001b[0m\u001b[1;33m\u001b[0m\u001b[0m\n\u001b[0m\u001b[0;32m    188\u001b[0m \u001b[1;33m\u001b[0m\u001b[0m\n\u001b[0;32m    189\u001b[0m         \u001b[1;32mif\u001b[0m \u001b[0mcallable\u001b[0m\u001b[1;33m(\u001b[0m\u001b[0marg\u001b[0m\u001b[1;33m)\u001b[0m\u001b[1;33m:\u001b[0m\u001b[1;33m\u001b[0m\u001b[1;33m\u001b[0m\u001b[0m\n",
      "\u001b[1;32mE:\\Anaconda\\lib\\site-packages\\IPython\\core\\magics\\execution.py\u001b[0m in \u001b[0;36mtimeit\u001b[1;34m(self, line, cell, local_ns)\u001b[0m\n\u001b[0;32m   1171\u001b[0m                     \u001b[1;32mbreak\u001b[0m\u001b[1;33m\u001b[0m\u001b[1;33m\u001b[0m\u001b[0m\n\u001b[0;32m   1172\u001b[0m \u001b[1;33m\u001b[0m\u001b[0m\n\u001b[1;32m-> 1173\u001b[1;33m         \u001b[0mall_runs\u001b[0m \u001b[1;33m=\u001b[0m \u001b[0mtimer\u001b[0m\u001b[1;33m.\u001b[0m\u001b[0mrepeat\u001b[0m\u001b[1;33m(\u001b[0m\u001b[0mrepeat\u001b[0m\u001b[1;33m,\u001b[0m \u001b[0mnumber\u001b[0m\u001b[1;33m)\u001b[0m\u001b[1;33m\u001b[0m\u001b[1;33m\u001b[0m\u001b[0m\n\u001b[0m\u001b[0;32m   1174\u001b[0m         \u001b[0mbest\u001b[0m \u001b[1;33m=\u001b[0m \u001b[0mmin\u001b[0m\u001b[1;33m(\u001b[0m\u001b[0mall_runs\u001b[0m\u001b[1;33m)\u001b[0m \u001b[1;33m/\u001b[0m \u001b[0mnumber\u001b[0m\u001b[1;33m\u001b[0m\u001b[1;33m\u001b[0m\u001b[0m\n\u001b[0;32m   1175\u001b[0m         \u001b[0mworst\u001b[0m \u001b[1;33m=\u001b[0m \u001b[0mmax\u001b[0m\u001b[1;33m(\u001b[0m\u001b[0mall_runs\u001b[0m\u001b[1;33m)\u001b[0m \u001b[1;33m/\u001b[0m \u001b[0mnumber\u001b[0m\u001b[1;33m\u001b[0m\u001b[1;33m\u001b[0m\u001b[0m\n",
      "\u001b[1;32mE:\\Anaconda\\lib\\timeit.py\u001b[0m in \u001b[0;36mrepeat\u001b[1;34m(self, repeat, number)\u001b[0m\n\u001b[0;32m    203\u001b[0m         \u001b[0mr\u001b[0m \u001b[1;33m=\u001b[0m \u001b[1;33m[\u001b[0m\u001b[1;33m]\u001b[0m\u001b[1;33m\u001b[0m\u001b[1;33m\u001b[0m\u001b[0m\n\u001b[0;32m    204\u001b[0m         \u001b[1;32mfor\u001b[0m \u001b[0mi\u001b[0m \u001b[1;32min\u001b[0m \u001b[0mrange\u001b[0m\u001b[1;33m(\u001b[0m\u001b[0mrepeat\u001b[0m\u001b[1;33m)\u001b[0m\u001b[1;33m:\u001b[0m\u001b[1;33m\u001b[0m\u001b[1;33m\u001b[0m\u001b[0m\n\u001b[1;32m--> 205\u001b[1;33m             \u001b[0mt\u001b[0m \u001b[1;33m=\u001b[0m \u001b[0mself\u001b[0m\u001b[1;33m.\u001b[0m\u001b[0mtimeit\u001b[0m\u001b[1;33m(\u001b[0m\u001b[0mnumber\u001b[0m\u001b[1;33m)\u001b[0m\u001b[1;33m\u001b[0m\u001b[1;33m\u001b[0m\u001b[0m\n\u001b[0m\u001b[0;32m    206\u001b[0m             \u001b[0mr\u001b[0m\u001b[1;33m.\u001b[0m\u001b[0mappend\u001b[0m\u001b[1;33m(\u001b[0m\u001b[0mt\u001b[0m\u001b[1;33m)\u001b[0m\u001b[1;33m\u001b[0m\u001b[1;33m\u001b[0m\u001b[0m\n\u001b[0;32m    207\u001b[0m         \u001b[1;32mreturn\u001b[0m \u001b[0mr\u001b[0m\u001b[1;33m\u001b[0m\u001b[1;33m\u001b[0m\u001b[0m\n",
      "\u001b[1;32mE:\\Anaconda\\lib\\site-packages\\IPython\\core\\magics\\execution.py\u001b[0m in \u001b[0;36mtimeit\u001b[1;34m(self, number)\u001b[0m\n\u001b[0;32m    167\u001b[0m         \u001b[0mgc\u001b[0m\u001b[1;33m.\u001b[0m\u001b[0mdisable\u001b[0m\u001b[1;33m(\u001b[0m\u001b[1;33m)\u001b[0m\u001b[1;33m\u001b[0m\u001b[1;33m\u001b[0m\u001b[0m\n\u001b[0;32m    168\u001b[0m         \u001b[1;32mtry\u001b[0m\u001b[1;33m:\u001b[0m\u001b[1;33m\u001b[0m\u001b[1;33m\u001b[0m\u001b[0m\n\u001b[1;32m--> 169\u001b[1;33m             \u001b[0mtiming\u001b[0m \u001b[1;33m=\u001b[0m \u001b[0mself\u001b[0m\u001b[1;33m.\u001b[0m\u001b[0minner\u001b[0m\u001b[1;33m(\u001b[0m\u001b[0mit\u001b[0m\u001b[1;33m,\u001b[0m \u001b[0mself\u001b[0m\u001b[1;33m.\u001b[0m\u001b[0mtimer\u001b[0m\u001b[1;33m)\u001b[0m\u001b[1;33m\u001b[0m\u001b[1;33m\u001b[0m\u001b[0m\n\u001b[0m\u001b[0;32m    170\u001b[0m         \u001b[1;32mfinally\u001b[0m\u001b[1;33m:\u001b[0m\u001b[1;33m\u001b[0m\u001b[1;33m\u001b[0m\u001b[0m\n\u001b[0;32m    171\u001b[0m             \u001b[1;32mif\u001b[0m \u001b[0mgcold\u001b[0m\u001b[1;33m:\u001b[0m\u001b[1;33m\u001b[0m\u001b[1;33m\u001b[0m\u001b[0m\n",
      "\u001b[1;32m<magic-timeit>\u001b[0m in \u001b[0;36minner\u001b[1;34m(_it, _timer)\u001b[0m\n",
      "\u001b[1;32m<ipython-input-12-155e64fa5f42>\u001b[0m in \u001b[0;36mtrain_cnn\u001b[1;34m(opt, model, trainDataLoader)\u001b[0m\n\u001b[0;32m     45\u001b[0m         \u001b[0mopt\u001b[0m\u001b[1;33m.\u001b[0m\u001b[0mzero_grad\u001b[0m\u001b[1;33m(\u001b[0m\u001b[1;33m)\u001b[0m\u001b[1;33m\u001b[0m\u001b[1;33m\u001b[0m\u001b[0m\n\u001b[0;32m     46\u001b[0m         \u001b[0mloss\u001b[0m\u001b[1;33m.\u001b[0m\u001b[0mbackward\u001b[0m\u001b[1;33m(\u001b[0m\u001b[1;33m)\u001b[0m\u001b[1;33m\u001b[0m\u001b[1;33m\u001b[0m\u001b[0m\n\u001b[1;32m---> 47\u001b[1;33m         \u001b[0mopt\u001b[0m\u001b[1;33m.\u001b[0m\u001b[0mstep\u001b[0m\u001b[1;33m(\u001b[0m\u001b[1;33m)\u001b[0m\u001b[1;33m\u001b[0m\u001b[1;33m\u001b[0m\u001b[0m\n\u001b[0m\u001b[0;32m     48\u001b[0m         \u001b[0mtotalTrainLoss\u001b[0m \u001b[1;33m+=\u001b[0m \u001b[0mloss\u001b[0m\u001b[1;33m\u001b[0m\u001b[1;33m\u001b[0m\u001b[0m\n\u001b[0;32m     49\u001b[0m         \u001b[0mtrainCorrect\u001b[0m \u001b[1;33m+=\u001b[0m \u001b[1;33m(\u001b[0m\u001b[0mpred\u001b[0m\u001b[1;33m.\u001b[0m\u001b[0margmax\u001b[0m\u001b[1;33m(\u001b[0m\u001b[1;36m1\u001b[0m\u001b[1;33m)\u001b[0m \u001b[1;33m==\u001b[0m \u001b[0my\u001b[0m\u001b[1;33m)\u001b[0m\u001b[1;33m.\u001b[0m\u001b[0mtype\u001b[0m\u001b[1;33m(\u001b[0m\u001b[0mtorch\u001b[0m\u001b[1;33m.\u001b[0m\u001b[0mfloat\u001b[0m\u001b[1;33m)\u001b[0m\u001b[1;33m.\u001b[0m\u001b[0msum\u001b[0m\u001b[1;33m(\u001b[0m\u001b[1;33m)\u001b[0m\u001b[1;33m.\u001b[0m\u001b[0mitem\u001b[0m\u001b[1;33m(\u001b[0m\u001b[1;33m)\u001b[0m\u001b[1;33m\u001b[0m\u001b[1;33m\u001b[0m\u001b[0m\n",
      "\u001b[1;32mE:\\Anaconda\\lib\\site-packages\\torch\\optim\\optimizer.py\u001b[0m in \u001b[0;36mwrapper\u001b[1;34m(*args, **kwargs)\u001b[0m\n\u001b[0;32m    278\u001b[0m                                                f\"but got {result}.\")\n\u001b[0;32m    279\u001b[0m \u001b[1;33m\u001b[0m\u001b[0m\n\u001b[1;32m--> 280\u001b[1;33m                 \u001b[0mout\u001b[0m \u001b[1;33m=\u001b[0m \u001b[0mfunc\u001b[0m\u001b[1;33m(\u001b[0m\u001b[1;33m*\u001b[0m\u001b[0margs\u001b[0m\u001b[1;33m,\u001b[0m \u001b[1;33m**\u001b[0m\u001b[0mkwargs\u001b[0m\u001b[1;33m)\u001b[0m\u001b[1;33m\u001b[0m\u001b[1;33m\u001b[0m\u001b[0m\n\u001b[0m\u001b[0;32m    281\u001b[0m                 \u001b[0mself\u001b[0m\u001b[1;33m.\u001b[0m\u001b[0m_optimizer_step_code\u001b[0m\u001b[1;33m(\u001b[0m\u001b[1;33m)\u001b[0m\u001b[1;33m\u001b[0m\u001b[1;33m\u001b[0m\u001b[0m\n\u001b[0;32m    282\u001b[0m \u001b[1;33m\u001b[0m\u001b[0m\n",
      "\u001b[1;32mE:\\Anaconda\\lib\\site-packages\\torch\\optim\\optimizer.py\u001b[0m in \u001b[0;36m_use_grad\u001b[1;34m(self, *args, **kwargs)\u001b[0m\n\u001b[0;32m     31\u001b[0m         \u001b[1;32mtry\u001b[0m\u001b[1;33m:\u001b[0m\u001b[1;33m\u001b[0m\u001b[1;33m\u001b[0m\u001b[0m\n\u001b[0;32m     32\u001b[0m             \u001b[0mtorch\u001b[0m\u001b[1;33m.\u001b[0m\u001b[0mset_grad_enabled\u001b[0m\u001b[1;33m(\u001b[0m\u001b[0mself\u001b[0m\u001b[1;33m.\u001b[0m\u001b[0mdefaults\u001b[0m\u001b[1;33m[\u001b[0m\u001b[1;34m'differentiable'\u001b[0m\u001b[1;33m]\u001b[0m\u001b[1;33m)\u001b[0m\u001b[1;33m\u001b[0m\u001b[1;33m\u001b[0m\u001b[0m\n\u001b[1;32m---> 33\u001b[1;33m             \u001b[0mret\u001b[0m \u001b[1;33m=\u001b[0m \u001b[0mfunc\u001b[0m\u001b[1;33m(\u001b[0m\u001b[0mself\u001b[0m\u001b[1;33m,\u001b[0m \u001b[1;33m*\u001b[0m\u001b[0margs\u001b[0m\u001b[1;33m,\u001b[0m \u001b[1;33m**\u001b[0m\u001b[0mkwargs\u001b[0m\u001b[1;33m)\u001b[0m\u001b[1;33m\u001b[0m\u001b[1;33m\u001b[0m\u001b[0m\n\u001b[0m\u001b[0;32m     34\u001b[0m         \u001b[1;32mfinally\u001b[0m\u001b[1;33m:\u001b[0m\u001b[1;33m\u001b[0m\u001b[1;33m\u001b[0m\u001b[0m\n\u001b[0;32m     35\u001b[0m             \u001b[0mtorch\u001b[0m\u001b[1;33m.\u001b[0m\u001b[0mset_grad_enabled\u001b[0m\u001b[1;33m(\u001b[0m\u001b[0mprev_grad\u001b[0m\u001b[1;33m)\u001b[0m\u001b[1;33m\u001b[0m\u001b[1;33m\u001b[0m\u001b[0m\n",
      "\u001b[1;32mE:\\Anaconda\\lib\\site-packages\\torch\\optim\\adam.py\u001b[0m in \u001b[0;36mstep\u001b[1;34m(self, closure)\u001b[0m\n\u001b[0;32m    139\u001b[0m                 state_steps)\n\u001b[0;32m    140\u001b[0m \u001b[1;33m\u001b[0m\u001b[0m\n\u001b[1;32m--> 141\u001b[1;33m             adam(\n\u001b[0m\u001b[0;32m    142\u001b[0m                 \u001b[0mparams_with_grad\u001b[0m\u001b[1;33m,\u001b[0m\u001b[1;33m\u001b[0m\u001b[1;33m\u001b[0m\u001b[0m\n\u001b[0;32m    143\u001b[0m                 \u001b[0mgrads\u001b[0m\u001b[1;33m,\u001b[0m\u001b[1;33m\u001b[0m\u001b[1;33m\u001b[0m\u001b[0m\n",
      "\u001b[1;32mE:\\Anaconda\\lib\\site-packages\\torch\\optim\\adam.py\u001b[0m in \u001b[0;36madam\u001b[1;34m(params, grads, exp_avgs, exp_avg_sqs, max_exp_avg_sqs, state_steps, foreach, capturable, differentiable, fused, grad_scale, found_inf, amsgrad, beta1, beta2, lr, weight_decay, eps, maximize)\u001b[0m\n\u001b[0;32m    279\u001b[0m         \u001b[0mfunc\u001b[0m \u001b[1;33m=\u001b[0m \u001b[0m_single_tensor_adam\u001b[0m\u001b[1;33m\u001b[0m\u001b[1;33m\u001b[0m\u001b[0m\n\u001b[0;32m    280\u001b[0m \u001b[1;33m\u001b[0m\u001b[0m\n\u001b[1;32m--> 281\u001b[1;33m     func(params,\n\u001b[0m\u001b[0;32m    282\u001b[0m          \u001b[0mgrads\u001b[0m\u001b[1;33m,\u001b[0m\u001b[1;33m\u001b[0m\u001b[1;33m\u001b[0m\u001b[0m\n\u001b[0;32m    283\u001b[0m          \u001b[0mexp_avgs\u001b[0m\u001b[1;33m,\u001b[0m\u001b[1;33m\u001b[0m\u001b[1;33m\u001b[0m\u001b[0m\n",
      "\u001b[1;32mE:\\Anaconda\\lib\\site-packages\\torch\\optim\\adam.py\u001b[0m in \u001b[0;36m_single_tensor_adam\u001b[1;34m(params, grads, exp_avgs, exp_avg_sqs, max_exp_avg_sqs, state_steps, grad_scale, found_inf, amsgrad, beta1, beta2, lr, weight_decay, eps, maximize, capturable, differentiable)\u001b[0m\n\u001b[0;32m    391\u001b[0m                 \u001b[0mdenom\u001b[0m \u001b[1;33m=\u001b[0m \u001b[1;33m(\u001b[0m\u001b[0mexp_avg_sq\u001b[0m\u001b[1;33m.\u001b[0m\u001b[0msqrt\u001b[0m\u001b[1;33m(\u001b[0m\u001b[1;33m)\u001b[0m \u001b[1;33m/\u001b[0m \u001b[0mbias_correction2_sqrt\u001b[0m\u001b[1;33m)\u001b[0m\u001b[1;33m.\u001b[0m\u001b[0madd_\u001b[0m\u001b[1;33m(\u001b[0m\u001b[0meps\u001b[0m\u001b[1;33m)\u001b[0m\u001b[1;33m\u001b[0m\u001b[1;33m\u001b[0m\u001b[0m\n\u001b[0;32m    392\u001b[0m \u001b[1;33m\u001b[0m\u001b[0m\n\u001b[1;32m--> 393\u001b[1;33m             \u001b[0mparam\u001b[0m\u001b[1;33m.\u001b[0m\u001b[0maddcdiv_\u001b[0m\u001b[1;33m(\u001b[0m\u001b[0mexp_avg\u001b[0m\u001b[1;33m,\u001b[0m \u001b[0mdenom\u001b[0m\u001b[1;33m,\u001b[0m \u001b[0mvalue\u001b[0m\u001b[1;33m=\u001b[0m\u001b[1;33m-\u001b[0m\u001b[0mstep_size\u001b[0m\u001b[1;33m)\u001b[0m\u001b[1;33m\u001b[0m\u001b[1;33m\u001b[0m\u001b[0m\n\u001b[0m\u001b[0;32m    394\u001b[0m \u001b[1;33m\u001b[0m\u001b[0m\n\u001b[0;32m    395\u001b[0m \u001b[1;33m\u001b[0m\u001b[0m\n",
      "\u001b[1;31mKeyboardInterrupt\u001b[0m: "
     ]
    }
   ],
   "source": [
    "from torch.profiler import profile, record_function, ProfilerActivity\n",
    "from memory_profiler import memory_usage\n",
    "from memory_profiler import profile\n",
    "import tracemalloc\n",
    "\n",
    "#opt = Adam(model.parameters())\n",
    "lossFn = nn.CrossEntropyLoss()\n",
    "\n",
    "H = {\n",
    "\t\"train_loss\": [],\n",
    "\t\"train_acc\": [],\n",
    "\t\"val_loss\": [],\n",
    "\t\"val_acc\": []\n",
    "}\n",
    "\n",
    "\n",
    "# def trace_handler(p):\n",
    "#     output = p.key_averages().table(sort_by=\"self_cuda_time_total\", row_limit=10)\n",
    "#     print(output)\n",
    "#     p.export_chrome_trace(\"/tmp/trace_\" + str(p.step_num) + \".json\")\n",
    "\n",
    "# with profile(activities=[ProfilerActivity.CPU, ProfilerActivity.CUDA],\n",
    "#     schedule=torch.profiler.schedule(\n",
    "#         wait=2,\n",
    "#         warmup=2,\n",
    "#         active=6,\n",
    "#         repeat=1),\n",
    "#         profile_memory=True,\n",
    "#     on_trace_ready=trace_handler,\n",
    "#     with_stack=True\n",
    "# ) as profiler:\n",
    "\n",
    "def train_cnn(opt, model, trainDataLoader):\n",
    "    for e in range(0, EPOCHS):\n",
    "      model.train()\n",
    "      totalTrainLoss = 0\n",
    "      totalValLoss = 0\n",
    "      trainCorrect = 0\n",
    "      valCorrect = 0\n",
    "\n",
    "      for (x, y) in trainDataLoader:\n",
    "        (x, y) = (x.to(device), y.to(device))\n",
    "        pred = model(x)\n",
    "        loss = lossFn(pred, y)\n",
    "        opt.zero_grad()\n",
    "        loss.backward()\n",
    "        opt.step()\n",
    "        totalTrainLoss += loss\n",
    "        trainCorrect += (pred.argmax(1) == y).type(torch.float).sum().item()\n",
    "\n",
    "      # with torch.no_grad():\n",
    "      #   model.eval()\n",
    "\n",
    "      #   for (x, y) in valDataLoader:\n",
    "      #   \t(x, y) = (x.to(device), y.to(device))\n",
    "\n",
    "      #   \tpred = model(x)\n",
    "      #   \ttotalValLoss += lossFn(pred, y)\n",
    "\n",
    "      #   \tvalCorrect += (pred.argmax(1) == y).type(\n",
    "      #   \t\ttorch.float).sum().item()\n",
    "      #profiler.step()\n",
    "      avgTrainLoss = totalTrainLoss / trainSteps\n",
    "      avgValLoss = totalValLoss / valSteps\n",
    "\n",
    "      trainCorrect = trainCorrect / len(trainDataLoader.dataset)\n",
    "      valCorrect = valCorrect / len(valDataLoader.dataset)\n",
    "\n",
    "      # H[\"train_loss\"].append(avgTrainLoss.cpu().detach().numpy())\n",
    "      # H[\"train_acc\"].append(trainCorrect)\n",
    "      # H[\"val_loss\"].append(avgValLoss.cpu().detach().numpy())\n",
    "      # H[\"val_acc\"].append(valCorrect)\n",
    "\n",
    "#       print(\"[INFO] EPOCH: {}/{}\".format(e + 1, EPOCHS))\n",
    "#       print(\"Train loss: {:.6f}, Train accuracy: {:.4f}\".format(\n",
    "#         avgTrainLoss, trainCorrect))\n",
    "      # print(\"Val loss: {:.6f}, Val accuracy: {:.4f}\\n\".format(\n",
    "      #   avgValLoss, valCorrect))\n",
    " \n",
    "#tracemalloc.start()\n",
    "for i in range(200, 2000, 100):\n",
    "  (trainData, rest) = random_split(trainDataK,\n",
    "  [i, (int(len(trainDataK))-i)],\n",
    "  generator=torch.Generator().manual_seed(42))\n",
    "  trainDataLoader = DataLoader(trainData, shuffle=True,\n",
    "  batch_size=BATCH_SIZE)\n",
    "  model = PyTorchNet(\n",
    "\tnumChannels=1,\n",
    "\tclasses=len(trainData.dataset.classes)).to(device)\n",
    "  opt = Adam(model.parameters())\n",
    "\n",
    "  print(\"Data size: \", i)\n",
    "  %timeit -r 2 train_cnn(opt, model, trainDataLoader) \n",
    "  #%memit train_cnn(opt, model, trainDataLoader)\n",
    "\n",
    "#   mem_usage = memory_usage((train_cnn, (opt, model, trainDataLoader)))\n",
    "#   print('Memory usage (in chunks of .1 seconds): %s' % mem_usage)\n",
    "#   print('Maximum memory usage: %s' % max(mem_usage))\n",
    "\n",
    "\n",
    "# endTime = time.time()\n",
    "# print(\"[INFO] total time taken to train the model: {:.2f}s\".format(\n",
    "# \tendTime - startTime))\n",
    "\n",
    "# with torch.no_grad():\n",
    "# \tmodel.eval()\n",
    "# \tpreds = []\n",
    "\n",
    "# \tfor (x, y) in testDataLoader:\n",
    "# \t\tx = x.to(device)\n",
    "# \t\tpred = model(x)\n",
    "# \t\tpreds.extend(pred.argmax(axis=1).cpu().numpy())\n",
    "\n",
    "# print(classification_report(testData.targets.cpu().numpy(),\n",
    "# \tnp.array(preds), target_names=testData.classes))\n",
    "\n",
    "\n",
    "# plt.style.use(\"ggplot\")\n",
    "# plt.figure()\n",
    "# plt.plot(H[\"train_loss\"], label=\"train_loss\")\n",
    "# plt.plot(H[\"val_loss\"], label=\"val_loss\")\n",
    "# plt.plot(H[\"train_acc\"], label=\"train_acc\")\n",
    "# plt.plot(H[\"val_acc\"], label=\"val_acc\")\n",
    "# plt.title(\"Training Loss and Accuracy on Dataset\")\n",
    "# plt.xlabel(\"Epoch #\")\n",
    "# plt.ylabel(\"Loss/Accuracy\")\n",
    "# plt.legend(loc=\"lower left\")\n",
    "# plt.savefig(\"plot.png\")\n",
    "\n",
    "# torch.save(model, \"model.pth\")"
   ]
  },
  {
   "cell_type": "code",
   "execution_count": 13,
   "metadata": {
    "colab": {
     "base_uri": "https://localhost:8080/"
    },
    "id": "nPDR_S-FHJpE",
    "outputId": "33fd1a05-a63b-4991-c5a5-403c079097ee",
    "scrolled": true
   },
   "outputs": [
    {
     "name": "stdout",
     "output_type": "stream",
     "text": [
      "Data size:  2000\n",
      "51.1 s ± 159 ms per loop (mean ± std. dev. of 2 runs, 1 loop each)\n",
      "Data size:  3000\n",
      "1min 38s ± 3.68 s per loop (mean ± std. dev. of 2 runs, 1 loop each)\n",
      "Data size:  4000\n",
      "2min 25s ± 2.65 s per loop (mean ± std. dev. of 2 runs, 1 loop each)\n",
      "Data size:  5000\n",
      "2min 40s ± 1.98 s per loop (mean ± std. dev. of 2 runs, 1 loop each)\n",
      "Data size:  6000\n",
      "4min 4s ± 1.75 s per loop (mean ± std. dev. of 2 runs, 1 loop each)\n",
      "Data size:  7000\n",
      "4min 32s ± 6.79 s per loop (mean ± std. dev. of 2 runs, 1 loop each)\n",
      "Data size:  8000\n",
      "5min 5s ± 13.2 s per loop (mean ± std. dev. of 2 runs, 1 loop each)\n",
      "Data size:  9000\n",
      "5min 53s ± 32.3 s per loop (mean ± std. dev. of 2 runs, 1 loop each)\n",
      "Data size:  10000\n",
      "6min 47s ± 45.2 s per loop (mean ± std. dev. of 2 runs, 1 loop each)\n"
     ]
    }
   ],
   "source": [
    "from torch.profiler import profile, record_function, ProfilerActivity\n",
    "from memory_profiler import memory_usage\n",
    "from memory_profiler import profile\n",
    "import tracemalloc\n",
    "\n",
    "#opt = Adam(model.parameters())\n",
    "lossFn = nn.CrossEntropyLoss()\n",
    "\n",
    "H = {\n",
    "\t\"train_loss\": [],\n",
    "\t\"train_acc\": [],\n",
    "\t\"val_loss\": [],\n",
    "\t\"val_acc\": []\n",
    "}\n",
    "\n",
    "\n",
    "# def trace_handler(p):\n",
    "#     output = p.key_averages().table(sort_by=\"self_cuda_time_total\", row_limit=10)\n",
    "#     print(output)\n",
    "#     p.export_chrome_trace(\"/tmp/trace_\" + str(p.step_num) + \".json\")\n",
    "\n",
    "# with profile(activities=[ProfilerActivity.CPU, ProfilerActivity.CUDA],\n",
    "#     schedule=torch.profiler.schedule(\n",
    "#         wait=2,\n",
    "#         warmup=2,\n",
    "#         active=6,\n",
    "#         repeat=1),\n",
    "#         profile_memory=True,\n",
    "#     on_trace_ready=trace_handler,\n",
    "#     with_stack=True\n",
    "# ) as profiler:\n",
    "\n",
    "def train_cnn(opt, model, trainDataLoader):\n",
    "    for e in range(0, EPOCHS):\n",
    "      model.train()\n",
    "      totalTrainLoss = 0\n",
    "      totalValLoss = 0\n",
    "      trainCorrect = 0\n",
    "      valCorrect = 0\n",
    "\n",
    "      for (x, y) in trainDataLoader:\n",
    "        (x, y) = (x.to(device), y.to(device))\n",
    "        pred = model(x)\n",
    "        loss = lossFn(pred, y)\n",
    "        opt.zero_grad()\n",
    "        loss.backward()\n",
    "        opt.step()\n",
    "        totalTrainLoss += loss\n",
    "        trainCorrect += (pred.argmax(1) == y).type(torch.float).sum().item()\n",
    "\n",
    "      # with torch.no_grad():\n",
    "      #   model.eval()\n",
    "\n",
    "      #   for (x, y) in valDataLoader:\n",
    "      #   \t(x, y) = (x.to(device), y.to(device))\n",
    "\n",
    "      #   \tpred = model(x)\n",
    "      #   \ttotalValLoss += lossFn(pred, y)\n",
    "\n",
    "      #   \tvalCorrect += (pred.argmax(1) == y).type(\n",
    "      #   \t\ttorch.float).sum().item()\n",
    "      #profiler.step()\n",
    "      avgTrainLoss = totalTrainLoss / trainSteps\n",
    "      avgValLoss = totalValLoss / valSteps\n",
    "\n",
    "      trainCorrect = trainCorrect / len(trainDataLoader.dataset)\n",
    "      valCorrect = valCorrect / len(valDataLoader.dataset)\n",
    "\n",
    "      # H[\"train_loss\"].append(avgTrainLoss.cpu().detach().numpy())\n",
    "      # H[\"train_acc\"].append(trainCorrect)\n",
    "      # H[\"val_loss\"].append(avgValLoss.cpu().detach().numpy())\n",
    "      # H[\"val_acc\"].append(valCorrect)\n",
    "\n",
    "#       print(\"[INFO] EPOCH: {}/{}\".format(e + 1, EPOCHS))\n",
    "#       print(\"Train loss: {:.6f}, Train accuracy: {:.4f}\".format(\n",
    "#         avgTrainLoss, trainCorrect))\n",
    "      # print(\"Val loss: {:.6f}, Val accuracy: {:.4f}\\n\".format(\n",
    "      #   avgValLoss, valCorrect))\n",
    " \n",
    "#tracemalloc.start()\n",
    "for i in range(2000, 11000, 1000):\n",
    "  (trainData, rest) = random_split(trainDataK,\n",
    "  [i, (int(len(trainDataK))-i)],\n",
    "  generator=torch.Generator().manual_seed(42))\n",
    "  trainDataLoader = DataLoader(trainData, shuffle=True,\n",
    "  batch_size=BATCH_SIZE)\n",
    "  model = PyTorchNet(\n",
    "\tnumChannels=1,\n",
    "\tclasses=len(trainData.dataset.classes)).to(device)\n",
    "  opt = Adam(model.parameters())\n",
    "\n",
    "  print(\"Data size: \", i)\n",
    "  %timeit -r 2 train_cnn(opt, model, trainDataLoader) \n",
    "  #%memit train_cnn(opt, model, trainDataLoader)\n",
    "\n",
    "#   mem_usage = memory_usage((train_cnn, (opt, model, trainDataLoader)))\n",
    "#   print('Memory usage (in chunks of .1 seconds): %s' % mem_usage)\n",
    "#   print('Maximum memory usage: %s' % max(mem_usage))\n",
    "\n",
    "\n",
    "# endTime = time.time()\n",
    "# print(\"[INFO] total time taken to train the model: {:.2f}s\".format(\n",
    "# \tendTime - startTime))\n",
    "\n",
    "# with torch.no_grad():\n",
    "# \tmodel.eval()\n",
    "# \tpreds = []\n",
    "\n",
    "# \tfor (x, y) in testDataLoader:\n",
    "# \t\tx = x.to(device)\n",
    "# \t\tpred = model(x)\n",
    "# \t\tpreds.extend(pred.argmax(axis=1).cpu().numpy())\n",
    "\n",
    "# print(classification_report(testData.targets.cpu().numpy(),\n",
    "# \tnp.array(preds), target_names=testData.classes))\n",
    "\n",
    "\n",
    "# plt.style.use(\"ggplot\")\n",
    "# plt.figure()\n",
    "# plt.plot(H[\"train_loss\"], label=\"train_loss\")\n",
    "# plt.plot(H[\"val_loss\"], label=\"val_loss\")\n",
    "# plt.plot(H[\"train_acc\"], label=\"train_acc\")\n",
    "# plt.plot(H[\"val_acc\"], label=\"val_acc\")\n",
    "# plt.title(\"Training Loss and Accuracy on Dataset\")\n",
    "# plt.xlabel(\"Epoch #\")\n",
    "# plt.ylabel(\"Loss/Accuracy\")\n",
    "# plt.legend(loc=\"lower left\")\n",
    "# plt.savefig(\"plot.png\")\n",
    "\n",
    "# torch.save(model, \"model.pth\")"
   ]
  },
  {
   "cell_type": "code",
   "execution_count": 11,
   "metadata": {
    "colab": {
     "base_uri": "https://localhost:8080/"
    },
    "id": "F4iPahZK9apA",
    "outputId": "55e124e9-eb8d-4416-823b-a241188e662b"
   },
   "outputs": [],
   "source": [
    "%load_ext line_profiler\n",
    "%load_ext memory_profiler"
   ]
  },
  {
   "cell_type": "code",
   "execution_count": null,
   "metadata": {
    "colab": {
     "base_uri": "https://localhost:8080/",
     "height": 1000
    },
    "id": "RXAficT8QPqX",
    "outputId": "68bc3312-999a-4b68-e405-bec1f75a21c5"
   },
   "outputs": [
    {
     "name": "stdout",
     "output_type": "stream",
     "text": [
      "[INFO] EPOCH: 1/10\n",
      "Train loss: 1.669889, Train accuracy: 0.8658\n",
      "Val loss: 1.811708, Val accuracy: 0.8777\n",
      "\n",
      "[INFO] EPOCH: 2/10\n",
      "Train loss: 1.643822, Train accuracy: 0.8912\n",
      "Val loss: 1.800489, Val accuracy: 0.8875\n",
      "\n",
      "[INFO] EPOCH: 3/10\n",
      "Train loss: 1.636721, Train accuracy: 0.8978\n",
      "Val loss: 1.796199, Val accuracy: 0.8919\n",
      "\n",
      "[INFO] EPOCH: 4/10\n",
      "Train loss: 1.631951, Train accuracy: 0.9023\n",
      "Val loss: 1.791705, Val accuracy: 0.8956\n",
      "\n",
      "[INFO] EPOCH: 5/10\n",
      "Train loss: 1.628658, Train accuracy: 0.9053\n",
      "Val loss: 1.789718, Val accuracy: 0.8987\n",
      "\n",
      "[INFO] EPOCH: 6/10\n",
      "Train loss: 1.626401, Train accuracy: 0.9075\n",
      "Val loss: 1.787990, Val accuracy: 0.8995\n",
      "\n",
      "[INFO] EPOCH: 7/10\n",
      "Train loss: 1.624618, Train accuracy: 0.9094\n",
      "Val loss: 1.788271, Val accuracy: 0.8980\n",
      "\n",
      "[INFO] EPOCH: 8/10\n",
      "Train loss: 1.621840, Train accuracy: 0.9116\n",
      "Val loss: 1.783238, Val accuracy: 0.9033\n",
      "\n",
      "[INFO] EPOCH: 9/10\n",
      "Train loss: 1.619372, Train accuracy: 0.9137\n",
      "Val loss: 1.783312, Val accuracy: 0.9024\n",
      "\n",
      "[INFO] EPOCH: 10/10\n",
      "Train loss: 1.617666, Train accuracy: 0.9153\n",
      "Val loss: 1.779386, Val accuracy: 0.9063\n",
      "\n",
      "[INFO] total time taken to train the model: 87.56s\n",
      "              precision    recall  f1-score   support\n",
      "\n",
      "           o       0.90      0.95      0.93      1000\n",
      "          ki       0.95      0.73      0.83      1000\n",
      "          su       0.73      0.71      0.72      1000\n",
      "         tsu       0.83      0.96      0.89      1000\n",
      "          na       0.85      0.83      0.84      1000\n",
      "          ha       0.84      0.28      0.42      1000\n",
      "          ma       0.79      0.93      0.85      1000\n",
      "          ya       0.86      0.89      0.88      1000\n",
      "          re       0.76      0.94      0.84      1000\n",
      "          wo       0.73      0.94      0.82      1000\n",
      "\n",
      "    accuracy                           0.82     10000\n",
      "   macro avg       0.83      0.82      0.80     10000\n",
      "weighted avg       0.83      0.82      0.80     10000\n",
      "\n"
     ]
    },
    {
     "data": {
      "image/png": "[encoded data removed]",
      "text/plain": [
       "<Figure size 640x480 with 1 Axes>"
      ]
     },
     "metadata": {},
     "output_type": "display_data"
    }
   ],
   "source": [
    "opt = Adam(model.parameters())\n",
    "lossFn = nn.CrossEntropyLoss()\n",
    "\n",
    "H = {\n",
    "\t\"train_loss\": [],\n",
    "\t\"train_acc\": [],\n",
    "\t\"val_loss\": [],\n",
    "\t\"val_acc\": []\n",
    "}\n",
    "\n",
    "startTime = time.time()\n",
    "\n",
    "for e in range(0, EPOCHS):\n",
    "\tmodel.train()\n",
    "\ttotalTrainLoss = 0\n",
    "\ttotalValLoss = 0\n",
    "\ttrainCorrect = 0\n",
    "\tvalCorrect = 0\n",
    "\n",
    "\tfor (x, y) in trainDataLoader:\n",
    "\t\t(x, y) = (x.to(device), y.to(device))\n",
    "\t\tpred = model(x)\n",
    "\t\tloss = lossFn(pred, y)\n",
    "\t\topt.zero_grad()\n",
    "\t\tloss.backward()\n",
    "\t\topt.step()\n",
    "\t\ttotalTrainLoss += loss\n",
    "\t\ttrainCorrect += (pred.argmax(1) == y).type(torch.float).sum().item()\n",
    "\n",
    "\twith torch.no_grad():\n",
    "\t\tmodel.eval()\n",
    "\n",
    "\t\t# for (x, y) in valDataLoader:\n",
    "\t\t# \t(x, y) = (x.to(device), y.to(device))\n",
    "\n",
    "\t\t# \tpred = model(x)\n",
    "\t\t# \ttotalValLoss += lossFn(pred, y)\n",
    "\n",
    "\t\t# \tvalCorrect += (pred.argmax(1) == y).type(\n",
    "\t\t# \t\ttorch.float).sum().item()\n",
    "\n",
    "\tavgTrainLoss = totalTrainLoss / trainSteps\n",
    "\tavgValLoss = totalValLoss / valSteps\n",
    "\n",
    "\ttrainCorrect = trainCorrect / len(trainDataLoader.dataset)\n",
    "\tvalCorrect = valCorrect / len(valDataLoader.dataset)\n",
    "\n",
    "\tH[\"train_loss\"].append(avgTrainLoss.cpu().detach().numpy())\n",
    "\tH[\"train_acc\"].append(trainCorrect)\n",
    "\tH[\"val_loss\"].append(avgValLoss.cpu().detach().numpy())\n",
    "\tH[\"val_acc\"].append(valCorrect)\n",
    "\n",
    "\tprint(\"[INFO] EPOCH: {}/{}\".format(e + 1, EPOCHS))\n",
    "\tprint(\"Train loss: {:.6f}, Train accuracy: {:.4f}\".format(\n",
    "\t\tavgTrainLoss, trainCorrect))\n",
    "\tprint(\"Val loss: {:.6f}, Val accuracy: {:.4f}\\n\".format(\n",
    "\t\tavgValLoss, valCorrect))\n",
    " \n",
    "\n",
    "\n",
    "endTime = time.time()\n",
    "print(\"[INFO] total time taken to train the model: {:.2f}s\".format(\n",
    "\tendTime - startTime))\n",
    "\n",
    "with torch.no_grad():\n",
    "\tmodel.eval()\n",
    "\tpreds = []\n",
    "\n",
    "\tfor (x, y) in testDataLoader:\n",
    "\t\tx = x.to(device)\n",
    "\t\tpred = model(x)\n",
    "\t\tpreds.extend(pred.argmax(axis=1).cpu().numpy())\n",
    "\n",
    "print(classification_report(testData.targets.cpu().numpy(),\n",
    "\tnp.array(preds), target_names=testData.classes))\n",
    "\n",
    "\n",
    "plt.style.use(\"ggplot\")\n",
    "plt.figure()\n",
    "plt.plot(H[\"train_loss\"], label=\"train_loss\")\n",
    "plt.plot(H[\"val_loss\"], label=\"val_loss\")\n",
    "plt.plot(H[\"train_acc\"], label=\"train_acc\")\n",
    "plt.plot(H[\"val_acc\"], label=\"val_acc\")\n",
    "plt.title(\"Training Loss and Accuracy on Dataset\")\n",
    "plt.xlabel(\"Epoch #\")\n",
    "plt.ylabel(\"Loss/Accuracy\")\n",
    "plt.legend(loc=\"lower left\")\n",
    "plt.savefig(\"plot.png\")\n",
    "\n",
    "torch.save(model, \"model.pth\")"
   ]
  },
  {
   "cell_type": "code",
   "execution_count": null,
   "metadata": {
    "id": "OjFJmeeJVNd9"
   },
   "outputs": [],
   "source": [
    "import numpy as np\n",
    "np.random.seed(42)\n",
    "\n",
    "from torch.utils.data import DataLoader\n",
    "from torch.utils.data import Subset\n",
    "from torchvision.transforms import ToTensor\n",
    "from torchvision.datasets import KMNIST\n",
    "import argparse\n",
    "import imutils\n",
    "import torch\n",
    "import cv2\n",
    "from matplotlib import pyplot as plt"
   ]
  },
  {
   "cell_type": "code",
   "execution_count": null,
   "metadata": {
    "colab": {
     "base_uri": "https://localhost:8080/",
     "height": 1000
    },
    "id": "SzP1cItxVXL5",
    "outputId": "4cf2dc03-1053-455d-d1b7-10a903b85124"
   },
   "outputs": [
    {
     "name": "stderr",
     "output_type": "stream",
     "text": [
      "WARNING:matplotlib.image:Clipping input data to the valid range for imshow with RGB data ([0..1] for floats or [0..255] for integers).\n"
     ]
    },
    {
     "name": "stdout",
     "output_type": "stream",
     "text": [
      "[INFO] ground truth label: na, predicted label: na\n"
     ]
    },
    {
     "data": {
      "image/png": "[encoded data removed]",
      "text/plain": [
       "<Figure size 200x200 with 1 Axes>"
      ]
     },
     "metadata": {},
     "output_type": "display_data"
    },
    {
     "name": "stdout",
     "output_type": "stream",
     "text": [
      "[INFO] ground truth label: tsu, predicted label: tsu\n"
     ]
    },
    {
     "name": "stderr",
     "output_type": "stream",
     "text": [
      "WARNING:matplotlib.image:Clipping input data to the valid range for imshow with RGB data ([0..1] for floats or [0..255] for integers).\n"
     ]
    },
    {
     "data": {
      "image/png": "[encoded data removed]",
      "text/plain": [
       "<Figure size 200x200 with 1 Axes>"
      ]
     },
     "metadata": {},
     "output_type": "display_data"
    },
    {
     "name": "stderr",
     "output_type": "stream",
     "text": [
      "WARNING:matplotlib.image:Clipping input data to the valid range for imshow with RGB data ([0..1] for floats or [0..255] for integers).\n"
     ]
    },
    {
     "name": "stdout",
     "output_type": "stream",
     "text": [
      "[INFO] ground truth label: tsu, predicted label: tsu\n"
     ]
    },
    {
     "data": {
      "image/png": "[encoded data removed]",
      "text/plain": [
       "<Figure size 200x200 with 1 Axes>"
      ]
     },
     "metadata": {},
     "output_type": "display_data"
    },
    {
     "name": "stderr",
     "output_type": "stream",
     "text": [
      "WARNING:matplotlib.image:Clipping input data to the valid range for imshow with RGB data ([0..1] for floats or [0..255] for integers).\n"
     ]
    },
    {
     "name": "stdout",
     "output_type": "stream",
     "text": [
      "[INFO] ground truth label: su, predicted label: su\n"
     ]
    },
    {
     "data": {
      "image/png": "[encoded data removed]",
      "text/plain": [
       "<Figure size 200x200 with 1 Axes>"
      ]
     },
     "metadata": {},
     "output_type": "display_data"
    },
    {
     "name": "stderr",
     "output_type": "stream",
     "text": [
      "WARNING:matplotlib.image:Clipping input data to the valid range for imshow with RGB data ([0..1] for floats or [0..255] for integers).\n"
     ]
    },
    {
     "name": "stdout",
     "output_type": "stream",
     "text": [
      "[INFO] ground truth label: o, predicted label: o\n"
     ]
    },
    {
     "data": {
      "image/png": "[encoded data removed]",
      "text/plain": [
       "<Figure size 200x200 with 1 Axes>"
      ]
     },
     "metadata": {},
     "output_type": "display_data"
    },
    {
     "name": "stderr",
     "output_type": "stream",
     "text": [
      "WARNING:matplotlib.image:Clipping input data to the valid range for imshow with RGB data ([0..1] for floats or [0..255] for integers).\n"
     ]
    },
    {
     "name": "stdout",
     "output_type": "stream",
     "text": [
      "[INFO] ground truth label: ma, predicted label: ma\n"
     ]
    },
    {
     "data": {
      "image/png": "[encoded data removed]",
      "text/plain": [
       "<Figure size 200x200 with 1 Axes>"
      ]
     },
     "metadata": {},
     "output_type": "display_data"
    },
    {
     "name": "stderr",
     "output_type": "stream",
     "text": [
      "WARNING:matplotlib.image:Clipping input data to the valid range for imshow with RGB data ([0..1] for floats or [0..255] for integers).\n"
     ]
    },
    {
     "name": "stdout",
     "output_type": "stream",
     "text": [
      "[INFO] ground truth label: su, predicted label: su\n"
     ]
    },
    {
     "data": {
      "image/png": "[encoded data removed]",
      "text/plain": [
       "<Figure size 200x200 with 1 Axes>"
      ]
     },
     "metadata": {},
     "output_type": "display_data"
    },
    {
     "name": "stderr",
     "output_type": "stream",
     "text": [
      "WARNING:matplotlib.image:Clipping input data to the valid range for imshow with RGB data ([0..1] for floats or [0..255] for integers).\n"
     ]
    },
    {
     "name": "stdout",
     "output_type": "stream",
     "text": [
      "[INFO] ground truth label: o, predicted label: o\n"
     ]
    },
    {
     "data": {
      "image/png": "[encoded data removed]",
      "text/plain": [
       "<Figure size 200x200 with 1 Axes>"
      ]
     },
     "metadata": {},
     "output_type": "display_data"
    },
    {
     "name": "stderr",
     "output_type": "stream",
     "text": [
      "WARNING:matplotlib.image:Clipping input data to the valid range for imshow with RGB data ([0..1] for floats or [0..255] for integers).\n"
     ]
    },
    {
     "name": "stdout",
     "output_type": "stream",
     "text": [
      "[INFO] ground truth label: na, predicted label: o\n"
     ]
    },
    {
     "data": {
      "image/png": "[encoded data removed]",
      "text/plain": [
       "<Figure size 200x200 with 1 Axes>"
      ]
     },
     "metadata": {},
     "output_type": "display_data"
    },
    {
     "name": "stderr",
     "output_type": "stream",
     "text": [
      "WARNING:matplotlib.image:Clipping input data to the valid range for imshow with RGB data ([0..1] for floats or [0..255] for integers).\n"
     ]
    },
    {
     "name": "stdout",
     "output_type": "stream",
     "text": [
      "[INFO] ground truth label: ki, predicted label: ki\n"
     ]
    },
    {
     "data": {
      "image/png": "[encoded data removed]",
      "text/plain": [
       "<Figure size 200x200 with 1 Axes>"
      ]
     },
     "metadata": {},
     "output_type": "display_data"
    }
   ],
   "source": [
    "device = torch.device(\"cuda\" if torch.cuda.is_available() else \"cpu\")\n",
    "\n",
    "testData = KMNIST(root=\"data\", train=False, download=True,\n",
    "\ttransform=ToTensor())\n",
    "idxs = np.random.choice(range(0, len(testData)), size=(10,))\n",
    "testDataSub = Subset(testData, idxs)\n",
    "\n",
    "testDataLoader = DataLoader(testDataSub, batch_size=1)\n",
    "\n",
    "model = torch.load(\"model.pth\").to(device)\n",
    "model.eval()\n",
    "plt.rcParams['figure.figsize'] = (2,2)\n",
    "with torch.no_grad():\n",
    "\tfor (image, label) in testDataLoader:\n",
    "\t\torigImage = image.numpy().squeeze(axis=(0, 1))\n",
    "\t\tgtLabel = testDataSub.dataset.classes[label.numpy()[0]]\n",
    "\t\timage = image.to(device)\n",
    "\t\tpred = model(image)\n",
    "\t\tidx = pred.argmax(axis=1).cpu().numpy()[0]\n",
    "\t\tpredLabel = testDataSub.dataset.classes[idx]\n",
    "\t\torigImage = np.dstack([origImage] * 3)\n",
    "\t\torigImage = imutils.resize(origImage, width=128)\n",
    "\t\tcolor = (0, 255, 0) if gtLabel == predLabel else (0, 0, 255)\n",
    "\t\tcv2.putText(origImage, gtLabel, (2, 25),\n",
    "\t\t\tcv2.FONT_HERSHEY_SIMPLEX, 0.95, color, 2)\n",
    "\t\tprint(\"[INFO] ground truth label: {}, predicted label: {}\".format(\n",
    "\t\t\tgtLabel, predLabel))\n",
    "\t\tplt.imshow((origImage*255).astype(np.uint16))\n",
    "\t\tplt.show()\n"
   ]
  },
  {
   "cell_type": "code",
   "execution_count": null,
   "metadata": {
    "colab": {
     "base_uri": "https://localhost:8080/",
     "height": 171
    },
    "id": "cDXb5Q9GbNrT",
    "outputId": "6dfbf187-84ef-4806-d064-934c53b2e663"
   },
   "outputs": [
    {
     "ename": "NameError",
     "evalue": "ignored",
     "output_type": "error",
     "traceback": [
      "\u001b[0;31m---------------------------------------------------------------------------\u001b[0m",
      "\u001b[0;31mNameError\u001b[0m                                 Traceback (most recent call last)",
      "\u001b[0;32m<ipython-input-14-a4e021f6ae5b>\u001b[0m in \u001b[0;36m<cell line: 1>\u001b[0;34m()\u001b[0m\n\u001b[0;32m----> 1\u001b[0;31m \u001b[0mtestDataSub\u001b[0m\u001b[0;34m.\u001b[0m\u001b[0mdataset\u001b[0m\u001b[0;34m.\u001b[0m\u001b[0mclasses\u001b[0m\u001b[0;34m\u001b[0m\u001b[0;34m\u001b[0m\u001b[0m\n\u001b[0m",
      "\u001b[0;31mNameError\u001b[0m: name 'testDataSub' is not defined"
     ]
    }
   ],
   "source": [
    "testDataSub.dataset.classes"
   ]
  }
 ],
 "metadata": {
  "accelerator": "GPU",
  "colab": {
   "provenance": []
  },
  "gpuClass": "standard",
  "kernelspec": {
   "display_name": "Python 3",
   "language": "python",
   "name": "python3"
  },
  "language_info": {
   "codemirror_mode": {
    "name": "ipython",
    "version": 3
   },
   "file_extension": ".py",
   "mimetype": "text/x-python",
   "name": "python",
   "nbconvert_exporter": "python",
   "pygments_lexer": "ipython3",
   "version": "3.8.3"
  }
 },
 "nbformat": 4,
 "nbformat_minor": 1
}
